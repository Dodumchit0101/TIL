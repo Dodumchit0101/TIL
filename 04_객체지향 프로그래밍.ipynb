{
 "cells": [
  {
   "cell_type": "markdown",
   "metadata": {},
   "source": [
    "# 객체지향 프로그래밍\n",
    "\n",
    "## Class(클래스) 정의\n",
    "- 객체의 설계도\n",
    "    - 동일한 형태의 객체들이 가져야 하는 Attribute와 메소드(Method)를 정의한 것\n",
    "    - 클래스로부터 객체(instance)를 생성\n",
    "- 구문\n",
    "```python\n",
    "class 클래스 이름: #클래스 선언부\n",
    "    # 클래스 구현부\n",
    "    # 메소드들을 정의\n",
    "```\n",
    "- 클래스 이름의 관례\n",
    "    - 파스칼 표기법: 각 단어의 첫 글자는 대문자, 나머지는 소문자로 표기\n",
    "        - ex) BankAccount(언더바 아니고 대문자), Person\n",
    "\n",
    "- 객체 생성\n",
    "```python\n",
    "변수 = 클래스 이름()\n",
    "```"
   ]
  },
  {
   "cell_type": "code",
   "execution_count": null,
   "metadata": {},
   "outputs": [],
   "source": [
    "고객이름 = 10\n",
    "print(고객이름)\n",
    "제품이름 = \"노트북\"\n",
    "def 고객():\n",
    "    pass\n",
    "def 제품():\n",
    "    pass"
   ]
  },
  {
   "cell_type": "code",
   "execution_count": null,
   "metadata": {},
   "outputs": [],
   "source": [
    "class 고객:\n",
    "    고객이름\n",
    "    def 고객()"
   ]
  },
  {
   "cell_type": "code",
   "execution_count": null,
   "metadata": {},
   "outputs": [],
   "source": [
    "class 제품:\n",
    "    제품이름\n",
    "    제품가격\n",
    "    def 제품():"
   ]
  },
  {
   "cell_type": "code",
   "execution_count": 1,
   "metadata": {},
   "outputs": [],
   "source": [
    "# 공통적인 요소를 가지고 있는 애들끼리 묶어서 코드를 유지보수하기 쉽게\n",
    "# 클래스에서의 요소를 수정하면 그 밑의 구성원들도 다 수정됨\n",
    "# 게임 캐릭터 생각하기"
   ]
  },
  {
   "cell_type": "markdown",
   "metadata": {},
   "source": [
    "### Person 클래스를 작성\n",
    "- 객체 구성요소\n",
    "    - Instance 속성(Attribute)\n",
    "        - 객체의 데이터/상태\n",
    "        - 변수 : instance 변수(variable)\n",
    "    - Instance method\n",
    "        - 객체가 제공하는 기능\n",
    "        - 함수를 객체에 넣은 것\n",
    "1. Person의 속성은?\n",
    "2. Person의 method는?"
   ]
  },
  {
   "cell_type": "code",
   "execution_count": 1,
   "metadata": {},
   "outputs": [],
   "source": [
    "# 클래스 정의: 코드 작성+실행\n",
    "class Person:\n",
    "    pass  # 구현부를 비워둠"
   ]
  },
  {
   "cell_type": "code",
   "execution_count": 3,
   "metadata": {},
   "outputs": [],
   "source": [
    "# 객체 생성\n",
    "p1 = Person()"
   ]
  },
  {
   "cell_type": "code",
   "execution_count": 6,
   "metadata": {},
   "outputs": [
    {
     "name": "stdout",
     "output_type": "stream",
     "text": [
      "<class '__main__.Person'>\n"
     ]
    }
   ],
   "source": [
    "print(type(p1))\n",
    "# class는 instance의 타입\n",
    "# instance는 class의 값"
   ]
  },
  {
   "cell_type": "code",
   "execution_count": 8,
   "metadata": {},
   "outputs": [
    {
     "name": "stdout",
     "output_type": "stream",
     "text": [
      "<class 'int'> <class 'str'> <class 'list'> <class 'bool'> <class 'float'>\n"
     ]
    }
   ],
   "source": [
    "print(type(10), type(\"abc\"), type([1, 2, 3]), type(True), type(3.5))"
   ]
  },
  {
   "cell_type": "markdown",
   "metadata": {},
   "source": [
    "### Attribute\n",
    "- instance 변수\n",
    "- instance에 Attribute를 추가\n",
    "    1. Initializer(생성자)를 이용\n",
    "    2. 객체.속성명 = 값\n",
    "        - 주로 변경\n",
    "    3. 메소드를 이용\n",
    "        - 주로 변경\n",
    "- 조회\n",
    "    - 객체, 속성명"
   ]
  },
  {
   "cell_type": "code",
   "execution_count": 9,
   "metadata": {},
   "outputs": [],
   "source": [
    "p1 = Person()"
   ]
  },
  {
   "cell_type": "code",
   "execution_count": 10,
   "metadata": {},
   "outputs": [],
   "source": [
    "p1.name = \"Sam\""
   ]
  },
  {
   "cell_type": "code",
   "execution_count": 11,
   "metadata": {},
   "outputs": [],
   "source": [
    "p1. age = 30\n",
    "p1.address = \"Seoul\""
   ]
  },
  {
   "cell_type": "code",
   "execution_count": 12,
   "metadata": {},
   "outputs": [
    {
     "name": "stdout",
     "output_type": "stream",
     "text": [
      "Sam\n"
     ]
    }
   ],
   "source": [
    "print(p1.name)"
   ]
  },
  {
   "cell_type": "code",
   "execution_count": 13,
   "metadata": {},
   "outputs": [
    {
     "name": "stdout",
     "output_type": "stream",
     "text": [
      "30\n"
     ]
    }
   ],
   "source": [
    "print(p1.age)"
   ]
  },
  {
   "cell_type": "code",
   "execution_count": 14,
   "metadata": {},
   "outputs": [
    {
     "name": "stdout",
     "output_type": "stream",
     "text": [
      "Seoul\n"
     ]
    }
   ],
   "source": [
    "print(p1.address)"
   ]
  },
  {
   "cell_type": "code",
   "execution_count": 15,
   "metadata": {},
   "outputs": [
    {
     "ename": "NameError",
     "evalue": "name 'address' is not defined",
     "output_type": "error",
     "traceback": [
      "\u001b[1;31m---------------------------------------------------------------------------\u001b[0m",
      "\u001b[1;31mNameError\u001b[0m                                 Traceback (most recent call last)",
      "\u001b[1;32m<ipython-input-15-e466662d3322>\u001b[0m in \u001b[0;36m<module>\u001b[1;34m\u001b[0m\n\u001b[1;32m----> 1\u001b[1;33m \u001b[0mprint\u001b[0m\u001b[1;33m(\u001b[0m\u001b[0maddress\u001b[0m\u001b[1;33m)\u001b[0m\u001b[1;33m\u001b[0m\u001b[1;33m\u001b[0m\u001b[0m\n\u001b[0m",
      "\u001b[1;31mNameError\u001b[0m: name 'address' is not defined"
     ]
    }
   ],
   "source": [
    "print(address)"
   ]
  },
  {
   "cell_type": "code",
   "execution_count": 17,
   "metadata": {},
   "outputs": [],
   "source": [
    "p1.email = \"abc@abc.com\""
   ]
  },
  {
   "cell_type": "code",
   "execution_count": 18,
   "metadata": {},
   "outputs": [
    {
     "name": "stdout",
     "output_type": "stream",
     "text": [
      "abc@abc.com\n"
     ]
    }
   ],
   "source": [
    "print(p1.email)"
   ]
  },
  {
   "cell_type": "code",
   "execution_count": 19,
   "metadata": {},
   "outputs": [
    {
     "ename": "AttributeError",
     "evalue": "'Person' object has no attribute 'name'",
     "output_type": "error",
     "traceback": [
      "\u001b[1;31m---------------------------------------------------------------------------\u001b[0m",
      "\u001b[1;31mAttributeError\u001b[0m                            Traceback (most recent call last)",
      "\u001b[1;32m<ipython-input-19-867b4e6c01ae>\u001b[0m in \u001b[0;36m<module>\u001b[1;34m\u001b[0m\n\u001b[0;32m      1\u001b[0m \u001b[0mp2\u001b[0m \u001b[1;33m=\u001b[0m \u001b[0mPerson\u001b[0m\u001b[1;33m(\u001b[0m\u001b[1;33m)\u001b[0m\u001b[1;33m\u001b[0m\u001b[1;33m\u001b[0m\u001b[0m\n\u001b[1;32m----> 2\u001b[1;33m \u001b[0mprint\u001b[0m\u001b[1;33m(\u001b[0m\u001b[0mp2\u001b[0m\u001b[1;33m.\u001b[0m\u001b[0mname\u001b[0m\u001b[1;33m)\u001b[0m\u001b[1;33m\u001b[0m\u001b[1;33m\u001b[0m\u001b[0m\n\u001b[0m",
      "\u001b[1;31mAttributeError\u001b[0m: 'Person' object has no attribute 'name'"
     ]
    }
   ],
   "source": [
    "p2 = Person()\n",
    "print(p2.name)"
   ]
  },
  {
   "cell_type": "markdown",
   "metadata": {},
   "source": [
    "## Initializer (생성자)\n",
    "- 역할: 클래스로부터 instance를 생성할 때 instance 변수(속성)을 초기화함\n",
    "- 객체 생성 시 딱 한 번만 호출되는 특이한 형태의 메소드\n",
    "- 구문\n",
    "```python\n",
    "class 클래스:\n",
    "    \n",
    "    def __init__(self [, 매개변수, ... ]):\n",
    "        # 구현\n",
    "        # self.변수명 = 값\n",
    "    \n",
    "```\n",
    "\n",
    "## self 변수\n",
    "- 생성자(Initializer)나 메소드(객체의 기능)의 첫번째 매개변수로 선언\n",
    "    - 현재 객체(instance)를 전달받는 변수\n",
    "- Initializer의 self: 현재 생성되고 있는 객체\n",
    "- 메소드\n",
    "    - 메소드를 호출한 객체(메소드 소유 객체)\n",
    "- 생성자/메소드 정의 시 호출할 때 전달 받을 값을 저장하는 매개변수는 두번째부터 선언한다"
   ]
  },
  {
   "cell_type": "code",
   "execution_count": 2,
   "metadata": {},
   "outputs": [],
   "source": [
    "class Person:\n",
    "    # initializer(생성자) 구현\n",
    "    def __init__(self, name, age, address):\n",
    "        # Attribute를 매개변수로 받은 값으로 초기화\n",
    "        self.name = name  #self.name: instance 변수 name\n",
    "        self.age = age\n",
    "        self.address = address"
   ]
  },
  {
   "cell_type": "code",
   "execution_count": 3,
   "metadata": {},
   "outputs": [],
   "source": [
    "p1 = Person(\"Sam\", 30, \"Seoul\")"
   ]
  },
  {
   "cell_type": "code",
   "execution_count": 4,
   "metadata": {},
   "outputs": [
    {
     "name": "stdout",
     "output_type": "stream",
     "text": [
      "Sam 30 Seoul\n"
     ]
    }
   ],
   "source": [
    "print(p1.name, p1.age, p1.address)"
   ]
  },
  {
   "cell_type": "code",
   "execution_count": 5,
   "metadata": {},
   "outputs": [],
   "source": [
    "p2 = Person(\"John\", 20, \"Incheon\")"
   ]
  },
  {
   "cell_type": "code",
   "execution_count": 6,
   "metadata": {},
   "outputs": [
    {
     "name": "stdout",
     "output_type": "stream",
     "text": [
      "John 20 Incheon\n"
     ]
    }
   ],
   "source": [
    "print(p2.name, p2.age, p2.address)"
   ]
  },
  {
   "cell_type": "code",
   "execution_count": 7,
   "metadata": {},
   "outputs": [
    {
     "name": "stdout",
     "output_type": "stream",
     "text": [
      "Kim 40 None\n"
     ]
    }
   ],
   "source": [
    "p3 = Person(\"Kim\", 40, None)\n",
    "print(p3.name, p3.age, p3.address)"
   ]
  },
  {
   "cell_type": "code",
   "execution_count": 8,
   "metadata": {},
   "outputs": [],
   "source": [
    "p1.age = 100"
   ]
  },
  {
   "cell_type": "code",
   "execution_count": 10,
   "metadata": {},
   "outputs": [
    {
     "name": "stdout",
     "output_type": "stream",
     "text": [
      "100 20\n"
     ]
    }
   ],
   "source": [
    "print(p1.age, p2.age)"
   ]
  },
  {
   "cell_type": "code",
   "execution_count": 11,
   "metadata": {},
   "outputs": [],
   "source": [
    "p1_1 = {\n",
    "}"
   ]
  },
  {
   "cell_type": "code",
   "execution_count": 12,
   "metadata": {},
   "outputs": [],
   "source": [
    "p1_1['name']='홍길동'"
   ]
  },
  {
   "cell_type": "markdown",
   "metadata": {},
   "source": [
    "## Instance 메소드(method)\n",
    "- 객체의 기능(객체가 제공하는 기능)\n",
    "- 주로 instance 변수(Attribute)의 값을 처리하는 역할\n",
    "- 구문 (함수 구문과 **거의** 동일\n",
    "```python\n",
    "def 이름(self [ , 매개변수, ... )\n",
    "    # 구현부\n",
    "    # self를 이용해서 객체의 속성이나 메소드 호출\n",
    "```\n",
    "- 메소드 이름 관례는 함수, 변수와 동일\n",
    "    -snake 표기법: 모두 소문자로 주고 단어와 단어 사이는 \"_\"로 연결\n",
    "- self 매개변수: 메소드가 호출된 객체(instance)를 가리킨다\n",
    "- 메소드 호출\n",
    "    - 객체.메소드이름(argument1 [argument2, ...])\n",
    "    - argument1 -> 두번째 매개변수, argument2 -> 세번째 매개변수"
   ]
  },
  {
   "cell_type": "code",
   "execution_count": 19,
   "metadata": {},
   "outputs": [],
   "source": [
    "class Person2:\n",
    "    #생성자\n",
    "    def __init__(self, name, age, address=None):\n",
    "        self.name = name\n",
    "        self.age = age\n",
    "        self.address = address\n",
    "    #모든 instance 변수의 값을 출력하는 메소드\n",
    "    def print_info(self):\n",
    "        print(f\"이름: {self.name}, 나이: {self.age}, 주소: {self.address}\")\n",
    "        \n",
    "    # 모든 instance 변수의 값들을 한번에 변경하는 메소드\n",
    "    def set_info(self, name, age, address):\n",
    "        self.name = name\n",
    "        self.age = age\n",
    "        self.address = address\n",
    "        \n",
    "    # 나이에 매개변수로 받은 값을 더한 값으로 변경하는 메소드\n",
    "    def add_age(self, add_age=0):\n",
    "        self.age = self.age + add_age\n",
    "    #    self.age += add_age"
   ]
  },
  {
   "cell_type": "code",
   "execution_count": 21,
   "metadata": {},
   "outputs": [],
   "source": [
    "p1 = Person2(\"Jonathan\", 45, \"Busan\")"
   ]
  },
  {
   "cell_type": "code",
   "execution_count": 23,
   "metadata": {},
   "outputs": [
    {
     "name": "stdout",
     "output_type": "stream",
     "text": [
      "이름: Jonathan, 나이: 45, 주소: Busan\n"
     ]
    }
   ],
   "source": [
    "p1.print_info()"
   ]
  },
  {
   "cell_type": "code",
   "execution_count": 25,
   "metadata": {},
   "outputs": [],
   "source": [
    "p1.set_info(\"Jonas\", 30, \"Incheon\")"
   ]
  },
  {
   "cell_type": "code",
   "execution_count": 26,
   "metadata": {},
   "outputs": [
    {
     "name": "stdout",
     "output_type": "stream",
     "text": [
      "이름: Jonas, 나이: 30, 주소: Incheon\n"
     ]
    }
   ],
   "source": [
    "p1.print_info()"
   ]
  },
  {
   "cell_type": "code",
   "execution_count": 27,
   "metadata": {},
   "outputs": [],
   "source": [
    "p1.add_age(3)"
   ]
  },
  {
   "cell_type": "code",
   "execution_count": 28,
   "metadata": {},
   "outputs": [
    {
     "name": "stdout",
     "output_type": "stream",
     "text": [
      "이름: Jonas, 나이: 33, 주소: Incheon\n"
     ]
    }
   ],
   "source": [
    "p1.print_info()"
   ]
  },
  {
   "cell_type": "markdown",
   "metadata": {},
   "source": [
    "## 정보 은닉 (Information Hiding) \n",
    "- Instance 변수(Attribute)의 값을 외부에서 직접 접근(호출+변경/조회)하지 못하도록 막는다\n",
    "- 목적: 마음대로 값을 변경하지 못하도록 하기 위함\n",
    "- Instance 변수의 값을 변경(setter)/조회(getter)할 수 있는 메소드를 제공한다\n",
    "    - setter: instance 변수의 값을 변경하는 메소드. 관례 상 set으로 시작\n",
    "    - getter: instance 변수의 값을 조회(반환)하는 메소드. 관례 상 get으로 시작\n",
    "- 구현\n",
    "    - Instance 변수의 이름을 \"\\__\" 로 시작 ex) 'self.\\__name, self.\\__age'\n",
    "    - getter/setter 메소드를 제공 ex) set_name(), set_age()"
   ]
  },
  {
   "cell_type": "code",
   "execution_count": 44,
   "metadata": {},
   "outputs": [],
   "source": [
    "class MyDate:\n",
    "    \"\"\"\n",
    "    Instance 변수로 년, 월, 일(날짜)을 관리하는 클래스\n",
    "    \"\"\"\n",
    "    def __init__(self, year, month, day):\n",
    "        self.__year = year\n",
    "        self.__month = month\n",
    "        self.__day = day\n",
    "    \n",
    "    def set_month(self, month):\n",
    "        \"\"\"\n",
    "        월을 변경하는 메소드\n",
    "        [매개변수]\n",
    "            month: int - 월 (범위: 1 ~ 12)\n",
    "        \"\"\"\n",
    "        if month >=1  and month <= 12:\n",
    "            self.__month = month  # __변수: 같은 클래스 안에서는 호출 가능\n",
    "        else:\n",
    "            print(f\"{month}는 잘못된 값입니다. 1~12까지의 숫자를 입력해주세요.\")\n",
    "    def get_month(self):\n",
    "        \"\"\"\n",
    "        Instance 변수: 월을 반환하는 메소드\n",
    "        [반환값]\n",
    "            int: 월\n",
    "        \"\"\"\n",
    "        return self.__month"
   ]
  },
  {
   "cell_type": "code",
   "execution_count": 41,
   "metadata": {},
   "outputs": [],
   "source": []
  },
  {
   "cell_type": "code",
   "execution_count": 45,
   "metadata": {},
   "outputs": [],
   "source": [
    "date = MyDate(2021, 1, 13)"
   ]
  },
  {
   "cell_type": "code",
   "execution_count": 46,
   "metadata": {},
   "outputs": [
    {
     "name": "stdout",
     "output_type": "stream",
     "text": [
      "1\n"
     ]
    }
   ],
   "source": [
    "# print(date.__month)\n",
    "print(date.get_month())"
   ]
  },
  {
   "cell_type": "code",
   "execution_count": 47,
   "metadata": {},
   "outputs": [
    {
     "name": "stdout",
     "output_type": "stream",
     "text": [
      "500는 잘못된 값입니다. 1~12까지의 숫자를 입력해주세요.\n"
     ]
    }
   ],
   "source": [
    "date.set_month(500)"
   ]
  },
  {
   "cell_type": "code",
   "execution_count": 48,
   "metadata": {},
   "outputs": [],
   "source": [
    "date.set_month(3)"
   ]
  },
  {
   "cell_type": "code",
   "execution_count": 49,
   "metadata": {},
   "outputs": [
    {
     "name": "stdout",
     "output_type": "stream",
     "text": [
      "3\n"
     ]
    }
   ],
   "source": [
    "print(date.get_month())"
   ]
  },
  {
   "cell_type": "code",
   "execution_count": 50,
   "metadata": {},
   "outputs": [
    {
     "data": {
      "text/plain": [
       "{'_MyDate__year': 2021, '_MyDate__month': 3, '_MyDate__day': 13}"
      ]
     },
     "execution_count": 50,
     "metadata": {},
     "output_type": "execute_result"
    }
   ],
   "source": [
    "# 객체.__dict__ : 객체의 instance 변수들을 확인\n",
    "date.__dict__"
   ]
  },
  {
   "cell_type": "code",
   "execution_count": 51,
   "metadata": {},
   "outputs": [],
   "source": [
    "date._MyDate__month = 55555 # 변수이름이 바뀜"
   ]
  },
  {
   "cell_type": "code",
   "execution_count": 52,
   "metadata": {},
   "outputs": [
    {
     "data": {
      "text/plain": [
       "55555"
      ]
     },
     "execution_count": 52,
     "metadata": {},
     "output_type": "execute_result"
    }
   ],
   "source": [
    "date.get_month()"
   ]
  },
  {
   "cell_type": "code",
   "execution_count": 90,
   "metadata": {},
   "outputs": [],
   "source": [
    "class MyDate2:\n",
    "    \n",
    "    def __init__(self, year, month, day):\n",
    "        self.__year = year\n",
    "        self.__month = month\n",
    "        self.__day = day\n",
    "        \n",
    "    def set_year(self, year):\n",
    "        print(\">>> set year\")\n",
    "        self.__year = year\n",
    "        \n",
    "    def get_year(self):\n",
    "        print(\">> get year\")\n",
    "        return self.__year\n",
    "    \n",
    "    def set_month(self, month):\n",
    "        print(\">>set month\")\n",
    "        self.__month = month\n",
    "        \n",
    "    def get_month(self):\n",
    "        print(\">> get month\")\n",
    "        return self.__month\n",
    "    \n",
    "    def set_day(self, day):\n",
    "        print(\">> set day\")\n",
    "        self.__day = day\n",
    "        \n",
    "    def get_day(self):\n",
    "        print(\">> get day\")\n",
    "        return self.__day\n",
    "    \n",
    "    # property(getter, setter)\n",
    "    # 외부에서 변수명으로 호출하면 getter 메소드를 변수에 값을 대입하면 setter 메소드를 호출해준다\n",
    "    year = property(get_year, set_year)\n",
    "    month = property(get_month, set_month)\n",
    "    day = property(get_day, set_day)"
   ]
  },
  {
   "cell_type": "code",
   "execution_count": 81,
   "metadata": {},
   "outputs": [],
   "source": [
    "today = MyDate2(2013, 1, 13)"
   ]
  },
  {
   "cell_type": "code",
   "execution_count": 82,
   "metadata": {},
   "outputs": [
    {
     "name": "stdout",
     "output_type": "stream",
     "text": [
      ">> get year\n",
      "2013\n"
     ]
    }
   ],
   "source": [
    "print(today.year)"
   ]
  },
  {
   "cell_type": "code",
   "execution_count": 83,
   "metadata": {},
   "outputs": [
    {
     "name": "stdout",
     "output_type": "stream",
     "text": [
      ">>> set year\n"
     ]
    }
   ],
   "source": [
    "today.year = 2030"
   ]
  },
  {
   "cell_type": "code",
   "execution_count": 84,
   "metadata": {},
   "outputs": [
    {
     "name": "stdout",
     "output_type": "stream",
     "text": [
      ">> get year\n",
      "2030\n"
     ]
    }
   ],
   "source": [
    "print(today.year)"
   ]
  },
  {
   "cell_type": "code",
   "execution_count": 85,
   "metadata": {},
   "outputs": [],
   "source": [
    "today.month = 10\n",
    "today.day = 30"
   ]
  },
  {
   "cell_type": "code",
   "execution_count": 86,
   "metadata": {},
   "outputs": [
    {
     "name": "stdout",
     "output_type": "stream",
     "text": [
      "10\n",
      "30\n"
     ]
    }
   ],
   "source": [
    "print(today.month)\n",
    "print(today.day)"
   ]
  },
  {
   "cell_type": "code",
   "execution_count": 91,
   "metadata": {},
   "outputs": [
    {
     "data": {
      "text/plain": [
       "10"
      ]
     },
     "execution_count": 91,
     "metadata": {},
     "output_type": "execute_result"
    }
   ],
   "source": [
    "today.month"
   ]
  },
  {
   "cell_type": "code",
   "execution_count": 92,
   "metadata": {},
   "outputs": [
    {
     "data": {
      "text/plain": [
       "30"
      ]
     },
     "execution_count": 92,
     "metadata": {},
     "output_type": "execute_result"
    }
   ],
   "source": [
    "today.day"
   ]
  },
  {
   "cell_type": "code",
   "execution_count": 93,
   "metadata": {},
   "outputs": [
    {
     "data": {
      "text/plain": [
       "{'_MyDate2__year': 2030,\n",
       " '_MyDate2__month': 1,\n",
       " '_MyDate2__day': 13,\n",
       " 'month': 10,\n",
       " 'day': 30}"
      ]
     },
     "execution_count": 93,
     "metadata": {},
     "output_type": "execute_result"
    }
   ],
   "source": [
    "today.__dict__"
   ]
  },
  {
   "cell_type": "code",
   "execution_count": null,
   "metadata": {},
   "outputs": [],
   "source": [
    "# setter/getter + property 변수를 지정하는 것을 setter/getter 메소드에 직접 설정\n",
    "# 데코레이터(Decorator) 이용\n",
    "# 1. getter/setter 메소드의 이름을 호출될 때 사용할 변수명으로 지정\n",
    "# 2. getter 메소드에 @property 데코레이터를 추가\n",
    "# 3. setter 메소드에 @getter메소드이름.setter 데코레이터를 추가\n",
    "# 메소드 정의 순서는 반듯 getter를 먼저 정의해야 한다\n",
    "# getter/setter 메소드 명은 동일"
   ]
  },
  {
   "cell_type": "code",
   "execution_count": 1,
   "metadata": {},
   "outputs": [],
   "source": [
    "class MyDate3:\n",
    "    \n",
    "    def __init__(self, year, month, day):\n",
    "        self.__year = year\n",
    "        self.__month = month\n",
    "        self.__day = day\n",
    "        \n",
    "    # year의 값을 반환하는 메소드(getter)\n",
    "    @property\n",
    "    def year(self):\n",
    "        return self.__year\n",
    "    \n",
    "    # year의 값을 변경하는 메소드(setter)\n",
    "    @year.setter\n",
    "    def year(self, year):\n",
    "        self.__year = year\n",
    "    \n",
    "    # month\n",
    "    @property\n",
    "    def month(self):\n",
    "        return self.month\n",
    "    \n",
    "    @month.setter\n",
    "    def month(self, month):\n",
    "        self.__month = month\n",
    "        \n",
    "    # day\n",
    "    @property\n",
    "    def day(self):\n",
    "        return self.day\n",
    "    \n",
    "    @day.setter\n",
    "    def day(self, day):\n",
    "        self.__day = day"
   ]
  },
  {
   "cell_type": "code",
   "execution_count": 98,
   "metadata": {},
   "outputs": [],
   "source": [
    "today = MyDate3(2021, 1, 13)"
   ]
  },
  {
   "cell_type": "code",
   "execution_count": 99,
   "metadata": {},
   "outputs": [
    {
     "name": "stdout",
     "output_type": "stream",
     "text": [
      "2021\n"
     ]
    }
   ],
   "source": [
    "print(today.year)"
   ]
  },
  {
   "cell_type": "code",
   "execution_count": 101,
   "metadata": {},
   "outputs": [
    {
     "data": {
      "text/plain": [
       "{'_MyDate3__year': 2021, '_MyDate3__month': 1, '_MyDate3__day': 13}"
      ]
     },
     "execution_count": 101,
     "metadata": {},
     "output_type": "execute_result"
    }
   ],
   "source": [
    "today.__dict__"
   ]
  },
  {
   "cell_type": "code",
   "execution_count": 2,
   "metadata": {},
   "outputs": [],
   "source": [
    "today = MyDate3(2020, 4, 21)"
   ]
  },
  {
   "cell_type": "code",
   "execution_count": null,
   "metadata": {},
   "outputs": [],
   "source": []
  },
  {
   "cell_type": "code",
   "execution_count": 1,
   "metadata": {},
   "outputs": [
    {
     "ename": "NameError",
     "evalue": "name 'today' is not defined",
     "output_type": "error",
     "traceback": [
      "\u001b[1;31m---------------------------------------------------------------------------\u001b[0m",
      "\u001b[1;31mNameError\u001b[0m                                 Traceback (most recent call last)",
      "\u001b[1;32m<ipython-input-1-c72917776864>\u001b[0m in \u001b[0;36m<module>\u001b[1;34m\u001b[0m\n\u001b[1;32m----> 1\u001b[1;33m \u001b[0mprint\u001b[0m\u001b[1;33m(\u001b[0m\u001b[0mtoday\u001b[0m\u001b[1;33m.\u001b[0m\u001b[0mmonth\u001b[0m\u001b[1;33m)\u001b[0m\u001b[1;33m\u001b[0m\u001b[1;33m\u001b[0m\u001b[0m\n\u001b[0m",
      "\u001b[1;31mNameError\u001b[0m: name 'today' is not defined"
     ]
    }
   ],
   "source": [
    "print(today.month)"
   ]
  },
  {
   "cell_type": "code",
   "execution_count": null,
   "metadata": {},
   "outputs": [],
   "source": []
  },
  {
   "cell_type": "code",
   "execution_count": 3,
   "metadata": {},
   "outputs": [
    {
     "name": "stdout",
     "output_type": "stream",
     "text": [
      "yeah\n"
     ]
    }
   ],
   "source": [
    "print(\"yeah\")"
   ]
  },
  {
   "cell_type": "markdown",
   "metadata": {},
   "source": [
    "## TODO\n",
    "- 제품 클래스 구현\n",
    "- 속성 : 제품ID:str, 제품이름:str, 제품가격:int, 제조사:str\n",
    "-        정보 은닉에 맞춰서 작성. 값 대입/조회는 변수처리 방식 가능하도록\n",
    "- 메소드: 전체 정보를 출력하는 메소드\n",
    "\n",
    "메소드: setter-4, getter-4, 전체 정보 메소드-1"
   ]
  },
  {
   "cell_type": "code",
   "execution_count": 31,
   "metadata": {},
   "outputs": [],
   "source": [
    "class Thing:\n",
    "    def __init__(self, ID, name, price, maker):\n",
    "        self.__ID = ID\n",
    "        self.__name = name\n",
    "        self.__price = price\n",
    "        self.__maker = maker\n",
    "    \n",
    "    # 전체 정보 출력\n",
    "    def print_info(self):\n",
    "        print(f\"제품 ID: {self.__ID}, 제품명: {self.__name}, 가격: {self.__price}, 제조사: {self.__maker}\")\n",
    "    \n",
    "    #ID\n",
    "    @property\n",
    "    def ID(self):\n",
    "        return self.__ID\n",
    "    \n",
    "    @ID.setter\n",
    "    def ID(self, ID):\n",
    "        self.__ID = ID\n",
    "        \n",
    "    # name\n",
    "    @property\n",
    "    def name(self):\n",
    "        return name.__ID\n",
    "    \n",
    "    @name.setter\n",
    "    def name(self, name):\n",
    "        self.__name = name\n",
    "        \n",
    "    # price\n",
    "    @property\n",
    "    def price(self):\n",
    "        return self.__price\n",
    "    \n",
    "    @price.setter\n",
    "    def price(self, price):\n",
    "        self.__price = price\n",
    "        \n",
    "    # maker\n",
    "    @property\n",
    "    def maker(self):\n",
    "        return self.__maker\n",
    "    \n",
    "    @maker.setter\n",
    "    def maker(self, maker):\n",
    "        self.__maker = maker"
   ]
  },
  {
   "cell_type": "code",
   "execution_count": 32,
   "metadata": {},
   "outputs": [
    {
     "name": "stdout",
     "output_type": "stream",
     "text": [
      "제품 ID: Yes, 제품명: banana, 가격: 50, 제조사: Banban\n"
     ]
    }
   ],
   "source": [
    "thing1 = Thing(\"Yes\", \"banana\", 50, \"Banban\")\n",
    "thing1.print_info()"
   ]
  },
  {
   "cell_type": "code",
   "execution_count": 24,
   "metadata": {},
   "outputs": [
    {
     "name": "stdout",
     "output_type": "stream",
     "text": [
      "Yes\n"
     ]
    }
   ],
   "source": [
    "print(thing1.ID)"
   ]
  },
  {
   "cell_type": "code",
   "execution_count": 33,
   "metadata": {},
   "outputs": [
    {
     "name": "stdout",
     "output_type": "stream",
     "text": [
      "Sumsang\n"
     ]
    }
   ],
   "source": [
    "thing1.maker = \"Sumsang\"\n",
    "print(thing1.maker)"
   ]
  },
  {
   "cell_type": "markdown",
   "metadata": {},
   "source": [
    "## 상속\n",
    "- 기존 클래스를 확장해서 새로운 클래스를 구현하는 방식"
   ]
  },
  {
   "cell_type": "code",
   "execution_count": 1,
   "metadata": {},
   "outputs": [],
   "source": [
    "class Person:\n",
    "    \n",
    "    def eat(self):\n",
    "        print(\"사람이 먹는다.\")  # 모든 하위 클래스들에 적용될 수 있는 구현만 가능\n",
    "                                    # => 메소드의 구현이 추상적"
   ]
  },
  {
   "cell_type": "code",
   "execution_count": 2,
   "metadata": {},
   "outputs": [],
   "source": [
    "# eat(), study()\n",
    "# Person: 상위(Super) 클래스\n",
    "# Student: 하위(Sub) 클래스\n",
    "class Student(Person):\n",
    "    \n",
    "    def study(self):\n",
    "        print(\"학생이 공부한다.\")"
   ]
  },
  {
   "cell_type": "code",
   "execution_count": 6,
   "metadata": {},
   "outputs": [],
   "source": [
    "class Teacher(Person):\n",
    "    def teach(self):\n",
    "        print(\"선생이 가르친다.\")"
   ]
  },
  {
   "cell_type": "code",
   "execution_count": 4,
   "metadata": {},
   "outputs": [
    {
     "name": "stdout",
     "output_type": "stream",
     "text": [
      "학생이 공부한다.\n",
      "사람이 먹는다.\n"
     ]
    }
   ],
   "source": [
    "s = Student()\n",
    "s.study()\n",
    "s.eat()"
   ]
  },
  {
   "cell_type": "code",
   "execution_count": 9,
   "metadata": {},
   "outputs": [
    {
     "name": "stdout",
     "output_type": "stream",
     "text": [
      "선생이 가르친다.\n",
      "사람이 먹는다.\n"
     ]
    }
   ],
   "source": [
    "t = Teacher()\n",
    "t.teach()\n",
    "t.eat()"
   ]
  },
  {
   "cell_type": "code",
   "execution_count": 14,
   "metadata": {},
   "outputs": [],
   "source": [
    "# 상속 받은 메소드를 하위 클래스에서 재정의 가능 - 메소드 오버라이딩(overriding)\n",
    "# 상위 클래스에 정의된 메소드는 추상적이므로 하위 클래스에서 그 클래스가 해야\n",
    "#   하는 동작에 맞게 구현을 재정의\n",
    "class Student2(Person):\n",
    "    def eat(self):\n",
    "        print(\"학생이 먹는다\")\n",
    "        \n",
    "    def study(self):\n",
    "        print(\"학생이 공부한다.\")"
   ]
  },
  {
   "cell_type": "code",
   "execution_count": 15,
   "metadata": {},
   "outputs": [
    {
     "name": "stdout",
     "output_type": "stream",
     "text": [
      "학생이 먹는다\n",
      "학생이 공부한다.\n"
     ]
    }
   ],
   "source": [
    "s2 = Student2()\n",
    "s2.eat()\n",
    "s2.study()"
   ]
  },
  {
   "cell_type": "code",
   "execution_count": 22,
   "metadata": {},
   "outputs": [],
   "source": [
    "class Person:\n",
    "    \n",
    "    def __init__(self, name, age):\n",
    "        self.name = name\n",
    "        self.age = age\n",
    "    \n",
    "    def eat(self):\n",
    "        print(f\"{self.name}군이 먹는다\")\n",
    "        \n",
    "    # Person의 모든 instance 변수들의 값들(전체 정보)을 묶어서 반환    \n",
    "    def get_info(self):\n",
    "        return f\"이름:{self.name}, 나이:{self.age}세\""
   ]
  },
  {
   "cell_type": "code",
   "execution_count": 23,
   "metadata": {},
   "outputs": [
    {
     "name": "stdout",
     "output_type": "stream",
     "text": [
      "Sam군이 먹는다\n",
      "이름:Sam, 나이:20세\n"
     ]
    }
   ],
   "source": [
    "p = Person(\"Sam\", 20)\n",
    "p.eat()\n",
    "info = p.get_info()\n",
    "print(info)"
   ]
  },
  {
   "cell_type": "code",
   "execution_count": 52,
   "metadata": {},
   "outputs": [],
   "source": [
    "class Student(Person):\n",
    "    \n",
    "    def __init__(self, name, age, school_name):\n",
    "        # 상위 클래스 Person의 객체에 name과 age를 전달\n",
    "        super().__init__(name, age)\n",
    "        self.school_name = school_name #Student의 속성\n",
    "        \n",
    "    def study(self):\n",
    "        print(f\"학생 {self.name}이 공부한다.\")\n",
    "        \n",
    "    def get_info(self):\n",
    "        info = super().get_info()+\", 학교명: {}\".format(self.school_name)\n",
    "        return info\n",
    "    #    return f\"이름:{self.name}, 나이:{self.age}세, 학교명:{self.school_name}\""
   ]
  },
  {
   "cell_type": "code",
   "execution_count": 53,
   "metadata": {},
   "outputs": [],
   "source": [
    "s = Student(\"Jonas\", 15, \"A Middle School\")"
   ]
  },
  {
   "cell_type": "code",
   "execution_count": 54,
   "metadata": {
    "scrolled": true
   },
   "outputs": [
    {
     "name": "stdout",
     "output_type": "stream",
     "text": [
      "A Middle School\n",
      "Jonas 15\n"
     ]
    }
   ],
   "source": [
    "print(s.school_name)\n",
    "print(s.name, s.age)"
   ]
  },
  {
   "cell_type": "code",
   "execution_count": 55,
   "metadata": {},
   "outputs": [
    {
     "name": "stdout",
     "output_type": "stream",
     "text": [
      "학생 Jonas이 공부한다.\n"
     ]
    }
   ],
   "source": [
    "s.study()"
   ]
  },
  {
   "cell_type": "code",
   "execution_count": 56,
   "metadata": {},
   "outputs": [
    {
     "name": "stdout",
     "output_type": "stream",
     "text": [
      "이름:Jonas, 나이:15세, 학교명: A Middle School\n"
     ]
    }
   ],
   "source": [
    "info = s.get_info()\n",
    "print(info)"
   ]
  },
  {
   "cell_type": "code",
   "execution_count": 42,
   "metadata": {},
   "outputs": [
    {
     "name": "stdout",
     "output_type": "stream",
     "text": [
      "Jonas군이 먹는다\n"
     ]
    }
   ],
   "source": [
    "s.eat()"
   ]
  },
  {
   "cell_type": "code",
   "execution_count": null,
   "metadata": {},
   "outputs": [],
   "source": []
  },
  {
   "cell_type": "code",
   "execution_count": 29,
   "metadata": {},
   "outputs": [],
   "source": [
    "s2 = Student(\"Jonathan\", 13, \"B Middle School\")"
   ]
  },
  {
   "cell_type": "code",
   "execution_count": 32,
   "metadata": {},
   "outputs": [
    {
     "name": "stdout",
     "output_type": "stream",
     "text": [
      "Jonathan\n"
     ]
    }
   ],
   "source": [
    "print(s2.name)"
   ]
  },
  {
   "cell_type": "markdown",
   "metadata": {},
   "source": [
    "클래스 이름() - Student(\"aa\", 20, \"aaa\") : 객체 생성\n",
    "1. 객체를 만든다\n",
    "    - 상속 : 상하위 클래스의 객체를 모두 생성 - 상속으로 묶임\n",
    "2. 생성자 호출(\"\\_\\_init__\")\n",
    "    - 상속 : \"super().\\_\\_init__()\"을 이용해 하위 클래스의 생성자에서 상위 클래스의 생성자를 호출할 수 있음"
   ]
  },
  {
   "cell_type": "markdown",
   "metadata": {},
   "source": [
    "## 다중상속\n",
    "- 여러 클래스를 상속 받는 것\n",
    "- MRO (Method Resolution Order): 호출된 메소드를 찾는 순서\n",
    "    1. 자기 자신\n",
    "    2. 상위 클래스: 상속 시 먼저 선언된 클래스 순서대로 메소드를 찾음(왼->오른) "
   ]
  },
  {
   "cell_type": "code",
   "execution_count": 67,
   "metadata": {},
   "outputs": [],
   "source": [
    "class Printer:\n",
    "    def print(self):\n",
    "        print(\"프린트한다.\")\n",
    "\n",
    "    def test(self):\n",
    "        print(\"프린트 기능 테스트\")\n",
    "        \n",
    "class Saver:\n",
    "    def save(self):\n",
    "        print(\"저장한다.\")\n",
    "        \n",
    "    def test(self):\n",
    "        print(\"저장 기능 테스트\")"
   ]
  },
  {
   "cell_type": "code",
   "execution_count": 71,
   "metadata": {},
   "outputs": [],
   "source": [
    "class WordProcessor(Printer, Saver):\n",
    "    \n",
    "    def write(self):\n",
    "        print(\"글을 작성한다.\")\n",
    "        \n",
    "    def test(self):\n",
    "        print(\"워드 테스트.\")"
   ]
  },
  {
   "cell_type": "code",
   "execution_count": 72,
   "metadata": {},
   "outputs": [
    {
     "name": "stdout",
     "output_type": "stream",
     "text": [
      "글을 작성한다.\n",
      "프린트한다.\n",
      "저장한다.\n"
     ]
    }
   ],
   "source": [
    "wp = WordProcessor()\n",
    "wp.write() # WordProcessor\n",
    "wp.print() # Printer\n",
    "wp.save() # Saver"
   ]
  },
  {
   "cell_type": "code",
   "execution_count": 73,
   "metadata": {},
   "outputs": [
    {
     "name": "stdout",
     "output_type": "stream",
     "text": [
      "워드 테스트.\n"
     ]
    }
   ],
   "source": [
    "wp.test()"
   ]
  },
  {
   "cell_type": "markdown",
   "metadata": {},
   "source": [
    "## 상속/객체 관련 메소드, 변수"
   ]
  },
  {
   "cell_type": "code",
   "execution_count": 74,
   "metadata": {
    "scrolled": false
   },
   "outputs": [
    {
     "data": {
      "text/plain": [
       "True"
      ]
     },
     "execution_count": 74,
     "metadata": {},
     "output_type": "execute_result"
    }
   ],
   "source": [
    "# isinstance(객체, 클래스) - 객체가 클래스로부터 생성되었는지의 여부\n",
    "isinstance(\"abc\", str) # str: 문자열 클래스\n",
    "\n",
    "#p1 = Student()\n",
    "#p2 = Student()\n",
    "#p3 = Student()\n",
    "#Student 클래스로부터 생성\n",
    "\n",
    "#클래스: 타입, instance: 값"
   ]
  },
  {
   "cell_type": "code",
   "execution_count": 78,
   "metadata": {},
   "outputs": [
    {
     "data": {
      "text/plain": [
       "(True, False)"
      ]
     },
     "execution_count": 78,
     "metadata": {},
     "output_type": "execute_result"
    }
   ],
   "source": [
    "isinstance(30, int), isinstance(30, str)"
   ]
  },
  {
   "cell_type": "code",
   "execution_count": 76,
   "metadata": {},
   "outputs": [
    {
     "name": "stdout",
     "output_type": "stream",
     "text": [
      "<class 'str'>\n",
      "<class 'int'>\n"
     ]
    }
   ],
   "source": [
    "print(type(\"abc\"))\n",
    "print(type(20))"
   ]
  },
  {
   "cell_type": "code",
   "execution_count": 83,
   "metadata": {},
   "outputs": [],
   "source": [
    "def test(var):  # 매개변수 var의 타입이 int\n",
    "#    if isinstance(var, int):\n",
    "    if type(var) == int:\n",
    "        print(var+20)\n",
    "    else:\n",
    "        print(\"정수만 가능\")"
   ]
  },
  {
   "cell_type": "code",
   "execution_count": 82,
   "metadata": {},
   "outputs": [
    {
     "name": "stdout",
     "output_type": "stream",
     "text": [
      "30\n",
      "정수만 가능\n"
     ]
    }
   ],
   "source": [
    "test(10)\n",
    "test(\"abc\")"
   ]
  },
  {
   "cell_type": "code",
   "execution_count": 86,
   "metadata": {},
   "outputs": [
    {
     "data": {
      "text/plain": [
       "True"
      ]
     },
     "execution_count": 86,
     "metadata": {},
     "output_type": "execute_result"
    }
   ],
   "source": [
    "p = Student(\"a\", 20, \"c\")\n",
    "isinstance(p, Student)"
   ]
  },
  {
   "cell_type": "code",
   "execution_count": 87,
   "metadata": {},
   "outputs": [],
   "source": [
    "wp = WordProcessor()"
   ]
  },
  {
   "cell_type": "code",
   "execution_count": 88,
   "metadata": {},
   "outputs": [
    {
     "data": {
      "text/plain": [
       "True"
      ]
     },
     "execution_count": 88,
     "metadata": {},
     "output_type": "execute_result"
    }
   ],
   "source": [
    "isinstance(wp, WordProcessor)"
   ]
  },
  {
   "cell_type": "code",
   "execution_count": 91,
   "metadata": {},
   "outputs": [
    {
     "data": {
      "text/plain": [
       "(True, True, False)"
      ]
     },
     "execution_count": 91,
     "metadata": {},
     "output_type": "execute_result"
    }
   ],
   "source": [
    "# 객체의 타입을 물어보는 메소드\n",
    "# 객체 타입: 생성할 때 사용한 클래스, 상위 클래스\n",
    "# wp 객체의 타입: WordProcessor, Saver, Printer => True\n",
    "\n",
    "isinstance(wp, Saver), isinstance(wp, Printer), isinstance(wp, Student)"
   ]
  },
  {
   "cell_type": "code",
   "execution_count": 92,
   "metadata": {},
   "outputs": [],
   "source": [
    "# 객체.__dict__ : 객체의 속성 정보를 dictionary로 반환(key-속성명, value-속성값)\n",
    "# => 객체 변환 -> 딕셔너리"
   ]
  },
  {
   "cell_type": "code",
   "execution_count": 96,
   "metadata": {},
   "outputs": [
    {
     "data": {
      "text/plain": [
       "{'name': 'a', 'age': 20, 'school_name': 'c'}"
      ]
     },
     "execution_count": 96,
     "metadata": {},
     "output_type": "execute_result"
    }
   ],
   "source": [
    "p.__dict__  # 상하위 객체들의 속성을 모두 넣어서 변환"
   ]
  },
  {
   "cell_type": "code",
   "execution_count": 97,
   "metadata": {},
   "outputs": [
    {
     "data": {
      "text/plain": [
       "__main__.Student"
      ]
     },
     "execution_count": 97,
     "metadata": {},
     "output_type": "execute_result"
    }
   ],
   "source": [
    "p.__class__ #클래스 이름: __main.__Student"
   ]
  },
  {
   "cell_type": "code",
   "execution_count": 156,
   "metadata": {},
   "outputs": [],
   "source": [
    "class Person:\n",
    "    \n",
    "    def __init__(self, name, age):\n",
    "        self.name = name\n",
    "        self.age = age\n",
    "        \n",
    "    def __str__(self):\n",
    "        \"\"\"\n",
    "        객체를 문자열로 변환하는 메소드\n",
    "        내장함수 str(객체)과 연동\n",
    "        [반환값]\n",
    "            str: 객체의 정보(데이터) -> instance 변수들\n",
    "        \"\"\"\n",
    "        print(\">>>>>>>>>>>\")\n",
    "        return f\"이름: {self.name}, 나이: {self.age}\"\n",
    "    \n",
    "    def __repr__(self):\n",
    "        \"\"\"\n",
    "        객체를 표현하는 표현식을 문자열로 만들어 반환\n",
    "        내장함수 repr(객체)와 연동\n",
    "        [반환값]\n",
    "            str:\n",
    "        \"\"\"\n",
    "        return f'Person(\"{self.name}\", {self.age})'\n",
    "    \n",
    "    # __str__은 객체 그 자체의 값들, __repr__은 객체를 생성했던 코드를 반환\n",
    "    \n",
    "    def __eq__(self, other):\n",
    "        \"\"\"\n",
    "        연산자를 재정의, 객체의 instance 변수들의 값이 같으면 True가 나오도록 재정의\n",
    "        객체1 == 객체2, self: 객체1, other: 객체2\n",
    "        \"\"\"\n",
    "        result = False\n",
    "        if isinstance(other, Person):\n",
    "            if self.name == other.name and self.age == other.age:\n",
    "                return True\n",
    "        return result\n",
    "    \n",
    "    def __gt__(self, other):\n",
    "        \"\"\"\n",
    "        > 연산자를 재정의\n",
    "        객체1 > 객체 2, self: 객체1, other: 객체2\n",
    "        \"\"\"\n",
    "        result = False\n",
    "        if isinstance(other, Person):\n",
    "            if self.age > other.age:\n",
    "                return True\n",
    "            return result\n",
    "        \n",
    "# __lt__(self, other): self < other\n",
    "# __ge__(self, other): self >= other\n",
    "# __le__(self, other): self <= other\n",
    "# __ne__(self. other): self!= other\n",
    "    \n",
    "    def __add__(self, other):\n",
    "        \"\"\"\n",
    "        + 연산을 재정의\n",
    "        객체1 + 객체2\n",
    "        \"\"\"\n",
    "        result = None\n",
    "        if isinstance(other, int):\n",
    "            result = self.age + other\n",
    "        elif isinstance(other, Person):\n",
    "            result = self.age + other.age\n",
    "        return result\n",
    "    \n",
    "# __sub__(self, other): self - other\n",
    "# __mul__(self, other): self * other\n",
    "# __truediv__(self, other): self / other\n",
    "# __floordiv__(self, other): self // other (몫 구하기)\n",
    "# __mod__(self, other): self % other (나머지 연산)"
   ]
  },
  {
   "cell_type": "code",
   "execution_count": 153,
   "metadata": {},
   "outputs": [],
   "source": [
    "p1 = Person(\"Sam\", 20)\n",
    "p2 = Person(\"John\", 50)"
   ]
  },
  {
   "cell_type": "code",
   "execution_count": 154,
   "metadata": {},
   "outputs": [
    {
     "data": {
      "text/plain": [
       "50"
      ]
     },
     "execution_count": 154,
     "metadata": {},
     "output_type": "execute_result"
    }
   ],
   "source": [
    "p1 + 30"
   ]
  },
  {
   "cell_type": "code",
   "execution_count": 155,
   "metadata": {},
   "outputs": [
    {
     "data": {
      "text/plain": [
       "70"
      ]
     },
     "execution_count": 155,
     "metadata": {},
     "output_type": "execute_result"
    }
   ],
   "source": [
    "p1 + p2"
   ]
  },
  {
   "cell_type": "code",
   "execution_count": 145,
   "metadata": {},
   "outputs": [
    {
     "data": {
      "text/plain": [
       "False"
      ]
     },
     "execution_count": 145,
     "metadata": {},
     "output_type": "execute_result"
    }
   ],
   "source": [
    "p1 > p2\n"
   ]
  },
  {
   "cell_type": "code",
   "execution_count": 113,
   "metadata": {},
   "outputs": [
    {
     "name": "stdout",
     "output_type": "stream",
     "text": [
      "Person(\"Sam\", 20)\n"
     ]
    }
   ],
   "source": [
    "r = repr(p) #p.__repr__\n",
    "print(r)"
   ]
  },
  {
   "cell_type": "code",
   "execution_count": 118,
   "metadata": {},
   "outputs": [
    {
     "ename": "AttributeError",
     "evalue": "'str' object has no attribute 'name'",
     "output_type": "error",
     "traceback": [
      "\u001b[1;31m---------------------------------------------------------------------------\u001b[0m",
      "\u001b[1;31mAttributeError\u001b[0m                            Traceback (most recent call last)",
      "\u001b[1;32m<ipython-input-118-01d0c1e8c8d3>\u001b[0m in \u001b[0;36m<module>\u001b[1;34m\u001b[0m\n\u001b[1;32m----> 1\u001b[1;33m \u001b[0mr\u001b[0m\u001b[1;33m.\u001b[0m\u001b[0mname\u001b[0m\u001b[1;33m\u001b[0m\u001b[1;33m\u001b[0m\u001b[0m\n\u001b[0m",
      "\u001b[1;31mAttributeError\u001b[0m: 'str' object has no attribute 'name'"
     ]
    }
   ],
   "source": [
    "r.name"
   ]
  },
  {
   "cell_type": "code",
   "execution_count": 121,
   "metadata": {},
   "outputs": [
    {
     "data": {
      "text/plain": [
       "2"
      ]
     },
     "execution_count": 121,
     "metadata": {},
     "output_type": "execute_result"
    }
   ],
   "source": [
    "eval(\"1+1\")"
   ]
  },
  {
   "cell_type": "code",
   "execution_count": 119,
   "metadata": {},
   "outputs": [
    {
     "data": {
      "text/plain": [
       "'Sam'"
      ]
     },
     "execution_count": 119,
     "metadata": {},
     "output_type": "execute_result"
    }
   ],
   "source": [
    "a = eval(r)  # eval(문자열): 문자열을 코드로 평가해서 실행\n",
    "a.name"
   ]
  },
  {
   "cell_type": "code",
   "execution_count": null,
   "metadata": {},
   "outputs": [],
   "source": []
  },
  {
   "cell_type": "code",
   "execution_count": 114,
   "metadata": {},
   "outputs": [
    {
     "name": "stdout",
     "output_type": "stream",
     "text": [
      "Person(\"John\", 50)\n"
     ]
    }
   ],
   "source": [
    "print(repr(p2))"
   ]
  },
  {
   "cell_type": "code",
   "execution_count": 115,
   "metadata": {},
   "outputs": [
    {
     "name": "stdout",
     "output_type": "stream",
     "text": [
      "안녕\n"
     ]
    }
   ],
   "source": [
    "print(\"안녕\") # str(\"안녕\")"
   ]
  },
  {
   "cell_type": "code",
   "execution_count": 116,
   "metadata": {},
   "outputs": [
    {
     "data": {
      "text/plain": [
       "'안녕'"
      ]
     },
     "execution_count": 116,
     "metadata": {},
     "output_type": "execute_result"
    }
   ],
   "source": [
    "\"안녕\" # __repr__(\"안녕\")"
   ]
  },
  {
   "cell_type": "code",
   "execution_count": 105,
   "metadata": {},
   "outputs": [
    {
     "name": "stdout",
     "output_type": "stream",
     "text": [
      ">>>>>>>>>>>\n",
      "이름: Sam, 나이: 20\n"
     ]
    }
   ],
   "source": [
    "s = str(p) # Person 객체를 문자열 => __str__()\n",
    "print(s)"
   ]
  },
  {
   "cell_type": "code",
   "execution_count": 106,
   "metadata": {},
   "outputs": [
    {
     "name": "stdout",
     "output_type": "stream",
     "text": [
      ">>>>>>>>>>>\n",
      "이름: Sam, 나이: 20\n"
     ]
    }
   ],
   "source": [
    "print(p) #print() 함수가 내부에서 str() - 매개변수로 전달된 값을 문자열로 출력하는 함수\n"
   ]
  },
  {
   "cell_type": "code",
   "execution_count": 131,
   "metadata": {},
   "outputs": [],
   "source": [
    "p1 = Person(\"Sam\", 20)\n",
    "p2 = Person(\"Sam\", 20)"
   ]
  },
  {
   "cell_type": "code",
   "execution_count": 132,
   "metadata": {},
   "outputs": [
    {
     "data": {
      "text/plain": [
       "True"
      ]
     },
     "execution_count": 132,
     "metadata": {},
     "output_type": "execute_result"
    }
   ],
   "source": [
    "p1 == p2\n",
    "# 내용 같아서 True 나오게 바꿈"
   ]
  },
  {
   "cell_type": "code",
   "execution_count": 136,
   "metadata": {},
   "outputs": [
    {
     "ename": "TypeError",
     "evalue": "'>' not supported between instances of 'Person' and 'Person'",
     "output_type": "error",
     "traceback": [
      "\u001b[1;31m---------------------------------------------------------------------------\u001b[0m",
      "\u001b[1;31mTypeError\u001b[0m                                 Traceback (most recent call last)",
      "\u001b[1;32m<ipython-input-136-512e79f198f6>\u001b[0m in \u001b[0;36m<module>\u001b[1;34m\u001b[0m\n\u001b[1;32m----> 1\u001b[1;33m \u001b[0mp1\u001b[0m \u001b[1;33m>\u001b[0m \u001b[0mp2\u001b[0m\u001b[1;33m\u001b[0m\u001b[1;33m\u001b[0m\u001b[0m\n\u001b[0m",
      "\u001b[1;31mTypeError\u001b[0m: '>' not supported between instances of 'Person' and 'Person'"
     ]
    }
   ],
   "source": [
    "p1 > p2"
   ]
  },
  {
   "cell_type": "markdown",
   "metadata": {},
   "source": [
    "## class 변수, class 메소드\n",
    "- class 변수: 클래스 자체의 변수(속성, 데이터), class 메소드: 클래스 변수를 처리하는 메소드\n",
    "    -instance(객체)와는 관계없다\n",
    "    \n",
    "## static(정적) 메소드\n",
    "- 클래스의 기능을 제공하는 메소드\n",
    "    - 클래스 변수를 처리하는 일을 하지 않는다"
   ]
  },
  {
   "cell_type": "code",
   "execution_count": 5,
   "metadata": {},
   "outputs": [],
   "source": [
    "class Calculator:\n",
    "    \"\"\"다양한 연산을 하는 메소드들을 묶어놓은 클래스\"\"\"\n",
    "    # 클래스 변수: PI\n",
    "    PI = 3.14\n",
    "    \n",
    "    # 반지름을 받아서 원의 넓이를 구하는 메소드 만들기\n",
    "    @classmethod\n",
    "    def circleArea(clazz, radius):\n",
    "        result = radius * radius * clazz.PI\n",
    "        return result\n",
    "    \n",
    "    @staticmethod\n",
    "    def plus(*args):\n",
    "        return sum(args)\n",
    "    \n",
    "    @staticmethod\n",
    "    def minus(n1, n2):\n",
    "        return n1 - n2"
   ]
  },
  {
   "cell_type": "code",
   "execution_count": 2,
   "metadata": {},
   "outputs": [
    {
     "data": {
      "text/plain": [
       "3.14"
      ]
     },
     "execution_count": 2,
     "metadata": {},
     "output_type": "execute_result"
    }
   ],
   "source": [
    "Calculator.PI  # 클래스 변수/메소드 호출: 클래스이름.변수명, 클래스이름.메소드()"
   ]
  },
  {
   "cell_type": "code",
   "execution_count": 4,
   "metadata": {},
   "outputs": [
    {
     "data": {
      "text/plain": [
       "314.0"
      ]
     },
     "execution_count": 4,
     "metadata": {},
     "output_type": "execute_result"
    }
   ],
   "source": [
    "Calculator.circleArea(10)"
   ]
  },
  {
   "cell_type": "code",
   "execution_count": 7,
   "metadata": {},
   "outputs": [
    {
     "data": {
      "text/plain": [
       "15"
      ]
     },
     "execution_count": 7,
     "metadata": {},
     "output_type": "execute_result"
    }
   ],
   "source": [
    "Calculator.plus(1, 2, 3, 4, 5) # static 메소드 호출: 클래스이름.메소드"
   ]
  },
  {
   "cell_type": "code",
   "execution_count": 8,
   "metadata": {},
   "outputs": [
    {
     "data": {
      "text/plain": [
       "5"
      ]
     },
     "execution_count": 8,
     "metadata": {},
     "output_type": "execute_result"
    }
   ],
   "source": [
    "Calculator.minus(10, 5)"
   ]
  },
  {
   "cell_type": "markdown",
   "metadata": {},
   "source": [
    "script 전체 실행 코드를 작성하고 한번에 실행\n",
    "코드를 작성 => text 에디터\n",
    "파일: 파일명.py => 실행     python 파일명.py(터미널, 명령 프롬프트)"
   ]
  },
  {
   "cell_type": "code",
   "execution_count": null,
   "metadata": {},
   "outputs": [],
   "source": []
  },
  {
   "cell_type": "code",
   "execution_count": null,
   "metadata": {},
   "outputs": [],
   "source": []
  },
  {
   "cell_type": "code",
   "execution_count": null,
   "metadata": {},
   "outputs": [],
   "source": []
  },
  {
   "cell_type": "code",
   "execution_count": null,
   "metadata": {},
   "outputs": [],
   "source": []
  },
  {
   "cell_type": "code",
   "execution_count": null,
   "metadata": {},
   "outputs": [],
   "source": []
  },
  {
   "cell_type": "code",
   "execution_count": null,
   "metadata": {},
   "outputs": [],
   "source": []
  },
  {
   "cell_type": "code",
   "execution_count": null,
   "metadata": {},
   "outputs": [],
   "source": []
  },
  {
   "cell_type": "code",
   "execution_count": null,
   "metadata": {},
   "outputs": [],
   "source": []
  },
  {
   "cell_type": "code",
   "execution_count": null,
   "metadata": {},
   "outputs": [],
   "source": []
  },
  {
   "cell_type": "code",
   "execution_count": null,
   "metadata": {},
   "outputs": [],
   "source": []
  },
  {
   "cell_type": "code",
   "execution_count": null,
   "metadata": {},
   "outputs": [],
   "source": []
  },
  {
   "cell_type": "code",
   "execution_count": null,
   "metadata": {},
   "outputs": [],
   "source": []
  },
  {
   "cell_type": "code",
   "execution_count": null,
   "metadata": {},
   "outputs": [],
   "source": []
  },
  {
   "cell_type": "code",
   "execution_count": null,
   "metadata": {},
   "outputs": [],
   "source": []
  }
 ],
 "metadata": {
  "kernelspec": {
   "display_name": "Python 3",
   "language": "python",
   "name": "python3"
  },
  "language_info": {
   "codemirror_mode": {
    "name": "ipython",
    "version": 3
   },
   "file_extension": ".py",
   "mimetype": "text/x-python",
   "name": "python",
   "nbconvert_exporter": "python",
   "pygments_lexer": "ipython3",
   "version": "3.8.5"
  }
 },
 "nbformat": 4,
 "nbformat_minor": 4
}
