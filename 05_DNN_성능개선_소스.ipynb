{
 "cells": [
  {
   "cell_type": "code",
   "execution_count": 1,
   "metadata": {},
   "outputs": [],
   "source": [
    "import numpy as np\n",
    "import matplotlib.pyplot as plt\n",
    "import tensorflow as tf\n",
    "from tensorflow import keras"
   ]
  },
  {
   "cell_type": "code",
   "execution_count": 2,
   "metadata": {},
   "outputs": [],
   "source": [
    "np.random.seed(1)\n",
    "tf.random.set_seed(1)"
   ]
  },
  {
   "cell_type": "code",
   "execution_count": 4,
   "metadata": {},
   "outputs": [],
   "source": [
    "def plot_result(history, ymin=None, ymax=None):\n",
    "    plt.figure(figsize=(15,10))\n",
    "\n",
    "    plt.figure(figsize=(15,10))\n",
    "\n",
    "    plt.subplot(1,2,1)\n",
    "    plt.plot(range(1, N_EPOCHS+1), history.history['loss'], label='train loss')\n",
    "    plt.plot(range(1, N_EPOCHS+1), history.history['val_loss'], label='validation loss')\n",
    "    plt.title('LOSS')\n",
    "    plt.xlabel('Epochs')\n",
    "    plt.ylabel('Loss')\n",
    "    if ymin!=None and ymax!=None:\n",
    "        plt.ylim(ymin, ymax)\n",
    "    plt.legend()\n",
    "        \n",
    "    plt.subplot(1,2,2)\n",
    "    plt.plot(range(1, N_EPOCHS+1), history.history['accuracy'], label='train accuracy')\n",
    "    plt.plot(range(1, N_EPOCHS+1), history.history['val_accuracy'], label='validation accuracy')\n",
    "    plt.title('ACCURACY')\n",
    "    plt.xlabel('Epochs')\n",
    "    plt.ylabel('Accuracy')\n",
    "    if ymin!=None and ymax!=None:\n",
    "        plt.ylim(ymin, ymax)\n",
    "    plt.legend()\n",
    "    \n",
    "    plt.tight_layout()\n",
    "    plt.show()"
   ]
  },
  {
   "cell_type": "code",
   "execution_count": 5,
   "metadata": {},
   "outputs": [],
   "source": [
    "#하이퍼파라미터\n",
    "LEARNING_RATE = 0.001\n",
    "N_EPOCHS = 20\n",
    "N_BATCHS = 100"
   ]
  },
  {
   "cell_type": "code",
   "execution_count": 6,
   "metadata": {},
   "outputs": [
    {
     "data": {
      "text/plain": [
       "((60000, 28, 28), (10000, 28, 28))"
      ]
     },
     "execution_count": 6,
     "metadata": {},
     "output_type": "execute_result"
    }
   ],
   "source": [
    "# Data Loading 및 Dataset 생성\n",
    "(train_image, train_label), (test_image, test_label) = keras.datasets.mnist.load_data()\n",
    "train_image.shape, test_image.shape"
   ]
  },
  {
   "cell_type": "code",
   "execution_count": 7,
   "metadata": {},
   "outputs": [],
   "source": [
    "N_TRAIN = train_image.shape[0]\n",
    "N_TEST = test_image.shape[0]\n",
    "IMAGE_SIZE = 28\n",
    "N_CLASS = 10"
   ]
  },
  {
   "cell_type": "code",
   "execution_count": 8,
   "metadata": {},
   "outputs": [],
   "source": [
    "X_train = train_image/255\n",
    "X_test = test_image/255\n",
    "\n",
    "y_train = keras.utils.to_categorical(train_label)\n",
    "y_test = keras.utils.to_categorical(test_label)"
   ]
  },
  {
   "cell_type": "code",
   "execution_count": 9,
   "metadata": {},
   "outputs": [
    {
     "data": {
      "text/plain": [
       "5"
      ]
     },
     "execution_count": 9,
     "metadata": {},
     "output_type": "execute_result"
    }
   ],
   "source": [
    "train_label[0]"
   ]
  },
  {
   "cell_type": "code",
   "execution_count": 10,
   "metadata": {},
   "outputs": [
    {
     "data": {
      "text/plain": [
       "array([0., 0., 0., 0., 0., 1., 0., 0., 0., 0.], dtype=float32)"
      ]
     },
     "execution_count": 10,
     "metadata": {},
     "output_type": "execute_result"
    }
   ],
   "source": [
    "y_train[0]"
   ]
  },
  {
   "cell_type": "code",
   "execution_count": 13,
   "metadata": {},
   "outputs": [],
   "source": [
    "# Dataset\n",
    "train_dataset = tf.data.Dataset.from_tensor_slices((X_train, y_train))\\\n",
    "                               .shuffle(N_TRAIN)\\\n",
    "                               .batch(N_BATCHS, drop_remainder=True)\\\n",
    "                               .repeat()\n",
    "val_dataset = tf.data.Dataset.from_tensor_slices((X_test, y_test)).batch(N_BATCHS)\n"
   ]
  },
  {
   "cell_type": "code",
   "execution_count": 14,
   "metadata": {},
   "outputs": [],
   "source": [
    "steps_per_epoch = N_TRAIN // N_BATCHS\n",
    "validation_steps = int(np.ceil(N_TEST/N_BATCHS))"
   ]
  },
  {
   "cell_type": "code",
   "execution_count": null,
   "metadata": {},
   "outputs": [],
   "source": []
  },
  {
   "cell_type": "markdown",
   "metadata": {},
   "source": [
    "# 모델의 크기 변경 "
   ]
  },
  {
   "cell_type": "code",
   "execution_count": 11,
   "metadata": {},
   "outputs": [],
   "source": [
    "# 작은 모델 => layer층, unit수가 적은 것\n",
    "def create_model():\n",
    "    model = keras.Sequential()\n",
    "    model.add(keras.layers.Input((IMAGE_SIZE, IMAGE_SIZE)))\n",
    "    model.add(keras.layers.Flatten())\n",
    "    \n",
    "    #Hidden Layer\n",
    "    model.add(keras.layers.Dense(8, activation='relu'))\n",
    "    \n",
    "    #Output Layer\n",
    "    model.add(keras.layers.Dense(N_CLASS, activation='softmax'))\n",
    "    \n",
    "    model.compile(optimizer=keras.optimizers.Adam(learning_rate=LEARNING_RATE),\n",
    "                  loss='categorical_crossentropy',\n",
    "                  metrics=['accuracy'])\n",
    "    return model"
   ]
  },
  {
   "cell_type": "code",
   "execution_count": 16,
   "metadata": {},
   "outputs": [
    {
     "name": "stdout",
     "output_type": "stream",
     "text": [
      "Model: \"sequential\"\n",
      "_________________________________________________________________\n",
      "Layer (type)                 Output Shape              Param #   \n",
      "=================================================================\n",
      "flatten (Flatten)            (None, 784)               0         \n",
      "_________________________________________________________________\n",
      "dense (Dense)                (None, 8)                 6280      \n",
      "_________________________________________________________________\n",
      "dense_1 (Dense)              (None, 10)                90        \n",
      "=================================================================\n",
      "Total params: 6,370\n",
      "Trainable params: 6,370\n",
      "Non-trainable params: 0\n",
      "_________________________________________________________________\n"
     ]
    }
   ],
   "source": [
    "model = create_model()\n",
    "model.summary()"
   ]
  },
  {
   "cell_type": "code",
   "execution_count": 17,
   "metadata": {
    "scrolled": true
   },
   "outputs": [
    {
     "name": "stdout",
     "output_type": "stream",
     "text": [
      "Train for 600 steps, validate for 100 steps\n",
      "Epoch 1/20\n",
      "600/600 [==============================] - 3s 6ms/step - loss: 0.8767 - accuracy: 0.7355 - val_loss: 0.4433 - val_accuracy: 0.8758\n",
      "Epoch 2/20\n",
      "600/600 [==============================] - 2s 4ms/step - loss: 0.4080 - accuracy: 0.8839 - val_loss: 0.3572 - val_accuracy: 0.8977\n",
      "Epoch 3/20\n",
      "600/600 [==============================] - 2s 4ms/step - loss: 0.3465 - accuracy: 0.9016 - val_loss: 0.3225 - val_accuracy: 0.9070\n",
      "Epoch 4/20\n",
      "600/600 [==============================] - 2s 4ms/step - loss: 0.3176 - accuracy: 0.9111 - val_loss: 0.3073 - val_accuracy: 0.9126\n",
      "Epoch 5/20\n",
      "600/600 [==============================] - 3s 4ms/step - loss: 0.3020 - accuracy: 0.9157 - val_loss: 0.3014 - val_accuracy: 0.9135\n",
      "Epoch 6/20\n",
      "600/600 [==============================] - 2s 4ms/step - loss: 0.2908 - accuracy: 0.9185 - val_loss: 0.2917 - val_accuracy: 0.9173\n",
      "Epoch 7/20\n",
      "600/600 [==============================] - 2s 4ms/step - loss: 0.2826 - accuracy: 0.9214 - val_loss: 0.2861 - val_accuracy: 0.9204\n",
      "Epoch 8/20\n",
      "600/600 [==============================] - 3s 4ms/step - loss: 0.2757 - accuracy: 0.9230 - val_loss: 0.2832 - val_accuracy: 0.9210\n",
      "Epoch 9/20\n",
      "600/600 [==============================] - 3s 5ms/step - loss: 0.2710 - accuracy: 0.9248 - val_loss: 0.2807 - val_accuracy: 0.9203\n",
      "Epoch 10/20\n",
      "600/600 [==============================] - 3s 5ms/step - loss: 0.2662 - accuracy: 0.9255 - val_loss: 0.2798 - val_accuracy: 0.9232\n",
      "Epoch 11/20\n",
      "600/600 [==============================] - 3s 4ms/step - loss: 0.2623 - accuracy: 0.9266 - val_loss: 0.2717 - val_accuracy: 0.9257\n",
      "Epoch 12/20\n",
      "600/600 [==============================] - 2s 4ms/step - loss: 0.2595 - accuracy: 0.9278 - val_loss: 0.2817 - val_accuracy: 0.9204\n",
      "Epoch 13/20\n",
      "600/600 [==============================] - 3s 4ms/step - loss: 0.2563 - accuracy: 0.9289 - val_loss: 0.2702 - val_accuracy: 0.9250\n",
      "Epoch 14/20\n",
      "600/600 [==============================] - 2s 4ms/step - loss: 0.2537 - accuracy: 0.9287 - val_loss: 0.2740 - val_accuracy: 0.9246\n",
      "Epoch 15/20\n",
      "600/600 [==============================] - 2s 4ms/step - loss: 0.2509 - accuracy: 0.9304 - val_loss: 0.2699 - val_accuracy: 0.9240\n",
      "Epoch 16/20\n",
      "600/600 [==============================] - 2s 4ms/step - loss: 0.2497 - accuracy: 0.9295 - val_loss: 0.2709 - val_accuracy: 0.9238\n",
      "Epoch 17/20\n",
      "600/600 [==============================] - 2s 4ms/step - loss: 0.2473 - accuracy: 0.9305 - val_loss: 0.2673 - val_accuracy: 0.9273\n",
      "Epoch 18/20\n",
      "600/600 [==============================] - 2s 4ms/step - loss: 0.2454 - accuracy: 0.9316 - val_loss: 0.2678 - val_accuracy: 0.9263\n",
      "Epoch 19/20\n",
      "600/600 [==============================] - 2s 4ms/step - loss: 0.2432 - accuracy: 0.9320 - val_loss: 0.2672 - val_accuracy: 0.9258\n",
      "Epoch 20/20\n",
      "600/600 [==============================] - 2s 4ms/step - loss: 0.2417 - accuracy: 0.9320 - val_loss: 0.2681 - val_accuracy: 0.9252\n"
     ]
    },
    {
     "data": {
      "text/plain": [
       "<tensorflow.python.keras.callbacks.History at 0x289374ff488>"
      ]
     },
     "execution_count": 17,
     "metadata": {},
     "output_type": "execute_result"
    }
   ],
   "source": [
    "# 학습\n",
    "history = model.fit(train_dataset,\n",
    "          epochs=N_EPOCHS,\n",
    "          steps_per_epoch=steps_per_epoch,\n",
    "          validation_data=val_dataset,\n",
    "          validation_steps=validation_steps)"
   ]
  },
  {
   "cell_type": "code",
   "execution_count": 28,
   "metadata": {},
   "outputs": [
    {
     "data": {
      "text/plain": [
       "<Figure size 1080x720 with 0 Axes>"
      ]
     },
     "metadata": {},
     "output_type": "display_data"
    },
    {
     "data": {
      "image/png": "[encoded data removed]",
      "text/plain": [
       "<Figure size 1080x720 with 2 Axes>"
      ]
     },
     "metadata": {
      "needs_background": "light"
     },
     "output_type": "display_data"
    }
   ],
   "source": [
    "plot_result(history)"
   ]
  },
  {
   "cell_type": "code",
   "execution_count": 22,
   "metadata": {},
   "outputs": [],
   "source": [
    "# 큰 모델\n",
    "# hidden layer: 4 - 256, 256, 128, 128\n",
    "def create_model():\n",
    "    model = keras.Sequential()\n",
    "    model.add(keras.layers.Input((IMAGE_SIZE, IMAGE_SIZE)))\n",
    "    model.add(keras.layers.Flatten())\n",
    "    \n",
    "    #Hidden Layer\n",
    "    model.add(keras.layers.Dense(256, activation='relu'))\n",
    "    model.add(keras.layers.Dense(256, activation='relu'))\n",
    "    model.add(keras.layers.Dense(128, activation='relu'))\n",
    "    model.add(keras.layers.Dense(128, activation='relu'))\n",
    "    \n",
    "    #Output Layer\n",
    "    model.add(keras.layers.Dense(N_CLASS, activation='softmax'))\n",
    "    \n",
    "    model.compile(optimizer=keras.optimizers.Adam(learning_rate=LEARNING_RATE),\n",
    "                  loss='categorical_crossentropy',\n",
    "                  metrics=['accuracy'])\n",
    "    return model"
   ]
  },
  {
   "cell_type": "code",
   "execution_count": 23,
   "metadata": {},
   "outputs": [],
   "source": [
    "model = create_model()"
   ]
  },
  {
   "cell_type": "code",
   "execution_count": 24,
   "metadata": {},
   "outputs": [
    {
     "name": "stdout",
     "output_type": "stream",
     "text": [
      "Model: \"sequential_2\"\n",
      "_________________________________________________________________\n",
      "Layer (type)                 Output Shape              Param #   \n",
      "=================================================================\n",
      "flatten_2 (Flatten)          (None, 784)               0         \n",
      "_________________________________________________________________\n",
      "dense_6 (Dense)              (None, 256)               200960    \n",
      "_________________________________________________________________\n",
      "dense_7 (Dense)              (None, 256)               65792     \n",
      "_________________________________________________________________\n",
      "dense_8 (Dense)              (None, 128)               32896     \n",
      "_________________________________________________________________\n",
      "dense_9 (Dense)              (None, 128)               16512     \n",
      "_________________________________________________________________\n",
      "dense_10 (Dense)             (None, 10)                1290      \n",
      "=================================================================\n",
      "Total params: 317,450\n",
      "Trainable params: 317,450\n",
      "Non-trainable params: 0\n",
      "_________________________________________________________________\n"
     ]
    }
   ],
   "source": [
    "model.summary()"
   ]
  },
  {
   "cell_type": "code",
   "execution_count": 27,
   "metadata": {},
   "outputs": [
    {
     "name": "stdout",
     "output_type": "stream",
     "text": [
      "Train for 600 steps, validate for 100 steps\n",
      "Epoch 1/20\n",
      "600/600 [==============================] - 9s 16ms/step - loss: 0.0106 - accuracy: 0.9966 - val_loss: 0.0893 - val_accuracy: 0.9818\n",
      "Epoch 2/20\n",
      "600/600 [==============================] - 8s 14ms/step - loss: 0.0097 - accuracy: 0.9967 - val_loss: 0.0901 - val_accuracy: 0.9822\n",
      "Epoch 3/20\n",
      "600/600 [==============================] - 9s 15ms/step - loss: 0.0084 - accuracy: 0.9977 - val_loss: 0.1091 - val_accuracy: 0.9787\n",
      "Epoch 4/20\n",
      "600/600 [==============================] - 11s 18ms/step - loss: 0.0090 - accuracy: 0.9973 - val_loss: 0.0825 - val_accuracy: 0.9822\n",
      "Epoch 5/20\n",
      "600/600 [==============================] - 8s 14ms/step - loss: 0.0091 - accuracy: 0.9975 - val_loss: 0.0878 - val_accuracy: 0.9827\n",
      "Epoch 6/20\n",
      "600/600 [==============================] - 9s 14ms/step - loss: 0.0073 - accuracy: 0.9978 - val_loss: 0.0993 - val_accuracy: 0.9809\n",
      "Epoch 7/20\n",
      "600/600 [==============================] - 8s 13ms/step - loss: 0.0104 - accuracy: 0.9972 - val_loss: 0.0828 - val_accuracy: 0.9838\n",
      "Epoch 8/20\n",
      "600/600 [==============================] - 8s 13ms/step - loss: 0.0080 - accuracy: 0.9977 - val_loss: 0.0922 - val_accuracy: 0.9827\n",
      "Epoch 9/20\n",
      "600/600 [==============================] - 8s 13ms/step - loss: 0.0066 - accuracy: 0.9978 - val_loss: 0.0963 - val_accuracy: 0.9810\n",
      "Epoch 10/20\n",
      "600/600 [==============================] - 8s 14ms/step - loss: 0.0055 - accuracy: 0.9985 - val_loss: 0.1132 - val_accuracy: 0.9799\n",
      "Epoch 11/20\n",
      "600/600 [==============================] - 9s 16ms/step - loss: 0.0088 - accuracy: 0.9975 - val_loss: 0.0919 - val_accuracy: 0.9835- loss: 0.0083  - ETA: 1s - ETA: 0s - loss: 0.0088 - accuracy: 0.\n",
      "Epoch 12/20\n",
      "600/600 [==============================] - 10s 17ms/step - loss: 0.0083 - accuracy: 0.9980 - val_loss: 0.1104 - val_accuracy: 0.9817\n",
      "Epoch 13/20\n",
      "600/600 [==============================] - 8s 14ms/step - loss: 0.0071 - accuracy: 0.9977 - val_loss: 0.1035 - val_accuracy: 0.9820\n",
      "Epoch 14/20\n",
      "600/600 [==============================] - 8s 14ms/step - loss: 0.0037 - accuracy: 0.9989 - val_loss: 0.1204 - val_accuracy: 0.9809\n",
      "Epoch 15/20\n",
      "600/600 [==============================] - 8s 13ms/step - loss: 0.0090 - accuracy: 0.9973 - val_loss: 0.1027 - val_accuracy: 0.9816\n",
      "Epoch 16/20\n",
      "600/600 [==============================] - 8s 14ms/step - loss: 0.0046 - accuracy: 0.9987 - val_loss: 0.1119 - val_accuracy: 0.9814\n",
      "Epoch 17/20\n",
      "600/600 [==============================] - 9s 15ms/step - loss: 0.0085 - accuracy: 0.9977 - val_loss: 0.0935 - val_accuracy: 0.9838\n",
      "Epoch 18/20\n",
      "600/600 [==============================] - 8s 14ms/step - loss: 0.0050 - accuracy: 0.9987 - val_loss: 0.1064 - val_accuracy: 0.9835\n",
      "Epoch 19/20\n",
      "600/600 [==============================] - 8s 13ms/step - loss: 0.0043 - accuracy: 0.9988 - val_loss: 0.0945 - val_accuracy: 0.9842\n",
      "Epoch 20/20\n",
      "600/600 [==============================] - 8s 13ms/step - loss: 0.0045 - accuracy: 0.9986 - val_loss: 0.0959 - val_accuracy: 0.9841\n"
     ]
    }
   ],
   "source": [
    "history = model.fit(train_dataset,\n",
    "          epochs=N_EPOCHS,\n",
    "          steps_per_epoch=steps_per_epoch,\n",
    "          validation_data=val_dataset,\n",
    "          validation_steps=validation_steps)"
   ]
  },
  {
   "cell_type": "code",
   "execution_count": 26,
   "metadata": {},
   "outputs": [
    {
     "ename": "NameError",
     "evalue": "name 'history' is not defined",
     "output_type": "error",
     "traceback": [
      "\u001b[1;31m---------------------------------------------------------------------------\u001b[0m",
      "\u001b[1;31mNameError\u001b[0m                                 Traceback (most recent call last)",
      "\u001b[1;32m<ipython-input-26-b2a8aba7d58c>\u001b[0m in \u001b[0;36m<module>\u001b[1;34m\u001b[0m\n\u001b[1;32m----> 1\u001b[1;33m \u001b[0mplot_result\u001b[0m\u001b[1;33m(\u001b[0m\u001b[0mhistory\u001b[0m\u001b[1;33m)\u001b[0m\u001b[1;33m\u001b[0m\u001b[1;33m\u001b[0m\u001b[0m\n\u001b[0m",
      "\u001b[1;31mNameError\u001b[0m: name 'history' is not defined"
     ]
    }
   ],
   "source": [
    "plot_result(history)"
   ]
  },
  {
   "cell_type": "code",
   "execution_count": null,
   "metadata": {},
   "outputs": [],
   "source": []
  },
  {
   "cell_type": "code",
   "execution_count": null,
   "metadata": {},
   "outputs": [],
   "source": []
  },
  {
   "cell_type": "code",
   "execution_count": null,
   "metadata": {},
   "outputs": [],
   "source": []
  },
  {
   "cell_type": "code",
   "execution_count": null,
   "metadata": {},
   "outputs": [],
   "source": []
  },
  {
   "cell_type": "code",
   "execution_count": null,
   "metadata": {},
   "outputs": [],
   "source": []
  }
 ],
 "metadata": {
  "kernelspec": {
   "display_name": "Python 3",
   "language": "python",
   "name": "python3"
  },
  "language_info": {
   "codemirror_mode": {
    "name": "ipython",
    "version": 3
   },
   "file_extension": ".py",
   "mimetype": "text/x-python",
   "name": "python",
   "nbconvert_exporter": "python",
   "pygments_lexer": "ipython3",
   "version": "3.7.10"
  }
 },
 "nbformat": 4,
 "nbformat_minor": 4
}
