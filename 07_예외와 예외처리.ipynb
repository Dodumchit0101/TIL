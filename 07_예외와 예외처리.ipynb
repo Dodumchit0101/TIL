{
 "cells": [
  {
   "cell_type": "code",
   "execution_count": 6,
   "metadata": {},
   "outputs": [
    {
     "name": "stdout",
     "output_type": "stream",
     "text": [
      "숫자: 0\n",
      "0으로는 나눌 수 없습니다.\n",
      "뺀 결과:  10\n"
     ]
    }
   ],
   "source": [
    "a = 10\n",
    "# b = 0\n",
    "b = int(input(\"숫자: \"))\n",
    "try:\n",
    "    c = a / b  # 예외가 발생할 가능성이 있는 코드\n",
    "    print(\"결과: \", c)\n",
    "except: # 예외 발생하면 except 아래 코드 실행 => 정상화 => 예외 처리\n",
    "    print(\"0으로는 나눌 수 없습니다.\")\n",
    "\n",
    "d = a - b\n",
    "print(\"뺀 결과: \", d)"
   ]
  },
  {
   "cell_type": "code",
   "execution_count": 10,
   "metadata": {},
   "outputs": [
    {
     "ename": "ZeroDivisionError",
     "evalue": "division by zero",
     "output_type": "error",
     "traceback": [
      "\u001b[1;31m---------------------------------------------------------------------------\u001b[0m",
      "\u001b[1;31mZeroDivisionError\u001b[0m                         Traceback (most recent call last)",
      "\u001b[1;32m<ipython-input-10-85dc10cba55d>\u001b[0m in \u001b[0;36m<module>\u001b[1;34m\u001b[0m\n\u001b[0;32m      1\u001b[0m \u001b[1;31m# 특정 Exception만 처리\u001b[0m\u001b[1;33m\u001b[0m\u001b[1;33m\u001b[0m\u001b[1;33m\u001b[0m\u001b[0m\n\u001b[0;32m      2\u001b[0m \u001b[1;32mtry\u001b[0m\u001b[1;33m:\u001b[0m\u001b[1;33m\u001b[0m\u001b[1;33m\u001b[0m\u001b[0m\n\u001b[1;32m----> 3\u001b[1;33m     \u001b[0ma\u001b[0m \u001b[1;33m=\u001b[0m \u001b[1;36m10\u001b[0m \u001b[1;33m/\u001b[0m \u001b[1;36m0\u001b[0m          \u001b[1;31m# ZeroDivisionErrow\u001b[0m\u001b[1;33m\u001b[0m\u001b[1;33m\u001b[0m\u001b[0m\n\u001b[0m\u001b[0;32m      4\u001b[0m     \u001b[0mb\u001b[0m \u001b[1;33m=\u001b[0m \u001b[0mtest\u001b[0m\u001b[1;33m(\u001b[0m\u001b[1;33m)\u001b[0m          \u001b[1;31m# NameError\u001b[0m\u001b[1;33m\u001b[0m\u001b[1;33m\u001b[0m\u001b[0m\n\u001b[0;32m      5\u001b[0m     \u001b[0ml\u001b[0m \u001b[1;33m=\u001b[0m \u001b[1;33m[\u001b[0m\u001b[1;36m1\u001b[0m\u001b[1;33m,\u001b[0m \u001b[1;36m2\u001b[0m\u001b[1;33m,\u001b[0m \u001b[1;36m3\u001b[0m\u001b[1;33m]\u001b[0m\u001b[1;33m\u001b[0m\u001b[1;33m\u001b[0m\u001b[0m\n",
      "\u001b[1;31mZeroDivisionError\u001b[0m: division by zero"
     ]
    }
   ],
   "source": [
    "# 특정 Exception만 처리\n",
    "try:\n",
    "    a = 10 / 0          # ZeroDivisionErrow\n",
    "    b = test()          # NameError\n",
    "    l = [1, 2, 3]\n",
    "    print(l[10]) + b    # IndexError\n",
    "except NameError:     # NameError만 처리\n",
    "    print(\"NameError 발생 처리\")\n",
    "print(\"정상 종료\")"
   ]
  },
  {
   "cell_type": "code",
   "execution_count": 12,
   "metadata": {},
   "outputs": [
    {
     "name": "stdout",
     "output_type": "stream",
     "text": [
      "ZeroDivisionError 발생 처리\n",
      "정상 종료\n"
     ]
    }
   ],
   "source": [
    "try:\n",
    "    a = 10 / 0          # ZeroDivisionError\n",
    "\n",
    "    b = test()          # NameError\n",
    "\n",
    "    l = [1, 2, 3]\n",
    "    print(l[10]) + b    # IndexError\n",
    "except NameError:     # NameError만 처리\n",
    "    print(\"NameError 발생 처리\")\n",
    "except ZeroDivisionError:\n",
    "    print(\"ZeroDivisionError 발생 처리\")\n",
    "except: # 나머지 Exception 처리 => except의 마지막 구문\n",
    "    print(\"IndexError 발생 처리\")\n",
    "print(\"정상 종료\")"
   ]
  },
  {
   "cell_type": "code",
   "execution_count": 13,
   "metadata": {},
   "outputs": [
    {
     "name": "stdout",
     "output_type": "stream",
     "text": [
      "0으로 못 나눔\n",
      "종료\n"
     ]
    }
   ],
   "source": [
    "a = 0\n",
    "\n",
    "try:\n",
    "    b = 10 / a\n",
    "    print(b)\n",
    "except:\n",
    "    print(\"0으로 못 나눔\")\n",
    "else:\n",
    "    print(\"예외 발생 없음\")\n",
    "    \n",
    "print(\"종료\")"
   ]
  },
  {
   "cell_type": "markdown",
   "metadata": {},
   "source": [
    "# finally "
   ]
  },
  {
   "cell_type": "code",
   "execution_count": 14,
   "metadata": {},
   "outputs": [
    {
     "name": "stdout",
     "output_type": "stream",
     "text": [
      "except 블럭 실행\n",
      "finally 블럭 실행\n",
      "종료\n"
     ]
    }
   ],
   "source": [
    "try:\n",
    "    print(1/0)\n",
    "    print(\"try 블럭 실행\")\n",
    "except ZeroDivisionError:\n",
    "    print(\"except 블럭 실행\")\n",
    "finally:\n",
    "    print(\"finally 블럭 실행\")\n",
    "print(\"종료\")"
   ]
  },
  {
   "cell_type": "code",
   "execution_count": 15,
   "metadata": {},
   "outputs": [],
   "source": [
    "dic = {\n",
    "    \"사과\":10,\n",
    "    \"귤\":20,\n",
    "    \"배\":5\n",
    "}"
   ]
  },
  {
   "cell_type": "code",
   "execution_count": 22,
   "metadata": {},
   "outputs": [
    {
     "name": "stdout",
     "output_type": "stream",
     "text": [
      "10\n"
     ]
    }
   ],
   "source": [
    "try:\n",
    "    r = dic[\"사과\"]\n",
    "    print(r)\n",
    "except:\n",
    "    print(\"복숭아 없음\")"
   ]
  },
  {
   "cell_type": "code",
   "execution_count": 20,
   "metadata": {},
   "outputs": [
    {
     "name": "stdout",
     "output_type": "stream",
     "text": [
      "복숭아 없음\n"
     ]
    }
   ],
   "source": [
    "r = dic.get(\"복숭아\")\n",
    "if r != None:\n",
    "    print(r)\n",
    "else:\n",
    "    print(\"복숭아 없음\")"
   ]
  },
  {
   "cell_type": "markdown",
   "metadata": {},
   "source": [
    "## 함수/메소드 호출\n",
    "- call stack mechanism"
   ]
  },
  {
   "cell_type": "code",
   "execution_count": 34,
   "metadata": {},
   "outputs": [],
   "source": [
    "def a():\n",
    "    print(\"a 시작\")\n",
    "    try:\n",
    "        b()\n",
    "    except:\n",
    "        print(\"A에서 예외 처리\")\n",
    "    print(\"a 종료\")\n",
    "    \n",
    "def b():\n",
    "    print(\"b 시작\")\n",
    "    c()\n",
    "    print(\"b 종료\")\n",
    "    \n",
    "def c():\n",
    "    print(\"c 시작\")\n",
    "    print(10/0)\n",
    "    print(\"c 종료\")"
   ]
  },
  {
   "cell_type": "code",
   "execution_count": 35,
   "metadata": {},
   "outputs": [
    {
     "name": "stdout",
     "output_type": "stream",
     "text": [
      "a 시작\n",
      "b 시작\n",
      "c 시작\n",
      "A에서 예외 처리\n",
      "a 종료\n"
     ]
    }
   ],
   "source": [
    "a()"
   ]
  },
  {
   "cell_type": "markdown",
   "metadata": {},
   "source": [
    "## 예외 클래스 생성 및 예외 발생"
   ]
  },
  {
   "cell_type": "code",
   "execution_count": 68,
   "metadata": {},
   "outputs": [],
   "source": [
    "#예외 클래스 정의: 이름 관례 - ~~~Error\n",
    "class InvalidMonthError(Exception):\n",
    "    \n",
    "    def __init__(self, invalid_month):\n",
    "        self.invalid_month = invaild_month\n",
    "        \n",
    "    def __str__(self):\n",
    "        return f\"{self.invalid_month} - 사용할 수 없는 달입니다. 1 ~ 12의 값만 입력해주세요.\""
   ]
  },
  {
   "cell_type": "code",
   "execution_count": 69,
   "metadata": {},
   "outputs": [],
   "source": [
    "def set_month(month):\n",
    "    \"\"\"\n",
    "    월을 변경하는 함수\n",
    "    [매개변수]\n",
    "        month: int - 변경하고픈 달(1 ~ 12 사이의 정수)\n",
    "    [반환값]\n",
    "    \n",
    "    [exception]\n",
    "        InvalidMonthError: 변경할 수 없는 달을 매개변수로 받으면 발생\n",
    "    \"\"\"\n",
    "    \n",
    "    if month >= 1 and month <= 12:\n",
    "        print(f\"{month}월로 변경합니다\")\n",
    "    else:\n",
    "        #예외 발생 : raise Exception 객체\n",
    "        raise InvalidMonthError(month)\n",
    "        "
   ]
  },
  {
   "cell_type": "code",
   "execution_count": 70,
   "metadata": {},
   "outputs": [
    {
     "ename": "NameError",
     "evalue": "name 'invaild_month' is not defined",
     "output_type": "error",
     "traceback": [
      "\u001b[1;31m---------------------------------------------------------------------------\u001b[0m",
      "\u001b[1;31mNameError\u001b[0m                                 Traceback (most recent call last)",
      "\u001b[1;32m<ipython-input-70-5945b85832bf>\u001b[0m in \u001b[0;36m<module>\u001b[1;34m\u001b[0m\n\u001b[0;32m      1\u001b[0m \u001b[1;32mtry\u001b[0m\u001b[1;33m:\u001b[0m\u001b[1;33m\u001b[0m\u001b[1;33m\u001b[0m\u001b[0m\n\u001b[1;32m----> 2\u001b[1;33m     \u001b[0mset_month\u001b[0m\u001b[1;33m(\u001b[0m\u001b[1;36m100\u001b[0m\u001b[1;33m)\u001b[0m\u001b[1;33m\u001b[0m\u001b[1;33m\u001b[0m\u001b[0m\n\u001b[0m\u001b[0;32m      3\u001b[0m     \u001b[0mprint\u001b[0m\u001b[1;33m(\u001b[0m\u001b[1;34m\"월 변경 후 해야 하는 다음 작업 실행\"\u001b[0m\u001b[1;33m)\u001b[0m\u001b[1;33m\u001b[0m\u001b[1;33m\u001b[0m\u001b[0m\n\u001b[0;32m      4\u001b[0m \u001b[1;32mexcept\u001b[0m \u001b[0mInvalidMonthError\u001b[0m \u001b[1;32mas\u001b[0m \u001b[0me\u001b[0m\u001b[1;33m:\u001b[0m\u001b[1;33m\u001b[0m\u001b[1;33m\u001b[0m\u001b[0m\n\u001b[0;32m      5\u001b[0m     \u001b[0mprint\u001b[0m\u001b[1;33m(\u001b[0m\u001b[1;34m\"set_month 호출 시 오류 발생\"\u001b[0m\u001b[1;33m,\u001b[0m \u001b[0me\u001b[0m\u001b[1;33m,\u001b[0m \u001b[0me\u001b[0m\u001b[1;33m.\u001b[0m\u001b[0minvalid_month\u001b[0m\u001b[1;33m,\u001b[0m \u001b[0msep\u001b[0m\u001b[1;33m=\u001b[0m\u001b[1;34m\",\"\u001b[0m\u001b[1;33m)\u001b[0m\u001b[1;33m\u001b[0m\u001b[1;33m\u001b[0m\u001b[0m\n",
      "\u001b[1;32m<ipython-input-69-decd7971954e>\u001b[0m in \u001b[0;36mset_month\u001b[1;34m(month)\u001b[0m\n\u001b[0;32m     14\u001b[0m     \u001b[1;32melse\u001b[0m\u001b[1;33m:\u001b[0m\u001b[1;33m\u001b[0m\u001b[1;33m\u001b[0m\u001b[0m\n\u001b[0;32m     15\u001b[0m         \u001b[1;31m#예외 발생 : raise Exception 객체\u001b[0m\u001b[1;33m\u001b[0m\u001b[1;33m\u001b[0m\u001b[1;33m\u001b[0m\u001b[0m\n\u001b[1;32m---> 16\u001b[1;33m         \u001b[1;32mraise\u001b[0m \u001b[0mInvalidMonthError\u001b[0m\u001b[1;33m(\u001b[0m\u001b[0mmonth\u001b[0m\u001b[1;33m)\u001b[0m\u001b[1;33m\u001b[0m\u001b[1;33m\u001b[0m\u001b[0m\n\u001b[0m\u001b[0;32m     17\u001b[0m \u001b[1;33m\u001b[0m\u001b[0m\n",
      "\u001b[1;32m<ipython-input-68-cb9b0451d73f>\u001b[0m in \u001b[0;36m__init__\u001b[1;34m(self, invalid_month)\u001b[0m\n\u001b[0;32m      3\u001b[0m \u001b[1;33m\u001b[0m\u001b[0m\n\u001b[0;32m      4\u001b[0m     \u001b[1;32mdef\u001b[0m \u001b[0m__init__\u001b[0m\u001b[1;33m(\u001b[0m\u001b[0mself\u001b[0m\u001b[1;33m,\u001b[0m \u001b[0minvalid_month\u001b[0m\u001b[1;33m)\u001b[0m\u001b[1;33m:\u001b[0m\u001b[1;33m\u001b[0m\u001b[1;33m\u001b[0m\u001b[0m\n\u001b[1;32m----> 5\u001b[1;33m         \u001b[0mself\u001b[0m\u001b[1;33m.\u001b[0m\u001b[0minvalid_month\u001b[0m \u001b[1;33m=\u001b[0m \u001b[0minvaild_month\u001b[0m\u001b[1;33m\u001b[0m\u001b[1;33m\u001b[0m\u001b[0m\n\u001b[0m\u001b[0;32m      6\u001b[0m \u001b[1;33m\u001b[0m\u001b[0m\n\u001b[0;32m      7\u001b[0m     \u001b[1;32mdef\u001b[0m \u001b[0m__str__\u001b[0m\u001b[1;33m(\u001b[0m\u001b[0mself\u001b[0m\u001b[1;33m)\u001b[0m\u001b[1;33m:\u001b[0m\u001b[1;33m\u001b[0m\u001b[1;33m\u001b[0m\u001b[0m\n",
      "\u001b[1;31mNameError\u001b[0m: name 'invaild_month' is not defined"
     ]
    }
   ],
   "source": [
    "try:\n",
    "    set_month(100)\n",
    "    print(\"월 변경 후 해야 하는 다음 작업 실행\")\n",
    "except InvalidMonthError as e:\n",
    "    print(\"set_month 호출 시 오류 발생\", e, e.invalid_month, sep=\",\")"
   ]
  },
  {
   "cell_type": "code",
   "execution_count": null,
   "metadata": {},
   "outputs": [],
   "source": [
    "# 주문 함수\n",
    "1. 재고량을 조회\n",
    "2. 주문량과 재고량을 비교\n",
    "    2-1. 재고량 >= 주문량 : 정상 주문처리\n",
    "    2-2. 재고량 < 주문량 : 주문 처리 X => 예외 발생"
   ]
  },
  {
   "cell_type": "code",
   "execution_count": 80,
   "metadata": {},
   "outputs": [],
   "source": [
    "# 주문처리를 못하는 상황에서 발생시킬 예외 클래스\n",
    "class OrderFailError(Exception):\n",
    "    def __init__(self, error_message):\n",
    "        self.message = error_message\n",
    "        \n",
    "    def __str__(self):\n",
    "        return self.message"
   ]
  },
  {
   "cell_type": "code",
   "execution_count": 81,
   "metadata": {},
   "outputs": [],
   "source": [
    "def order(order_amount):\n",
    "    \"\"\"\n",
    "    [매개변수]\n",
    "        order_amount: int - 주문량\n",
    "    \"\"\"\n",
    "    # 재고량을 조회\n",
    "    stock_amount = 10\n",
    "    \n",
    "    if stock_amount < order_amount:  # 재고량보다 주문량이 많으면\n",
    "        raise OrderFailError(f\"주문량이 재고량보다 많습니다. 주문량: {order_amount}, 재고량: {stock_amount}\")\n",
    "    # 주문처리\n",
    "    stock_amount = stock_amount - order_amount\n",
    "    print(\"주문처리 완료\")\n",
    "    print(f\"주문량: {order_amount}, 주문 후 재고량: {stock_amount}\")"
   ]
  },
  {
   "cell_type": "code",
   "execution_count": 85,
   "metadata": {},
   "outputs": [
    {
     "name": "stdout",
     "output_type": "stream",
     "text": [
      "주문량이 재고량보다 많습니다. 주문량: 100, 재고량: 10\n"
     ]
    }
   ],
   "source": [
    "# 주문 요청(call)\n",
    "\n",
    "try:\n",
    "    order(100)\n",
    "    print(\"주문 후 다음 작업\")\n",
    "except OrderFailError as e:\n",
    "    print(e)"
   ]
  },
  {
   "cell_type": "markdown",
   "metadata": {},
   "source": [
    "호출한 곳으로 돌아감\n",
    "return: 함수/메소드의 정상 종료 - 처리 결과\n",
    "raise: 함수/메소드의 비정상 종료 - 예외 객체"
   ]
  },
  {
   "cell_type": "code",
   "execution_count": null,
   "metadata": {},
   "outputs": [],
   "source": []
  },
  {
   "cell_type": "code",
   "execution_count": null,
   "metadata": {},
   "outputs": [],
   "source": []
  },
  {
   "cell_type": "code",
   "execution_count": null,
   "metadata": {},
   "outputs": [],
   "source": []
  },
  {
   "cell_type": "code",
   "execution_count": null,
   "metadata": {},
   "outputs": [],
   "source": []
  },
  {
   "cell_type": "code",
   "execution_count": null,
   "metadata": {},
   "outputs": [],
   "source": []
  },
  {
   "cell_type": "code",
   "execution_count": null,
   "metadata": {},
   "outputs": [],
   "source": []
  },
  {
   "cell_type": "code",
   "execution_count": null,
   "metadata": {},
   "outputs": [],
   "source": []
  },
  {
   "cell_type": "code",
   "execution_count": null,
   "metadata": {},
   "outputs": [],
   "source": []
  },
  {
   "cell_type": "code",
   "execution_count": null,
   "metadata": {},
   "outputs": [],
   "source": []
  },
  {
   "cell_type": "code",
   "execution_count": null,
   "metadata": {},
   "outputs": [],
   "source": []
  }
 ],
 "metadata": {
  "kernelspec": {
   "display_name": "Python 3",
   "language": "python",
   "name": "python3"
  },
  "language_info": {
   "codemirror_mode": {
    "name": "ipython",
    "version": 3
   },
   "file_extension": ".py",
   "mimetype": "text/x-python",
   "name": "python",
   "nbconvert_exporter": "python",
   "pygments_lexer": "ipython3",
   "version": "3.8.5"
  }
 },
 "nbformat": 4,
 "nbformat_minor": 4
}
