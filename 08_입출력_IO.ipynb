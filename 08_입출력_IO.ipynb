{
 "cells": [
  {
   "cell_type": "markdown",
   "metadata": {},
   "source": [
    "## 파일의 경로(Path)\n",
    "- 절대경로(Absolute path): 시작 디렉토리(폴더-Root 디렉토리)부터 자원의 경로를 표현하는 방식\n",
    "    - windows: c:\\text\\python\\io.txt  - c:\\ root director, 경로구분자: \\\\(역슬래시)\n",
    "    - 리눅스/유닉스:  \\text\\python\\io.txt  - \\ : root directory, 경로구분자: /(슬래시)\n",
    "- 상대경로: 현재 디렉토리에서부터 찾아가는 경로 표현방식\n",
    "    - \".\" : 현재 디렉토리\n",
    "    - \"..\" : 상위 디렉토리\n",
    "    - \" / \", \" \\\\ \" : 경로구분자"
   ]
  },
  {
   "cell_type": "markdown",
   "metadata": {},
   "source": [
    "### os 모듈\n",
    "- 표준 모듈 (설치는 필요 없지만 import는 해야한다)\n",
    "- 운영 체제(os)에서 제공하는 기능들을 파이선 프로그램에서 사용할 수 있도록 도와주는 모듈"
   ]
  },
  {
   "cell_type": "code",
   "execution_count": 1,
   "metadata": {},
   "outputs": [],
   "source": [
    "import os"
   ]
  },
  {
   "cell_type": "code",
   "execution_count": 2,
   "metadata": {},
   "outputs": [
    {
     "name": "stdout",
     "output_type": "stream",
     "text": [
      "C:\\Users\\Playdata\\코딩\n"
     ]
    }
   ],
   "source": [
    "# 현재 디렉토리를 문자열로 반환\n",
    "curr_dir = os.getcwd()  # current work directory\n",
    "print(curr_dir)  # 주피터 노트북: 현재 작성하는 ipynb 파일이 위치한 경로"
   ]
  },
  {
   "cell_type": "code",
   "execution_count": 5,
   "metadata": {},
   "outputs": [],
   "source": [
    "# 현재 디렉토리를 변경하고 싶다\n",
    "os.chdir(\"C:\\\\Users\\Playdata\\Desktop\\파이싸ㅡㄴ\")"
   ]
  },
  {
   "cell_type": "code",
   "execution_count": 6,
   "metadata": {},
   "outputs": [
    {
     "data": {
      "text/plain": [
       "'C:\\\\Users\\\\Playdata\\\\Desktop\\\\파이싸ㅡㄴ'"
      ]
     },
     "execution_count": 6,
     "metadata": {},
     "output_type": "execute_result"
    }
   ],
   "source": [
    "os.getcwd()"
   ]
  },
  {
   "cell_type": "markdown",
   "metadata": {},
   "source": [
    "#### escape문자\n",
    "- \"\\문자\"로 시작하는 문자. text로 표현하지 못하는 문자를 표현하는 문자\n",
    "- \"\\n\": 엔터\n",
    "- \"\\t\": 탭"
   ]
  },
  {
   "cell_type": "code",
   "execution_count": 13,
   "metadata": {},
   "outputs": [
    {
     "name": "stdout",
     "output_type": "stream",
     "text": [
      "a\tb\n",
      "\\t는 탭입니다\n",
      "c\\src\\a.py\n",
      "c:/src/a.py\n",
      "c:\\src\\a.py\n"
     ]
    }
   ],
   "source": [
    "print(\"a\\tb\")\n",
    "print(\"\\\\t는 탭입니다\")\n",
    "print(\"c\\\\src\\\\a.py\")\n",
    "print(\"c:/src/a.py\") # 파이썬에서 문자열로 파일 경로 표시할떄 windows라고 해도 /를 사용해도 인식\n",
    "print(r\"c:\\src\\a.py\") # raw string => \\를 escape 문자의 접두어로 인식하지 않게 함\n"
   ]
  },
  {
   "cell_type": "code",
   "execution_count": 14,
   "metadata": {},
   "outputs": [
    {
     "data": {
      "text/plain": [
       "'C:\\\\Users\\\\Playdata\\\\코딩'"
      ]
     },
     "execution_count": 14,
     "metadata": {},
     "output_type": "execute_result"
    }
   ],
   "source": [
    "os.chdir(curr_dir)\n",
    "os.getcwd()"
   ]
  },
  {
   "cell_type": "code",
   "execution_count": 15,
   "metadata": {},
   "outputs": [
    {
     "data": {
      "text/plain": [
       "['.ipynb_checkpoints',\n",
       " '01_변수2.ipynb',\n",
       " '01_변수_데이터타입.ipynb',\n",
       " '02_자료구조.ipynb',\n",
       " '03_제어문.ipynb',\n",
       " '03_함수.ipynb',\n",
       " '04_객체지향 프로그래밍.ipynb',\n",
       " '06_module_package_import.ipynb',\n",
       " '07_예외와 예외처리.ipynb',\n",
       " '08_입출력_IO.ipynb',\n",
       " 'my_module.py',\n",
       " 'my_package',\n",
       " '__pycache__',\n",
       " '낙서장.ipynb',\n",
       " '알고리즘 스터디.ipynb']"
      ]
     },
     "execution_count": 15,
     "metadata": {},
     "output_type": "execute_result"
    }
   ],
   "source": [
    "# 특정 디렉토리 안에 있는 하위 디렉토리나 파일들의 이름을 리스트에 담아서 반환\n",
    "# path를 지정하거나 생략하면 현재 디렉토리 내의 내용을 반환\n",
    "path_list = os.listdir()\n",
    "path_list"
   ]
  },
  {
   "cell_type": "code",
   "execution_count": 16,
   "metadata": {},
   "outputs": [
    {
     "data": {
      "text/plain": [
       "['01_변수2.ipynb',\n",
       " '01_변수_데이터타입.ipynb',\n",
       " '02_자료구조.ipynb',\n",
       " '03_제어문.ipynb',\n",
       " '03_함수.ipynb',\n",
       " '04_객체지향 프로그래밍.ipynb',\n",
       " '06_module_package_import.ipynb',\n",
       " '07_예외와 예외처리.ipynb',\n",
       " '08_입출력_IO.ipynb',\n",
       " '낙서장.ipynb',\n",
       " '알고리즘 스터디.ipynb']"
      ]
     },
     "execution_count": 16,
     "metadata": {},
     "output_type": "execute_result"
    }
   ],
   "source": [
    "# ipynb 파일들만 가진 리스트\n",
    "[filename for filename in os.listdir() if filename.endswith(\".ipynb\")]"
   ]
  },
  {
   "cell_type": "code",
   "execution_count": 17,
   "metadata": {},
   "outputs": [
    {
     "data": {
      "text/plain": [
       "['AhnLab',\n",
       " 'Android',\n",
       " 'Common Files',\n",
       " 'desktop.ini',\n",
       " 'Elantech',\n",
       " 'Intel',\n",
       " 'Internet Explorer',\n",
       " 'ModifiableWindowsApps',\n",
       " 'MSBuild',\n",
       " 'NPKI',\n",
       " 'Reference Assemblies',\n",
       " 'Uninstall Information',\n",
       " 'Windows Defender',\n",
       " 'Windows Defender Advanced Threat Protection',\n",
       " 'Windows Mail',\n",
       " 'Windows Media Player',\n",
       " 'Windows Multimedia Platform',\n",
       " 'Windows NT',\n",
       " 'Windows Photo Viewer',\n",
       " 'Windows Portable Devices',\n",
       " 'Windows Security',\n",
       " 'Windows Sidebar',\n",
       " 'WindowsApps',\n",
       " 'WindowsPowerShell',\n",
       " 'Wizvera']"
      ]
     },
     "execution_count": 17,
     "metadata": {},
     "output_type": "execute_result"
    }
   ],
   "source": [
    "os.listdir(r\"c:\\Program Files\")"
   ]
  },
  {
   "cell_type": "code",
   "execution_count": 18,
   "metadata": {},
   "outputs": [],
   "source": [
    "# 디렉토리 만들기\n",
    "os.mkdir(\"test\") # os.mkdir(\"./test\") 현재 디렉토리에 test 디렉토리 만듦"
   ]
  },
  {
   "cell_type": "code",
   "execution_count": 19,
   "metadata": {},
   "outputs": [
    {
     "ename": "FileExistsError",
     "evalue": "[WinError 183] 파일이 이미 있으므로 만들 수 없습니다: 'test'",
     "output_type": "error",
     "traceback": [
      "\u001b[1;31m---------------------------------------------------------------------------\u001b[0m",
      "\u001b[1;31mFileExistsError\u001b[0m                           Traceback (most recent call last)",
      "\u001b[1;32m<ipython-input-19-6f491e3dcdf4>\u001b[0m in \u001b[0;36m<module>\u001b[1;34m\u001b[0m\n\u001b[1;32m----> 1\u001b[1;33m \u001b[0mos\u001b[0m\u001b[1;33m.\u001b[0m\u001b[0mmkdir\u001b[0m\u001b[1;33m(\u001b[0m\u001b[1;34m\"test\"\u001b[0m\u001b[1;33m)\u001b[0m \u001b[1;31m#못 만들면 예외 발생\u001b[0m\u001b[1;33m\u001b[0m\u001b[1;33m\u001b[0m\u001b[0m\n\u001b[0m",
      "\u001b[1;31mFileExistsError\u001b[0m: [WinError 183] 파일이 이미 있으므로 만들 수 없습니다: 'test'"
     ]
    }
   ],
   "source": [
    "os.mkdir(\"test\") #못 만들면 예외 발생"
   ]
  },
  {
   "cell_type": "code",
   "execution_count": 20,
   "metadata": {},
   "outputs": [
    {
     "ename": "FileNotFoundError",
     "evalue": "[WinError 3] 지정된 경로를 찾을 수 없습니다: 'test1\\\\test2\\\\test3'",
     "output_type": "error",
     "traceback": [
      "\u001b[1;31m---------------------------------------------------------------------------\u001b[0m",
      "\u001b[1;31mFileNotFoundError\u001b[0m                         Traceback (most recent call last)",
      "\u001b[1;32m<ipython-input-20-748aa96483c8>\u001b[0m in \u001b[0;36m<module>\u001b[1;34m\u001b[0m\n\u001b[1;32m----> 1\u001b[1;33m \u001b[0mos\u001b[0m\u001b[1;33m.\u001b[0m\u001b[0mmkdir\u001b[0m\u001b[1;33m(\u001b[0m\u001b[1;34mr\"test1\\test2\\test3\"\u001b[0m\u001b[1;33m)\u001b[0m\u001b[1;33m\u001b[0m\u001b[1;33m\u001b[0m\u001b[0m\n\u001b[0m",
      "\u001b[1;31mFileNotFoundError\u001b[0m: [WinError 3] 지정된 경로를 찾을 수 없습니다: 'test1\\\\test2\\\\test3'"
     ]
    }
   ],
   "source": [
    "os.mkdir(r\"test1\\test2\\test3\")"
   ]
  },
  {
   "cell_type": "code",
   "execution_count": 22,
   "metadata": {},
   "outputs": [],
   "source": [
    "os.makedirs(r\"test1\\test2\\test3\") # test1/test2 아래 test3 만들기"
   ]
  },
  {
   "cell_type": "code",
   "execution_count": 23,
   "metadata": {},
   "outputs": [],
   "source": [
    " os.makedirs(r\"test1\\test2\\test4\") # 없는 경로는 다 만든다"
   ]
  },
  {
   "cell_type": "code",
   "execution_count": 26,
   "metadata": {},
   "outputs": [
    {
     "ename": "FileNotFoundError",
     "evalue": "[WinError 2] 지정된 파일을 찾을 수 없습니다: 'test1\\\\test2\\\\test3'",
     "output_type": "error",
     "traceback": [
      "\u001b[1;31m---------------------------------------------------------------------------\u001b[0m",
      "\u001b[1;31mFileNotFoundError\u001b[0m                         Traceback (most recent call last)",
      "\u001b[1;32m<ipython-input-26-52d1b23832ee>\u001b[0m in \u001b[0;36m<module>\u001b[1;34m\u001b[0m\n\u001b[0;32m      1\u001b[0m \u001b[1;31m# 디렉토리 삭제하는 법\u001b[0m\u001b[1;33m\u001b[0m\u001b[1;33m\u001b[0m\u001b[1;33m\u001b[0m\u001b[0m\n\u001b[1;32m----> 2\u001b[1;33m \u001b[0mos\u001b[0m\u001b[1;33m.\u001b[0m\u001b[0mrmdir\u001b[0m\u001b[1;33m(\u001b[0m\u001b[1;34mr\"test1\\test2\\test3\"\u001b[0m\u001b[1;33m)\u001b[0m \u001b[1;31m# test3을 삭제\u001b[0m\u001b[1;33m\u001b[0m\u001b[1;33m\u001b[0m\u001b[0m\n\u001b[0m",
      "\u001b[1;31mFileNotFoundError\u001b[0m: [WinError 2] 지정된 파일을 찾을 수 없습니다: 'test1\\\\test2\\\\test3'"
     ]
    }
   ],
   "source": [
    "# 디렉토리 삭제하는 법\n",
    "os.rmdir(r\"test1\\test2\\test3\") # test3을 삭제"
   ]
  },
  {
   "cell_type": "code",
   "execution_count": 27,
   "metadata": {},
   "outputs": [
    {
     "ename": "OSError",
     "evalue": "[WinError 145] 디렉터리가 비어 있지 않습니다: 'test1'",
     "output_type": "error",
     "traceback": [
      "\u001b[1;31m---------------------------------------------------------------------------\u001b[0m",
      "\u001b[1;31mOSError\u001b[0m                                   Traceback (most recent call last)",
      "\u001b[1;32m<ipython-input-27-b0e2750532ae>\u001b[0m in \u001b[0;36m<module>\u001b[1;34m\u001b[0m\n\u001b[1;32m----> 1\u001b[1;33m \u001b[0mos\u001b[0m\u001b[1;33m.\u001b[0m\u001b[0mrmdir\u001b[0m\u001b[1;33m(\u001b[0m\u001b[1;34mr\"test1\"\u001b[0m\u001b[1;33m)\u001b[0m\u001b[1;33m\u001b[0m\u001b[1;33m\u001b[0m\u001b[0m\n\u001b[0m",
      "\u001b[1;31mOSError\u001b[0m: [WinError 145] 디렉터리가 비어 있지 않습니다: 'test1'"
     ]
    }
   ],
   "source": [
    "os.rmdir(r\"test1\") # 빈 디렉토리만 삭제 가능"
   ]
  },
  {
   "cell_type": "code",
   "execution_count": 28,
   "metadata": {},
   "outputs": [],
   "source": [
    "os.removedirs(r\"test1\\test2\\test4\")"
   ]
  },
  {
   "cell_type": "code",
   "execution_count": 30,
   "metadata": {},
   "outputs": [
    {
     "ename": "FileNotFoundError",
     "evalue": "[WinError 3] 지정된 경로를 찾을 수 없습니다: 'test1/test2'",
     "output_type": "error",
     "traceback": [
      "\u001b[1;31m---------------------------------------------------------------------------\u001b[0m",
      "\u001b[1;31mFileNotFoundError\u001b[0m                         Traceback (most recent call last)",
      "\u001b[1;32m<ipython-input-30-8119b00df08b>\u001b[0m in \u001b[0;36m<module>\u001b[1;34m\u001b[0m\n\u001b[1;32m----> 1\u001b[1;33m \u001b[0mos\u001b[0m\u001b[1;33m.\u001b[0m\u001b[0mremovedirs\u001b[0m\u001b[1;33m(\u001b[0m\u001b[1;34mr\"test1/test2\"\u001b[0m\u001b[1;33m)\u001b[0m  \u001b[1;31m#test1, test2 모두 삭제\u001b[0m\u001b[1;33m\u001b[0m\u001b[1;33m\u001b[0m\u001b[0m\n\u001b[0m\u001b[0;32m      2\u001b[0m \u001b[1;33m\u001b[0m\u001b[0m\n\u001b[0;32m      3\u001b[0m \u001b[1;31m# test1 밑에 test2만 있으면 test1, test2 모두 삭제\u001b[0m\u001b[1;33m\u001b[0m\u001b[1;33m\u001b[0m\u001b[1;33m\u001b[0m\u001b[0m\n\u001b[0;32m      4\u001b[0m \u001b[1;31m# test1 밑에 test2와 다른 디렉토리/파일이 있으면 test2만 삭제\u001b[0m\u001b[1;33m\u001b[0m\u001b[1;33m\u001b[0m\u001b[1;33m\u001b[0m\u001b[0m\n",
      "\u001b[1;32m~\\Anaconda3\\lib\\os.py\u001b[0m in \u001b[0;36mremovedirs\u001b[1;34m(name)\u001b[0m\n\u001b[0;32m    239\u001b[0m \u001b[1;33m\u001b[0m\u001b[0m\n\u001b[0;32m    240\u001b[0m     \"\"\"\n\u001b[1;32m--> 241\u001b[1;33m     \u001b[0mrmdir\u001b[0m\u001b[1;33m(\u001b[0m\u001b[0mname\u001b[0m\u001b[1;33m)\u001b[0m\u001b[1;33m\u001b[0m\u001b[1;33m\u001b[0m\u001b[0m\n\u001b[0m\u001b[0;32m    242\u001b[0m     \u001b[0mhead\u001b[0m\u001b[1;33m,\u001b[0m \u001b[0mtail\u001b[0m \u001b[1;33m=\u001b[0m \u001b[0mpath\u001b[0m\u001b[1;33m.\u001b[0m\u001b[0msplit\u001b[0m\u001b[1;33m(\u001b[0m\u001b[0mname\u001b[0m\u001b[1;33m)\u001b[0m\u001b[1;33m\u001b[0m\u001b[1;33m\u001b[0m\u001b[0m\n\u001b[0;32m    243\u001b[0m     \u001b[1;32mif\u001b[0m \u001b[1;32mnot\u001b[0m \u001b[0mtail\u001b[0m\u001b[1;33m:\u001b[0m\u001b[1;33m\u001b[0m\u001b[1;33m\u001b[0m\u001b[0m\n",
      "\u001b[1;31mFileNotFoundError\u001b[0m: [WinError 3] 지정된 경로를 찾을 수 없습니다: 'test1/test2'"
     ]
    }
   ],
   "source": [
    "os.removedirs(r\"test1/test2\")  #test1, test2 모두 삭제\n",
    "\n",
    "# test1 밑에 test2만 있으면 test1, test2 모두 삭제\n",
    "# test1 밑에 test2와 다른 디렉토리/파일이 있으면 test2만 삭제"
   ]
  },
  {
   "cell_type": "code",
   "execution_count": null,
   "metadata": {},
   "outputs": [],
   "source": [
    "# 파일 삭제\n",
    "os.remove()"
   ]
  },
  {
   "cell_type": "markdown",
   "metadata": {},
   "source": [
    "### os.path 모듈\n",
    "- 경로 관련 처리를 하는 모듈"
   ]
  },
  {
   "cell_type": "code",
   "execution_count": 32,
   "metadata": {},
   "outputs": [],
   "source": [
    "import os"
   ]
  },
  {
   "cell_type": "code",
   "execution_count": 33,
   "metadata": {},
   "outputs": [
    {
     "data": {
      "text/plain": [
       "(False, True)"
      ]
     },
     "execution_count": 33,
     "metadata": {},
     "output_type": "execute_result"
    }
   ],
   "source": [
    "# 파일이나 디렉토리가 있는지 여부\n",
    "os.path.exists(\"a.txt\"), os.path.exists(\"my_module.py\")"
   ]
  },
  {
   "cell_type": "code",
   "execution_count": 36,
   "metadata": {},
   "outputs": [
    {
     "data": {
      "text/plain": [
       "(False, True, False)"
      ]
     },
     "execution_count": 36,
     "metadata": {},
     "output_type": "execute_result"
    }
   ],
   "source": [
    "# 디렉토리인지의 여부(없으면 False)\n",
    "os.path.isdir(\"my_module.py\"), os.path.isdir(\"test\"), os.path.isdir(\"aaaa\")"
   ]
  },
  {
   "cell_type": "code",
   "execution_count": 35,
   "metadata": {},
   "outputs": [],
   "source": [
    "os.mkdir(\"test\")"
   ]
  },
  {
   "cell_type": "code",
   "execution_count": 39,
   "metadata": {},
   "outputs": [
    {
     "data": {
      "text/plain": [
       "(True, False, False)"
      ]
     },
     "execution_count": 39,
     "metadata": {},
     "output_type": "execute_result"
    }
   ],
   "source": [
    "# 파일인지 여부(없으면 False)\n",
    "os.path.isfile(\"my_module.py\"), os.path.isfile(\"test\"), os.path.isfile(\"aaa.txt\")"
   ]
  },
  {
   "cell_type": "code",
   "execution_count": 41,
   "metadata": {},
   "outputs": [],
   "source": [
    "path = \"test\"\n",
    "if not os.path.isdir(path):  # test 디렉토리가 없으면?\n",
    "    os.mkdir(path)"
   ]
  },
  {
   "cell_type": "code",
   "execution_count": 43,
   "metadata": {},
   "outputs": [
    {
     "name": "stdout",
     "output_type": "stream",
     "text": [
      "C:\\project\\data\\image\n"
     ]
    }
   ],
   "source": [
    "# 경로를 문자열로 조합해주는 함수\n",
    "path = os.path.join(\"C:\\project\", \"data\", \"image\")\n",
    "print(path)"
   ]
  },
  {
   "cell_type": "code",
   "execution_count": null,
   "metadata": {},
   "outputs": [],
   "source": [
    "r\"c:\\project\\data\\image\""
   ]
  },
  {
   "cell_type": "code",
   "execution_count": null,
   "metadata": {},
   "outputs": [],
   "source": [
    "# C:\\project  프로젝트 경로\n",
    "#   데이터들을 저장할 경로: data\n",
    "#      이미지 데이터: img\n",
    "#      텍스트 데이터: txt\n",
    "#   소스 경로: src"
   ]
  },
  {
   "cell_type": "code",
   "execution_count": 51,
   "metadata": {},
   "outputs": [],
   "source": [
    "base_dir = r\"c:\\project\"\n",
    "# src_dir = base_dir + r\"\\src\"\n",
    "src_dir = os.path.join(base_dir, \"src\")\n",
    "data_dir = os.path.join(base_dir, \"data\")\n",
    "data_img_dir = os.path.join(data_dir, \"img\")\n",
    "data_txt_dir = os.path.join(data_dir, \"txt\")"
   ]
  },
  {
   "cell_type": "code",
   "execution_count": 56,
   "metadata": {},
   "outputs": [
    {
     "name": "stdout",
     "output_type": "stream",
     "text": [
      "c:\\project\\data\\img\\1.jpg\n"
     ]
    }
   ],
   "source": [
    "img1_file = os.path.join(data_img_dir, \"1.jpg\")\n",
    "print(img1_file)"
   ]
  },
  {
   "cell_type": "code",
   "execution_count": 45,
   "metadata": {},
   "outputs": [
    {
     "data": {
      "text/plain": [
       "'c:\\\\project\\\\src'"
      ]
     },
     "execution_count": 45,
     "metadata": {},
     "output_type": "execute_result"
    }
   ],
   "source": [
    "src_dir"
   ]
  },
  {
   "cell_type": "code",
   "execution_count": 47,
   "metadata": {},
   "outputs": [
    {
     "data": {
      "text/plain": [
       "'c:\\\\project\\\\data'"
      ]
     },
     "execution_count": 47,
     "metadata": {},
     "output_type": "execute_result"
    }
   ],
   "source": [
    "data_dir"
   ]
  },
  {
   "cell_type": "code",
   "execution_count": 49,
   "metadata": {},
   "outputs": [
    {
     "data": {
      "text/plain": [
       "'c:\\\\project\\\\data\\\\img'"
      ]
     },
     "execution_count": 49,
     "metadata": {},
     "output_type": "execute_result"
    }
   ],
   "source": [
    "data_img_dir"
   ]
  },
  {
   "cell_type": "code",
   "execution_count": 52,
   "metadata": {},
   "outputs": [
    {
     "data": {
      "text/plain": [
       "'c:\\\\project\\\\data\\\\txt'"
      ]
     },
     "execution_count": 52,
     "metadata": {},
     "output_type": "execute_result"
    }
   ],
   "source": [
    "data_txt_dir"
   ]
  },
  {
   "cell_type": "code",
   "execution_count": 57,
   "metadata": {},
   "outputs": [
    {
     "name": "stdout",
     "output_type": "stream",
     "text": [
      "C:\\Users\\Playdata\\코딩\n"
     ]
    }
   ],
   "source": [
    "!cd"
   ]
  },
  {
   "cell_type": "code",
   "execution_count": 59,
   "metadata": {},
   "outputs": [
    {
     "name": "stdout",
     "output_type": "stream",
     "text": [
      " C 드라이브의 볼륨에는 이름이 없습니다.\n",
      " 볼륨 일련 번호: 3C67-7697\n",
      "\n",
      " C:\\Users\\Playdata\\코딩 디렉터리\n",
      "\n",
      "2021-01-19  오후 02:14    <DIR>          .\n",
      "2021-01-19  오후 02:14    <DIR>          ..\n",
      "2021-01-19  오전 10:22    <DIR>          .ipynb_checkpoints\n",
      "2021-01-06  오전 10:48            22,260 01_변수2.ipynb\n",
      "2021-01-06  오전 09:12            43,593 01_변수_데이터타입.ipynb\n",
      "2021-01-07  오후 12:17            72,932 02_자료구조.ipynb\n",
      "2021-01-11  오전 09:46            49,337 03_제어문.ipynb\n",
      "2021-01-12  오후 02:49            53,512 03_함수.ipynb\n",
      "2021-01-15  오전 11:35            56,159 04_객체지향 프로그래밍.ipynb\n",
      "2021-01-15  오후 04:50            11,494 06_module_package_import.ipynb\n",
      "2021-01-18  오후 05:02            15,721 07_예외와 예외처리.ipynb\n",
      "2021-01-19  오후 02:14            21,397 08_입출력_IO.ipynb\n",
      "2021-01-15  오후 02:44               218 my_module.py\n",
      "2021-01-15  오후 04:33    <DIR>          my_package\n",
      "2021-01-19  오후 12:25    <DIR>          test\n",
      "2021-01-15  오후 02:44    <DIR>          __pycache__\n",
      "2021-01-14  오후 11:37            26,193 낙서장.ipynb\n",
      "2021-01-13  오후 11:23             8,594 알고리즘 스터디.ipynb\n",
      "              12개 파일             381,410 바이트\n",
      "               6개 디렉터리  195,921,473,536 바이트 남음\n"
     ]
    }
   ],
   "source": [
    "!dir"
   ]
  },
  {
   "cell_type": "markdown",
   "metadata": {},
   "source": [
    "# 텍스트 파일 입출력\n",
    "1. 연결 - open()\n",
    "2. 입출력 - read()/write()\n",
    "3. 연결 닫기 - close()"
   ]
  },
  {
   "cell_type": "code",
   "execution_count": 61,
   "metadata": {},
   "outputs": [],
   "source": [
    "# 현재 디렉토리 안에 있는 a.txt와 연결\n",
    "# wt: 쓰기 + 텍스트 모드\n",
    "# encoding 생략: os 기본 인코딩 - win: cp949, 유닉스(맥)/리눅스: utf-8\n",
    "f = open(\"a.txt\", \"wt\")  # \"w\" == \"wt\", t는 기본이므로 생략 가능"
   ]
  },
  {
   "cell_type": "code",
   "execution_count": 64,
   "metadata": {},
   "outputs": [
    {
     "data": {
      "text/plain": [
       "18"
      ]
     },
     "execution_count": 64,
     "metadata": {},
     "output_type": "execute_result"
    }
   ],
   "source": [
    "# 출력\n",
    "txt = \"\"\"안녕하세요.\n",
    "ABCDE\n",
    "12345\"\"\"\n",
    "f.write(txt) # 18: 글자수"
   ]
  },
  {
   "cell_type": "code",
   "execution_count": 67,
   "metadata": {},
   "outputs": [
    {
     "data": {
      "text/plain": [
       "10"
      ]
     },
     "execution_count": 67,
     "metadata": {},
     "output_type": "execute_result"
    }
   ],
   "source": [
    "f.write(\"\\n두번째로 쓴 내용\")"
   ]
  },
  {
   "cell_type": "code",
   "execution_count": 68,
   "metadata": {},
   "outputs": [],
   "source": [
    "# 연결 닫기\n",
    "f.close()"
   ]
  },
  {
   "cell_type": "code",
   "execution_count": 69,
   "metadata": {},
   "outputs": [
    {
     "ename": "ValueError",
     "evalue": "I/O operation on closed file.",
     "output_type": "error",
     "traceback": [
      "\u001b[1;31m---------------------------------------------------------------------------\u001b[0m",
      "\u001b[1;31mValueError\u001b[0m                                Traceback (most recent call last)",
      "\u001b[1;32m<ipython-input-69-4810c5f30bb9>\u001b[0m in \u001b[0;36m<module>\u001b[1;34m\u001b[0m\n\u001b[1;32m----> 1\u001b[1;33m \u001b[0mf\u001b[0m\u001b[1;33m.\u001b[0m\u001b[0mwrite\u001b[0m\u001b[1;33m(\u001b[0m\u001b[1;34m\"세번째\"\u001b[0m\u001b[1;33m)\u001b[0m\u001b[1;33m\u001b[0m\u001b[1;33m\u001b[0m\u001b[0m\n\u001b[0m",
      "\u001b[1;31mValueError\u001b[0m: I/O operation on closed file."
     ]
    }
   ],
   "source": [
    "f.write(\"세번째\")"
   ]
  },
  {
   "cell_type": "code",
   "execution_count": 79,
   "metadata": {},
   "outputs": [
    {
     "name": "stdout",
     "output_type": "stream",
     "text": [
      "C:\\Users\\Playdata\\코딩\\my_text.txt\n"
     ]
    }
   ],
   "source": [
    "file = os.path.join(os.getcwd(), \"my_text.txt\")\n",
    "print(file)\n",
    "# 출력 모드일 때 파일이 없으면 파일을 생성함\n",
    "# w : 덮어쓰기\n",
    "f = open(file, \"w\")\n",
    "f.write(\"첫번째 줄\\n\")\n",
    "f.write(\"두번째 줄\\n\")\n",
    "f.write(\"세번째 줄\")\n",
    "# 연결 닫기\n",
    "f.close()"
   ]
  },
  {
   "cell_type": "code",
   "execution_count": 84,
   "metadata": {},
   "outputs": [
    {
     "name": "stdout",
     "output_type": "stream",
     "text": [
      "C:\\Users\\Playdata\\코딩\\my_text2.txt\n"
     ]
    }
   ],
   "source": [
    "file = os.path.join(os.getcwd(), \"my_text2.txt\")\n",
    "print(file)\n",
    "# 출력 모드일 때 파일이 없으면 파일을 생성함\n",
    "# a : 이어쓰기\n",
    "f = open(file, \"at\")\n",
    "f.write(\"첫번째 줄\\n\")\n",
    "f.write(\"두번째 줄\\n\")\n",
    "f.write(\"세번째 줄\")\n",
    "# 연결 닫기\n",
    "f.close()"
   ]
  },
  {
   "cell_type": "code",
   "execution_count": 125,
   "metadata": {},
   "outputs": [
    {
     "name": "stdout",
     "output_type": "stream",
     "text": [
      "C:\\Users\\Playdata\\코딩\\my_text3.txt\n"
     ]
    }
   ],
   "source": [
    "file = os.path.join(os.getcwd(), \"my_text3.txt\")\n",
    "print(file)\n",
    "# 출력 모드일 때 파일이 없으면 파일을 생성함\n",
    "# a : 이어쓰기\n",
    "f = open(file, \"at\")\n",
    "f.write(\"첫번째 줄\\n\")\n",
    "f.write(\"두번째 줄\\n\")\n",
    "f.write(\"세번째 줄\\n\")\n",
    "# 연결 닫기\n",
    "f.close()"
   ]
  },
  {
   "cell_type": "code",
   "execution_count": 120,
   "metadata": {},
   "outputs": [
    {
     "name": "stdout",
     "output_type": "stream",
     "text": [
      "C:\\Users\\Playdata\\코딩\\my_text4.txt\n"
     ]
    },
    {
     "data": {
      "text/plain": [
       "6"
      ]
     },
     "execution_count": 120,
     "metadata": {},
     "output_type": "execute_result"
    }
   ],
   "source": [
    "file = os.path.join(os.getcwd(), \"my_text4.txt\")\n",
    "print(file)\n",
    "# 출력 모드일 때 파일이 없으면 파일을 생성함\n",
    "# a : 이어쓰기\n",
    "f = open(file, \"at\")\n",
    "f.write(\"첫번째 줄\\n\")\n",
    "f.flush()  # 버퍼(메모리)를 비워라 => 파일에 써라 \n",
    "f.write(\"두번째 줄\\n\")\n",
    "f.flush()\n",
    "f.write(\"세번째 줄\\n\")\n",
    "# 연결 닫기"
   ]
  },
  {
   "cell_type": "code",
   "execution_count": 121,
   "metadata": {},
   "outputs": [],
   "source": [
    "f.close()"
   ]
  },
  {
   "cell_type": "code",
   "execution_count": 122,
   "metadata": {},
   "outputs": [
    {
     "name": "stdout",
     "output_type": "stream",
     "text": [
      "첫번째 줄\n",
      "두번째 줄\n",
      "세번째 줄첫번째 줄\n",
      "두번째 줄\n",
      "세번째 줄첫번째 줄\n",
      "두번째 줄\n",
      "세번째 줄첫번째 줄\n",
      "두번째 줄\n",
      "세번째 줄첫번째 줄\n",
      "두번째 줄\n",
      "세번째 줄첫번째 줄\n",
      "두번째 줄\n",
      "세번째 줄첫번째 줄\n",
      "두번째 줄\n",
      "세번째 줄첫번째 줄\n",
      "두번째 줄\n",
      "세번째 줄첫번째 줄\n",
      "두번째 줄\n",
      "세번째 줄\n",
      "\n"
     ]
    }
   ],
   "source": [
    "file = \"my_text3.txt\"\n",
    "# 읽기 / 텍스트\n",
    "# 읽기 모드인 경우 파일이 반드시 존재해야 한다.\n",
    "try:\n",
    "    # 연결\n",
    "    fi = open(file, \"rt\")\n",
    "    # 읽기\n",
    "    txt = fi.read() # 파일에서 읽은 데이터(텍스트)를 반환. read(): 한번에 전체를 읽어줌\n",
    "    print(txt)\n",
    "except:\n",
    "    print(f\"파일 {file}를 읽는 도중 오류 발생\")\n",
    "finally:\n",
    "    # 연결 닫기는 finally에서 처리\n",
    "    fi.close()"
   ]
  },
  {
   "cell_type": "code",
   "execution_count": 127,
   "metadata": {},
   "outputs": [
    {
     "name": "stdout",
     "output_type": "stream",
     "text": [
      "<class 'list'>\n",
      "['첫번째 줄\\n', '두번째 줄\\n', '세번째 줄첫번째 줄\\n', '두번째 줄\\n', '세번째 줄첫번째 줄\\n', '두번째 줄\\n', '세번째 줄첫번째 줄\\n', '두번째 줄\\n', '세번째 줄첫번째 줄\\n', '두번째 줄\\n', '세번째 줄첫번째 줄\\n', '두번째 줄\\n', '세번째 줄첫번째 줄\\n', '두번째 줄\\n', '세번째 줄첫번째 줄\\n', '두번째 줄\\n', '세번째 줄첫번째 줄\\n', '두번째 줄\\n', '세번째 줄\\n', '첫번째 줄\\n', '두번째 줄\\n', '세번째 줄\\n']\n"
     ]
    }
   ],
   "source": [
    "try:\n",
    "    fi = open(\"my_text3.txt\")  # rt 모드\n",
    "#     txt = fi.read()  # 전체를 읽어옴\n",
    "    txt_list = fi.readlines()\n",
    "    print(type(txt_list))  # 한 줄을 하나의 문자열로써 리스트로 묶어 반환\n",
    "    print(txt_list)\n",
    "except:\n",
    "    print(\"오류 발생\")\n",
    "finally:\n",
    "    fi.close()"
   ]
  },
  {
   "cell_type": "code",
   "execution_count": 131,
   "metadata": {},
   "outputs": [
    {
     "ename": "SyntaxError",
     "evalue": "f-string: unmatched ')' (<ipython-input-131-4fed5d53c445>, line 5)",
     "output_type": "error",
     "traceback": [
      "\u001b[1;36m  File \u001b[1;32m\"<ipython-input-131-4fed5d53c445>\"\u001b[1;36m, line \u001b[1;32m5\u001b[0m\n\u001b[1;33m    print(f\"{index}. {line_text)\", end=\"\")\u001b[0m\n\u001b[1;37m          ^\u001b[0m\n\u001b[1;31mSyntaxError\u001b[0m\u001b[1;31m:\u001b[0m f-string: unmatched ')'\n"
     ]
    }
   ],
   "source": [
    "try:\n",
    "    fi = open(\"my_text3.txt\")\n",
    "    # 입력 Stream(fi) = iterable 타입 => for in문에서 사용시 한 번 반복할 때 한 줄 반환\n",
    "    for index, line_text in enumerate(fi, start=1):\n",
    "        print(f\"{index}. {line_text)\", end=\"\")\n",
    "    \n",
    "    \n",
    "except:\n",
    "    print(\"오류 발생\")\n",
    "finally:\n",
    "    fi.close()"
   ]
  },
  {
   "cell_type": "code",
   "execution_count": null,
   "metadata": {},
   "outputs": [],
   "source": [
    "try:\n",
    "    1. 연결\n",
    "    2. 입출력\n",
    "except:\n",
    "    연결, 입출력 시 발생한 예외 처리\n",
    "finally:\n",
    "    3. 연결 닫기 = 무 적 권 해야함\n",
    "    "
   ]
  },
  {
   "cell_type": "code",
   "execution_count": 133,
   "metadata": {},
   "outputs": [
    {
     "ename": "SyntaxError",
     "evalue": "unexpected EOF while parsing (<ipython-input-133-efbefc021ea0>, line 3)",
     "output_type": "error",
     "traceback": [
      "\u001b[1;36m  File \u001b[1;32m\"<ipython-input-133-efbefc021ea0>\"\u001b[1;36m, line \u001b[1;32m3\u001b[0m\n\u001b[1;33m    \u001b[0m\n\u001b[1;37m    ^\u001b[0m\n\u001b[1;31mSyntaxError\u001b[0m\u001b[1;31m:\u001b[0m unexpected EOF while parsing\n"
     ]
    }
   ],
   "source": [
    "try:\n",
    "    f = open(\"my_text3.txt\")"
   ]
  },
  {
   "cell_type": "markdown",
   "metadata": {},
   "source": [
    "with open(\"my_text3.txt) as fi:"
   ]
  },
  {
   "cell_type": "code",
   "execution_count": null,
   "metadata": {},
   "outputs": [],
   "source": [
    "try:\n",
    "    fo = open(\"test.txt\", \"wt\")\n",
    "    x = fi.read()\n",
    "    print(x)\n",
    "finally:\n",
    "    fi.close()"
   ]
  },
  {
   "cell_type": "code",
   "execution_count": 135,
   "metadata": {},
   "outputs": [],
   "source": [
    "try:\n",
    "    \n",
    "    with open(\"test.txt\", \"wt\") as fo:\n",
    "        fo.write(\"a\")\n",
    "        fo.write(\"b\")\n",
    "except:\n",
    "    pass\n",
    "# with 블럭의 실행이 끝나면 알아서 close 됨"
   ]
  },
  {
   "cell_type": "code",
   "execution_count": null,
   "metadata": {},
   "outputs": [],
   "source": []
  },
  {
   "cell_type": "markdown",
   "metadata": {},
   "source": [
    "TODO - 간단한 메모장  \n",
    "사용자로부터 파일명을 입력받는다.  \n",
    "사용자로 부터 파일에 저장할 문장을 입력받아서 파일에 저장한다.  \n",
    "사용자가 !q 를 입력하면 종료한다.  \n",
    "\n",
    "사용자가 저장한 파일을 읽어서 출력한다.  "
   ]
  },
  {
   "cell_type": "code",
   "execution_count": 4,
   "metadata": {},
   "outputs": [
    {
     "ename": "IndentationError",
     "evalue": "unexpected indent (<ipython-input-4-a39e3c069cd7>, line 7)",
     "output_type": "error",
     "traceback": [
      "\u001b[1;36m  File \u001b[1;32m\"<ipython-input-4-a39e3c069cd7>\"\u001b[1;36m, line \u001b[1;32m7\u001b[0m\n\u001b[1;33m    continue\u001b[0m\n\u001b[1;37m    ^\u001b[0m\n\u001b[1;31mIndentationError\u001b[0m\u001b[1;31m:\u001b[0m unexpected indent\n"
     ]
    }
   ],
   "source": [
    "def print_memo():\n",
    "    filename = input(\"파일명을 입력하세요: \")\n",
    "    fi = open(filename+\".txt\", \"at\")\n",
    "    memo_repeat = input(\"내용을 입력하세요: \")\n",
    "    if memo_repeat != \"!q\":\n",
    "        fi.write(memo_repeat)\n",
    "    else:\n",
    "        fi.close()"
   ]
  },
  {
   "cell_type": "code",
   "execution_count": 2,
   "metadata": {},
   "outputs": [
    {
     "name": "stdout",
     "output_type": "stream",
     "text": [
      "파일명을 입력하세요: dd\n"
     ]
    },
    {
     "ename": "UnboundLocalError",
     "evalue": "local variable 'memo_repeat' referenced before assignment",
     "output_type": "error",
     "traceback": [
      "\u001b[1;31m---------------------------------------------------------------------------\u001b[0m",
      "\u001b[1;31mUnboundLocalError\u001b[0m                         Traceback (most recent call last)",
      "\u001b[1;32m<ipython-input-2-f1e634408084>\u001b[0m in \u001b[0;36m<module>\u001b[1;34m\u001b[0m\n\u001b[1;32m----> 1\u001b[1;33m \u001b[0mprint_memo\u001b[0m\u001b[1;33m(\u001b[0m\u001b[1;33m)\u001b[0m\u001b[1;33m\u001b[0m\u001b[1;33m\u001b[0m\u001b[0m\n\u001b[0m",
      "\u001b[1;32m<ipython-input-1-82a792bef4ff>\u001b[0m in \u001b[0;36mprint_memo\u001b[1;34m()\u001b[0m\n\u001b[0;32m      2\u001b[0m     \u001b[0mfilename\u001b[0m \u001b[1;33m=\u001b[0m \u001b[0minput\u001b[0m\u001b[1;33m(\u001b[0m\u001b[1;34m\"파일명을 입력하세요: \"\u001b[0m\u001b[1;33m)\u001b[0m\u001b[1;33m\u001b[0m\u001b[1;33m\u001b[0m\u001b[0m\n\u001b[0;32m      3\u001b[0m     \u001b[0mfi\u001b[0m \u001b[1;33m=\u001b[0m \u001b[0mopen\u001b[0m\u001b[1;33m(\u001b[0m\u001b[0mfilename\u001b[0m\u001b[1;33m+\u001b[0m\u001b[1;34m\".txt\"\u001b[0m\u001b[1;33m,\u001b[0m \u001b[1;34m\"at\"\u001b[0m\u001b[1;33m)\u001b[0m\u001b[1;33m\u001b[0m\u001b[1;33m\u001b[0m\u001b[0m\n\u001b[1;32m----> 4\u001b[1;33m     \u001b[1;32mif\u001b[0m \u001b[0mmemo_repeat\u001b[0m \u001b[1;33m!=\u001b[0m \u001b[1;34m\"!q\"\u001b[0m\u001b[1;33m:\u001b[0m\u001b[1;33m\u001b[0m\u001b[1;33m\u001b[0m\u001b[0m\n\u001b[0m\u001b[0;32m      5\u001b[0m         \u001b[0mmemo_repeat\u001b[0m \u001b[1;33m=\u001b[0m \u001b[0minput\u001b[0m\u001b[1;33m(\u001b[0m\u001b[1;34m\"내용을 입력하세요: \"\u001b[0m\u001b[1;33m)\u001b[0m\u001b[1;33m\u001b[0m\u001b[1;33m\u001b[0m\u001b[0m\n\u001b[0;32m      6\u001b[0m         \u001b[0mfi\u001b[0m\u001b[1;33m.\u001b[0m\u001b[0mwrite\u001b[0m\u001b[1;33m(\u001b[0m\u001b[0mmemo_repeat\u001b[0m\u001b[1;33m)\u001b[0m\u001b[1;33m\u001b[0m\u001b[1;33m\u001b[0m\u001b[0m\n",
      "\u001b[1;31mUnboundLocalError\u001b[0m: local variable 'memo_repeat' referenced before assignment"
     ]
    }
   ],
   "source": [
    "print_memo()"
   ]
  },
  {
   "cell_type": "code",
   "execution_count": 7,
   "metadata": {},
   "outputs": [
    {
     "name": "stdout",
     "output_type": "stream",
     "text": [
      "파일명: 흠여뤄\n",
      "내용 입력: 흠여뤼\n",
      "내용 입력: 흠냐뤼\n",
      "내용 입력: 흠야륑\n",
      "내용 입력: !q\n",
      "종료\n"
     ]
    }
   ],
   "source": [
    "# 1. 파일명 입력\n",
    "file = input(\"파일명: \")\n",
    "try:\n",
    "    with open(file, \"wt\") as fw:\n",
    "        # 사용자 입력 읽어오기\n",
    "        # 사용자가 !q를 입력하기 전까지 입력된 내용을 파일에 출력\n",
    "        while True:\n",
    "            line = input(\"내용 입력: \")\n",
    "            if line == \"!q\":\n",
    "                break\n",
    "            fw.write(line+\"\\n\")\n",
    "        print(\"종료\")\n",
    "except:\n",
    "    print(\"실행 도중 오류 발생\")"
   ]
  },
  {
   "cell_type": "code",
   "execution_count": 10,
   "metadata": {},
   "outputs": [
    {
     "name": "stdout",
     "output_type": "stream",
     "text": [
      "흠여뤼\n",
      "흠냐뤼\n",
      "흠야륑\n",
      "\n"
     ]
    }
   ],
   "source": [
    "try:\n",
    "    with open(file, \"rt\") as fi:\n",
    "        memo = fi.read()\n",
    "        print(memo)\n",
    "except:\n",
    "    pass"
   ]
  },
  {
   "cell_type": "code",
   "execution_count": null,
   "metadata": {},
   "outputs": [],
   "source": []
  },
  {
   "cell_type": "code",
   "execution_count": null,
   "metadata": {},
   "outputs": [],
   "source": []
  },
  {
   "cell_type": "code",
   "execution_count": null,
   "metadata": {},
   "outputs": [],
   "source": []
  },
  {
   "cell_type": "code",
   "execution_count": null,
   "metadata": {},
   "outputs": [],
   "source": []
  },
  {
   "cell_type": "code",
   "execution_count": null,
   "metadata": {},
   "outputs": [],
   "source": []
  },
  {
   "cell_type": "code",
   "execution_count": null,
   "metadata": {},
   "outputs": [],
   "source": []
  },
  {
   "cell_type": "markdown",
   "metadata": {},
   "source": [
    "## csv (Comma Separated Value) 파일\n",
    "- 정형 데이터(테이블(표) 형태)를 파일에 저장하는 방식\n",
    "- 한 개의 데이터를 한 줄에 표시\n",
    "- 한 개의 데이터를 구성하는 값(속성)은 \",\"로 구분\n",
    "    - tsv(Tab Separated Value) - 속성값들을 tab으로 구분\n",
    "- 텍스트 파일 기반\n",
    "- 파일 확장자는 \".csv\", \".tsv\" 를 사용"
   ]
  },
  {
   "cell_type": "code",
   "execution_count": null,
   "metadata": {},
   "outputs": [],
   "source": [
    "TODO - csv 파일을 읽어서 각 열의 값을 배열에 담는다.  \n",
    "이름,나이,주소  형태의 csv를 읽어  \n",
    "names = [\"홍길동\", \"박영희\", \"김영수\", ...]  \n",
    "ages =[20, 30, 17, 20, 22]  \n",
    "address =[\"서울\", \"인천\", \"부산\", ...]  \n",
    "배열에 넣는다. 라인이 index가 된다.  \n",
    "홍길동,20,서울  \n",
    "박영희,30,인천  \n",
    "김영수,17,부산  \n",
    "이경수,20,서울  \n",
    "장경철,22,인천  "
   ]
  },
  {
   "cell_type": "code",
   "execution_count": null,
   "metadata": {},
   "outputs": [],
   "source": [
    "data.csv"
   ]
  },
  {
   "cell_type": "code",
   "execution_count": null,
   "metadata": {},
   "outputs": [],
   "source": [
    "#1. data.csv와 읽기 모드로 연결\n",
    "#2. 라인 단위로 읽어서 이름, 나이, 주소를 분리 = 리스트에 각각 추가"
   ]
  },
  {
   "cell_type": "code",
   "execution_count": 35,
   "metadata": {},
   "outputs": [],
   "source": [
    "names = []\n",
    "ages = []\n",
    "address = []\n",
    "\n",
    "try:\n",
    "    with open(\"data.csv\", \"rt\", encoding=\"utf-8\") as fi:\n",
    "        for line in fi:\n",
    "            name, age, addr = line.split(\",\")\n",
    "            names.append(name.strip())\n",
    "            ages.append(age.strip())\n",
    "            address.append(addr.strip())\n",
    "\n",
    "except Exception as e:\n",
    "    print(\"Error!\", e)\n"
   ]
  },
  {
   "cell_type": "code",
   "execution_count": 36,
   "metadata": {},
   "outputs": [
    {
     "data": {
      "text/plain": [
       "['홍길동', '박영희', '김영수', '이경수', '장경철']"
      ]
     },
     "execution_count": 36,
     "metadata": {},
     "output_type": "execute_result"
    }
   ],
   "source": [
    "names"
   ]
  },
  {
   "cell_type": "code",
   "execution_count": 37,
   "metadata": {},
   "outputs": [
    {
     "data": {
      "text/plain": [
       "['20', '30', '17', '20', '22']"
      ]
     },
     "execution_count": 37,
     "metadata": {},
     "output_type": "execute_result"
    }
   ],
   "source": [
    "ages"
   ]
  },
  {
   "cell_type": "code",
   "execution_count": 38,
   "metadata": {},
   "outputs": [
    {
     "data": {
      "text/plain": [
       "['서울', '인천', '부산', '서울', '인천']"
      ]
     },
     "execution_count": 38,
     "metadata": {},
     "output_type": "execute_result"
    }
   ],
   "source": [
    "address"
   ]
  },
  {
   "cell_type": "code",
   "execution_count": 29,
   "metadata": {},
   "outputs": [],
   "source": [
    "# names, ages, address = csv"
   ]
  },
  {
   "cell_type": "code",
   "execution_count": 33,
   "metadata": {},
   "outputs": [],
   "source": [
    "with open(\"member.csv\", \"wt\", encoding=\"utf-8\") as fw:\n",
    "    for mem in zip(names, ages, address):\n",
    "        fw.write(\",\".join(mem)+\"\\n\")"
   ]
  },
  {
   "cell_type": "code",
   "execution_count": 32,
   "metadata": {},
   "outputs": [
    {
     "data": {
      "text/plain": [
       "'홍길동,20,서울'"
      ]
     },
     "execution_count": 32,
     "metadata": {},
     "output_type": "execute_result"
    }
   ],
   "source": [
    "t = ('홍길동', '20', '서울') \n",
    "# 리스트, 튜플의 원소들을 하나의 문자열로 묶는 메소드 => str\n",
    "\"구분자.join(튜플)\n",
    "\",\".join(t)"
   ]
  },
  {
   "cell_type": "code",
   "execution_count": 42,
   "metadata": {},
   "outputs": [
    {
     "ename": "AttributeError",
     "evalue": "partially initialized module 'pandas' has no attribute 'compat' (most likely due to a circular import)",
     "output_type": "error",
     "traceback": [
      "\u001b[1;31m---------------------------------------------------------------------------\u001b[0m",
      "\u001b[1;31mAttributeError\u001b[0m                            Traceback (most recent call last)",
      "\u001b[1;32m<ipython-input-42-fb917d97736f>\u001b[0m in \u001b[0;36m<module>\u001b[1;34m\u001b[0m\n\u001b[0;32m      1\u001b[0m \u001b[1;31m# pandas를 이용해 csv파일 읽어오기\u001b[0m\u001b[1;33m\u001b[0m\u001b[1;33m\u001b[0m\u001b[1;33m\u001b[0m\u001b[0m\n\u001b[1;32m----> 2\u001b[1;33m \u001b[1;32mimport\u001b[0m \u001b[0mpandas\u001b[0m \u001b[1;32mas\u001b[0m \u001b[0mpd\u001b[0m\u001b[1;33m\u001b[0m\u001b[1;33m\u001b[0m\u001b[0m\n\u001b[0m",
      "\u001b[1;32m~\\Anaconda3\\lib\\site-packages\\pandas\\__init__.py\u001b[0m in \u001b[0;36m<module>\u001b[1;34m\u001b[0m\n\u001b[0;32m    188\u001b[0m \u001b[1;31m# GH 27101\u001b[0m\u001b[1;33m\u001b[0m\u001b[1;33m\u001b[0m\u001b[1;33m\u001b[0m\u001b[0m\n\u001b[0;32m    189\u001b[0m \u001b[1;31m# TODO: remove Panel compat in 1.0\u001b[0m\u001b[1;33m\u001b[0m\u001b[1;33m\u001b[0m\u001b[1;33m\u001b[0m\u001b[0m\n\u001b[1;32m--> 190\u001b[1;33m \u001b[1;32mif\u001b[0m \u001b[0mpandas\u001b[0m\u001b[1;33m.\u001b[0m\u001b[0mcompat\u001b[0m\u001b[1;33m.\u001b[0m\u001b[0mPY37\u001b[0m\u001b[1;33m:\u001b[0m\u001b[1;33m\u001b[0m\u001b[1;33m\u001b[0m\u001b[0m\n\u001b[0m\u001b[0;32m    191\u001b[0m \u001b[1;33m\u001b[0m\u001b[0m\n\u001b[0;32m    192\u001b[0m     \u001b[1;32mdef\u001b[0m \u001b[0m__getattr__\u001b[0m\u001b[1;33m(\u001b[0m\u001b[0mname\u001b[0m\u001b[1;33m)\u001b[0m\u001b[1;33m:\u001b[0m\u001b[1;33m\u001b[0m\u001b[1;33m\u001b[0m\u001b[0m\n",
      "\u001b[1;31mAttributeError\u001b[0m: partially initialized module 'pandas' has no attribute 'compat' (most likely due to a circular import)"
     ]
    }
   ],
   "source": [
    "# pandas를 이용해 csv파일 읽어오기\n",
    "import pandas as pd"
   ]
  },
  {
   "cell_type": "code",
   "execution_count": 41,
   "metadata": {},
   "outputs": [
    {
     "ename": "NameError",
     "evalue": "name 'pd' is not defined",
     "output_type": "error",
     "traceback": [
      "\u001b[1;31m---------------------------------------------------------------------------\u001b[0m",
      "\u001b[1;31mNameError\u001b[0m                                 Traceback (most recent call last)",
      "\u001b[1;32m<ipython-input-41-b6fcc9941d74>\u001b[0m in \u001b[0;36m<module>\u001b[1;34m\u001b[0m\n\u001b[1;32m----> 1\u001b[1;33m \u001b[0mdata\u001b[0m \u001b[1;33m=\u001b[0m \u001b[0mpd\u001b[0m\u001b[1;33m.\u001b[0m\u001b[0mread_csv\u001b[0m\u001b[1;33m(\u001b[0m\u001b[1;34m\"data.csv\"\u001b[0m\u001b[1;33m,\u001b[0m \u001b[0mencoding\u001b[0m\u001b[1;33m=\u001b[0m\u001b[1;34m\"utf-8\"\u001b[0m\u001b[1;33m)\u001b[0m\u001b[1;33m\u001b[0m\u001b[1;33m\u001b[0m\u001b[0m\n\u001b[0m",
      "\u001b[1;31mNameError\u001b[0m: name 'pd' is not defined"
     ]
    }
   ],
   "source": [
    "data = pd.read_csv(\"data.csv\", encoding=\"utf-8\")"
   ]
  },
  {
   "cell_type": "code",
   "execution_count": 44,
   "metadata": {},
   "outputs": [
    {
     "ename": "AttributeError",
     "evalue": "partially initialized module 'pandas' has no attribute 'compat' (most likely due to a circular import)",
     "output_type": "error",
     "traceback": [
      "\u001b[1;31m---------------------------------------------------------------------------\u001b[0m",
      "\u001b[1;31mAttributeError\u001b[0m                            Traceback (most recent call last)",
      "\u001b[1;32m<ipython-input-44-7dd3504c366f>\u001b[0m in \u001b[0;36m<module>\u001b[1;34m\u001b[0m\n\u001b[1;32m----> 1\u001b[1;33m \u001b[1;32mimport\u001b[0m \u001b[0mpandas\u001b[0m \u001b[1;32mas\u001b[0m \u001b[0mpd\u001b[0m\u001b[1;33m\u001b[0m\u001b[1;33m\u001b[0m\u001b[0m\n\u001b[0m",
      "\u001b[1;32m~\\Anaconda3\\lib\\site-packages\\pandas\\__init__.py\u001b[0m in \u001b[0;36m<module>\u001b[1;34m\u001b[0m\n\u001b[0;32m    188\u001b[0m \u001b[1;31m# GH 27101\u001b[0m\u001b[1;33m\u001b[0m\u001b[1;33m\u001b[0m\u001b[1;33m\u001b[0m\u001b[0m\n\u001b[0;32m    189\u001b[0m \u001b[1;31m# TODO: remove Panel compat in 1.0\u001b[0m\u001b[1;33m\u001b[0m\u001b[1;33m\u001b[0m\u001b[1;33m\u001b[0m\u001b[0m\n\u001b[1;32m--> 190\u001b[1;33m \u001b[1;32mif\u001b[0m \u001b[0mpandas\u001b[0m\u001b[1;33m.\u001b[0m\u001b[0mcompat\u001b[0m\u001b[1;33m.\u001b[0m\u001b[0mPY37\u001b[0m\u001b[1;33m:\u001b[0m\u001b[1;33m\u001b[0m\u001b[1;33m\u001b[0m\u001b[0m\n\u001b[0m\u001b[0;32m    191\u001b[0m \u001b[1;33m\u001b[0m\u001b[0m\n\u001b[0;32m    192\u001b[0m     \u001b[1;32mdef\u001b[0m \u001b[0m__getattr__\u001b[0m\u001b[1;33m(\u001b[0m\u001b[0mname\u001b[0m\u001b[1;33m)\u001b[0m\u001b[1;33m:\u001b[0m\u001b[1;33m\u001b[0m\u001b[1;33m\u001b[0m\u001b[0m\n",
      "\u001b[1;31mAttributeError\u001b[0m: partially initialized module 'pandas' has no attribute 'compat' (most likely due to a circular import)"
     ]
    }
   ],
   "source": [
    "import pandas as pd"
   ]
  },
  {
   "cell_type": "code",
   "execution_count": null,
   "metadata": {},
   "outputs": [],
   "source": [
    "p = Person(\"이름\", 20, \"주소\")"
   ]
  },
  {
   "cell_type": "markdown",
   "metadata": {},
   "source": [
    "## pickle을 이용한 객체 읽고 쓰기\n",
    "- 저장: pickle.dump (저장할 객체, 출력)\n",
    "    - 객체 직렬화(Serialize) : 객체를 출력\n",
    "- 읽기: pickle.load(입력)\n",
    "    - 객체 역직렬화 : 직렬화된 객체를 입력받는 것\n",
    "- 파일과 연결 시 binary 모드로 설정해야 함"
   ]
  },
  {
   "cell_type": "code",
   "execution_count": 51,
   "metadata": {},
   "outputs": [],
   "source": [
    "list1 = [1, 2, 3, 4, 5]"
   ]
  },
  {
   "cell_type": "code",
   "execution_count": 54,
   "metadata": {},
   "outputs": [],
   "source": [
    "import pickle\n",
    "\n",
    "with open(\"list.pkl\", \"wb\") as fi:\n",
    "    pickle.dump(list1, fi)"
   ]
  },
  {
   "cell_type": "code",
   "execution_count": 57,
   "metadata": {},
   "outputs": [],
   "source": [
    "with open(\"list.pkl\", \"rb\") as fo:\n",
    "    list2 = pickle.load(fo)"
   ]
  },
  {
   "cell_type": "code",
   "execution_count": 58,
   "metadata": {},
   "outputs": [
    {
     "data": {
      "text/plain": [
       "[1, 2, 3, 4, 5]"
      ]
     },
     "execution_count": 58,
     "metadata": {},
     "output_type": "execute_result"
    }
   ],
   "source": [
    "list2"
   ]
  },
  {
   "cell_type": "code",
   "execution_count": 59,
   "metadata": {},
   "outputs": [
    {
     "name": "stdout",
     "output_type": "stream",
     "text": [
      "<class 'list'>\n"
     ]
    }
   ],
   "source": [
    "print(type(list2))"
   ]
  },
  {
   "cell_type": "code",
   "execution_count": 61,
   "metadata": {},
   "outputs": [],
   "source": [
    "class Person:\n",
    "    def __init__(self, name, age):\n",
    "        self.name = name\n",
    "        self.age = age\n",
    "        \n",
    "    def __str__(self):\n",
    "        return f\"{self.name}, {self.age}\""
   ]
  },
  {
   "cell_type": "code",
   "execution_count": 62,
   "metadata": {},
   "outputs": [],
   "source": [
    "p = Person(\"Sam\", 30)"
   ]
  },
  {
   "cell_type": "code",
   "execution_count": 64,
   "metadata": {},
   "outputs": [],
   "source": [
    "import pickle\n",
    "with open(\"person.pkl\", \"wb\") as fo:\n",
    "    pickle.dump(p, fo)"
   ]
  },
  {
   "cell_type": "code",
   "execution_count": 65,
   "metadata": {},
   "outputs": [],
   "source": [
    "import pickle\n",
    "with open(\"person.pkl\", \"rb\") as fi:\n",
    "    p2 = pickle.load(fi)"
   ]
  },
  {
   "cell_type": "code",
   "execution_count": 67,
   "metadata": {},
   "outputs": [
    {
     "name": "stdout",
     "output_type": "stream",
     "text": [
      "Sam, 30\n"
     ]
    }
   ],
   "source": [
    "print(p2)"
   ]
  },
  {
   "cell_type": "code",
   "execution_count": null,
   "metadata": {},
   "outputs": [],
   "source": []
  },
  {
   "cell_type": "code",
   "execution_count": null,
   "metadata": {},
   "outputs": [],
   "source": []
  },
  {
   "cell_type": "code",
   "execution_count": null,
   "metadata": {},
   "outputs": [],
   "source": []
  },
  {
   "cell_type": "code",
   "execution_count": null,
   "metadata": {},
   "outputs": [],
   "source": []
  },
  {
   "cell_type": "code",
   "execution_count": null,
   "metadata": {},
   "outputs": [],
   "source": []
  },
  {
   "cell_type": "code",
   "execution_count": null,
   "metadata": {},
   "outputs": [],
   "source": []
  },
  {
   "cell_type": "code",
   "execution_count": null,
   "metadata": {},
   "outputs": [],
   "source": []
  },
  {
   "cell_type": "code",
   "execution_count": null,
   "metadata": {},
   "outputs": [],
   "source": []
  },
  {
   "cell_type": "code",
   "execution_count": null,
   "metadata": {},
   "outputs": [],
   "source": []
  },
  {
   "cell_type": "code",
   "execution_count": null,
   "metadata": {},
   "outputs": [],
   "source": []
  }
 ],
 "metadata": {
  "kernelspec": {
   "display_name": "Python 3",
   "language": "python",
   "name": "python3"
  },
  "language_info": {
   "codemirror_mode": {
    "name": "ipython",
    "version": 3
   },
   "file_extension": ".py",
   "mimetype": "text/x-python",
   "name": "python",
   "nbconvert_exporter": "python",
   "pygments_lexer": "ipython3",
   "version": "3.8.5"
  }
 },
 "nbformat": 4,
 "nbformat_minor": 4
}
