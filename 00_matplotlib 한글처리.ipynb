{
 "cells": [
  {
   "cell_type": "markdown",
   "metadata": {},
   "source": [
    "# matplotlib 한글처리\n",
    "matplotlib에 설정되어있는 폰트가 한글을 지원하지 않기 때문에 그래프의 한글이 깨져서 나온다."
   ]
  },
  {
   "cell_type": "code",
   "execution_count": 1,
   "metadata": {
    "ExecuteTime": {
     "end_time": "2020-08-15T14:11:37.991800Z",
     "start_time": "2020-08-15T14:11:37.828240Z"
    },
    "scrolled": true
   },
   "outputs": [
    {
     "data": {
      "image/png": "[encoded data removed]",
      "text/plain": [
       "<Figure size 432x288 with 1 Axes>"
      ]
     },
     "metadata": {
      "needs_background": "light"
     },
     "output_type": "display_data"
    }
   ],
   "source": [
    "import matplotlib.pyplot as plt\n",
    "plt.plot(range(-10,10))\n",
    "plt.xlabel(\"X값\")\n",
    "plt.ylabel(\"Y값\")\n",
    "plt.title('matplotlib 예제')\n",
    "plt.show()"
   ]
  },
  {
   "cell_type": "markdown",
   "metadata": {},
   "source": [
    "## 설정방법\n",
    "1. 설정파일을 변경한다. \n",
    "    - 한번만 하면 된다.\n",
    "2. 프로그램상에서 변경한다.\n",
    "    - 프로그램이 로딩 될때마다 (노트북 파일이나 파이썬 스크립트 실행시마다) 코드를 실행해야 한다.\n",
    "    - 전체 설정에서 변경하고 싶은 것을 재설정한다."
   ]
  },
  {
   "cell_type": "markdown",
   "metadata": {},
   "source": [
    "## OS에 설치된 폰트명 조회"
   ]
  },
  {
   "cell_type": "markdown",
   "metadata": {},
   "source": [
    "폰트 cache 파일을 삭제 한다."
   ]
  },
  {
   "cell_type": "code",
   "execution_count": 2,
   "metadata": {
    "ExecuteTime": {
     "end_time": "2020-08-15T13:55:05.589402Z",
     "start_time": "2020-08-15T13:55:05.584416Z"
    }
   },
   "outputs": [],
   "source": [
    "import matplotlib as mpl\n",
    "import matplotlib.font_manager as fm"
   ]
  },
  {
   "cell_type": "code",
   "execution_count": 3,
   "metadata": {
    "ExecuteTime": {
     "end_time": "2020-08-15T14:13:14.379703Z",
     "start_time": "2020-08-15T14:13:14.371691Z"
    }
   },
   "outputs": [
    {
     "data": {
      "text/plain": [
       "'C:\\\\Users\\\\Playdata\\\\.matplotlib'"
      ]
     },
     "execution_count": 3,
     "metadata": {},
     "output_type": "execute_result"
    }
   ],
   "source": [
    "# cache 파일 조회\n",
    "# 다음 실행 결과로 나온 경로의 파일을 삭제한다. \n",
    "mpl.get_cachedir()"
   ]
  },
  {
   "cell_type": "markdown",
   "metadata": {},
   "source": [
    "전체 폰트 조회"
   ]
  },
  {
   "cell_type": "code",
   "execution_count": 5,
   "metadata": {
    "ExecuteTime": {
     "end_time": "2020-08-15T13:55:27.870422Z",
     "start_time": "2020-08-15T13:55:27.719827Z"
    },
    "collapsed": true
   },
   "outputs": [
    {
     "name": "stdout",
     "output_type": "stream",
     "text": [
      "DejaVu Sans C:\\Users\\Playdata\\Anaconda3\\lib\\site-packages\\matplotlib\\mpl-data\\fonts\\ttf\\DejaVuSans-Oblique.ttf\n",
      "STIXSizeFourSym C:\\Users\\Playdata\\Anaconda3\\lib\\site-packages\\matplotlib\\mpl-data\\fonts\\ttf\\STIXSizFourSymBol.ttf\n",
      "cmr10 C:\\Users\\Playdata\\Anaconda3\\lib\\site-packages\\matplotlib\\mpl-data\\fonts\\ttf\\cmr10.ttf\n",
      "STIXNonUnicode C:\\Users\\Playdata\\Anaconda3\\lib\\site-packages\\matplotlib\\mpl-data\\fonts\\ttf\\STIXNonUniIta.ttf\n",
      "DejaVu Serif C:\\Users\\Playdata\\Anaconda3\\lib\\site-packages\\matplotlib\\mpl-data\\fonts\\ttf\\DejaVuSerif.ttf\n",
      "STIXSizeFourSym C:\\Users\\Playdata\\Anaconda3\\lib\\site-packages\\matplotlib\\mpl-data\\fonts\\ttf\\STIXSizFourSymReg.ttf\n",
      "STIXGeneral C:\\Users\\Playdata\\Anaconda3\\lib\\site-packages\\matplotlib\\mpl-data\\fonts\\ttf\\STIXGeneralItalic.ttf\n",
      "cmb10 C:\\Users\\Playdata\\Anaconda3\\lib\\site-packages\\matplotlib\\mpl-data\\fonts\\ttf\\cmb10.ttf\n",
      "cmex10 C:\\Users\\Playdata\\Anaconda3\\lib\\site-packages\\matplotlib\\mpl-data\\fonts\\ttf\\cmex10.ttf\n",
      "DejaVu Sans Mono C:\\Users\\Playdata\\Anaconda3\\lib\\site-packages\\matplotlib\\mpl-data\\fonts\\ttf\\DejaVuSansMono-BoldOblique.ttf\n",
      "cmsy10 C:\\Users\\Playdata\\Anaconda3\\lib\\site-packages\\matplotlib\\mpl-data\\fonts\\ttf\\cmsy10.ttf\n",
      "STIXGeneral C:\\Users\\Playdata\\Anaconda3\\lib\\site-packages\\matplotlib\\mpl-data\\fonts\\ttf\\STIXGeneralBol.ttf\n",
      "DejaVu Sans Mono C:\\Users\\Playdata\\Anaconda3\\lib\\site-packages\\matplotlib\\mpl-data\\fonts\\ttf\\DejaVuSansMono-Bold.ttf\n",
      "STIXSizeOneSym C:\\Users\\Playdata\\Anaconda3\\lib\\site-packages\\matplotlib\\mpl-data\\fonts\\ttf\\STIXSizOneSymBol.ttf\n",
      "STIXGeneral C:\\Users\\Playdata\\Anaconda3\\lib\\site-packages\\matplotlib\\mpl-data\\fonts\\ttf\\STIXGeneralBolIta.ttf\n",
      "STIXSizeOneSym C:\\Users\\Playdata\\Anaconda3\\lib\\site-packages\\matplotlib\\mpl-data\\fonts\\ttf\\STIXSizOneSymReg.ttf\n",
      "STIXSizeThreeSym C:\\Users\\Playdata\\Anaconda3\\lib\\site-packages\\matplotlib\\mpl-data\\fonts\\ttf\\STIXSizThreeSymReg.ttf\n",
      "DejaVu Serif C:\\Users\\Playdata\\Anaconda3\\lib\\site-packages\\matplotlib\\mpl-data\\fonts\\ttf\\DejaVuSerif-BoldItalic.ttf\n",
      "cmtt10 C:\\Users\\Playdata\\Anaconda3\\lib\\site-packages\\matplotlib\\mpl-data\\fonts\\ttf\\cmtt10.ttf\n",
      "STIXSizeTwoSym C:\\Users\\Playdata\\Anaconda3\\lib\\site-packages\\matplotlib\\mpl-data\\fonts\\ttf\\STIXSizTwoSymBol.ttf\n",
      "DejaVu Serif C:\\Users\\Playdata\\Anaconda3\\lib\\site-packages\\matplotlib\\mpl-data\\fonts\\ttf\\DejaVuSerif-Bold.ttf\n",
      "STIXSizeTwoSym C:\\Users\\Playdata\\Anaconda3\\lib\\site-packages\\matplotlib\\mpl-data\\fonts\\ttf\\STIXSizTwoSymReg.ttf\n",
      "DejaVu Sans C:\\Users\\Playdata\\Anaconda3\\lib\\site-packages\\matplotlib\\mpl-data\\fonts\\ttf\\DejaVuSans-BoldOblique.ttf\n",
      "DejaVu Sans Mono C:\\Users\\Playdata\\Anaconda3\\lib\\site-packages\\matplotlib\\mpl-data\\fonts\\ttf\\DejaVuSansMono-Oblique.ttf\n",
      "STIXSizeThreeSym C:\\Users\\Playdata\\Anaconda3\\lib\\site-packages\\matplotlib\\mpl-data\\fonts\\ttf\\STIXSizThreeSymBol.ttf\n",
      "DejaVu Serif Display C:\\Users\\Playdata\\Anaconda3\\lib\\site-packages\\matplotlib\\mpl-data\\fonts\\ttf\\DejaVuSerifDisplay.ttf\n",
      "cmss10 C:\\Users\\Playdata\\Anaconda3\\lib\\site-packages\\matplotlib\\mpl-data\\fonts\\ttf\\cmss10.ttf\n",
      "STIXNonUnicode C:\\Users\\Playdata\\Anaconda3\\lib\\site-packages\\matplotlib\\mpl-data\\fonts\\ttf\\STIXNonUniBol.ttf\n",
      "cmmi10 C:\\Users\\Playdata\\Anaconda3\\lib\\site-packages\\matplotlib\\mpl-data\\fonts\\ttf\\cmmi10.ttf\n",
      "DejaVu Sans Display C:\\Users\\Playdata\\Anaconda3\\lib\\site-packages\\matplotlib\\mpl-data\\fonts\\ttf\\DejaVuSansDisplay.ttf\n",
      "STIXSizeFiveSym C:\\Users\\Playdata\\Anaconda3\\lib\\site-packages\\matplotlib\\mpl-data\\fonts\\ttf\\STIXSizFiveSymReg.ttf\n",
      "DejaVu Sans C:\\Users\\Playdata\\Anaconda3\\lib\\site-packages\\matplotlib\\mpl-data\\fonts\\ttf\\DejaVuSans.ttf\n",
      "STIXNonUnicode C:\\Users\\Playdata\\Anaconda3\\lib\\site-packages\\matplotlib\\mpl-data\\fonts\\ttf\\STIXNonUniBolIta.ttf\n",
      "STIXGeneral C:\\Users\\Playdata\\Anaconda3\\lib\\site-packages\\matplotlib\\mpl-data\\fonts\\ttf\\STIXGeneral.ttf\n",
      "STIXNonUnicode C:\\Users\\Playdata\\Anaconda3\\lib\\site-packages\\matplotlib\\mpl-data\\fonts\\ttf\\STIXNonUni.ttf\n",
      "DejaVu Serif C:\\Users\\Playdata\\Anaconda3\\lib\\site-packages\\matplotlib\\mpl-data\\fonts\\ttf\\DejaVuSerif-Italic.ttf\n",
      "DejaVu Sans Mono C:\\Users\\Playdata\\Anaconda3\\lib\\site-packages\\matplotlib\\mpl-data\\fonts\\ttf\\DejaVuSansMono.ttf\n",
      "DejaVu Sans C:\\Users\\Playdata\\Anaconda3\\lib\\site-packages\\matplotlib\\mpl-data\\fonts\\ttf\\DejaVuSans-Bold.ttf\n",
      "Georgia C:\\Windows\\Fonts\\georgiai.ttf\n",
      "Corbel C:\\WINDOWS\\Fonts\\corbel.ttf\n",
      "Microsoft Tai Le C:\\Windows\\Fonts\\taile.ttf\n",
      "Verdana C:\\Windows\\Fonts\\verdanaz.ttf\n",
      "Lucida Console C:\\WINDOWS\\Fonts\\lucon.ttf\n",
      "Palatino Linotype C:\\WINDOWS\\Fonts\\palai.ttf\n",
      "Myanmar Text C:\\Windows\\Fonts\\mmrtextb.ttf\n",
      "Arial C:\\Windows\\Fonts\\arialbi.ttf\n",
      "Yu Gothic C:\\Windows\\Fonts\\YuGothR.ttc\n",
      "Arial C:\\WINDOWS\\Fonts\\arialbi.ttf\n",
      "Corbel C:\\WINDOWS\\Fonts\\corbelb.ttf\n",
      "Palatino Linotype C:\\Windows\\Fonts\\palabi.ttf\n",
      "Comic Sans MS C:\\WINDOWS\\Fonts\\comicz.ttf\n",
      "Franklin Gothic Medium C:\\WINDOWS\\Fonts\\framdit.ttf\n",
      "Symbol C:\\Windows\\Fonts\\symbol.ttf\n",
      "Segoe UI C:\\WINDOWS\\Fonts\\seguisb.ttf\n",
      "Trebuchet MS C:\\Windows\\Fonts\\trebucbd.ttf\n",
      "Segoe UI Historic C:\\WINDOWS\\Fonts\\seguihis.ttf\n",
      "MS Gothic C:\\Windows\\Fonts\\msgothic.ttc\n",
      "Palatino Linotype C:\\WINDOWS\\Fonts\\pala.ttf\n",
      "Segoe UI C:\\WINDOWS\\Fonts\\seguibli.ttf\n",
      "Sitka Small C:\\WINDOWS\\Fonts\\SitkaB.ttc\n",
      "Georgia C:\\Windows\\Fonts\\georgiaz.ttf\n",
      "Sitka Small C:\\WINDOWS\\Fonts\\SitkaI.ttc\n",
      "Javanese Text C:\\WINDOWS\\Fonts\\javatext.ttf\n",
      "Nirmala UI C:\\Windows\\Fonts\\Nirmala.ttf\n",
      "Verdana C:\\WINDOWS\\Fonts\\verdana.ttf\n",
      "Calibri C:\\WINDOWS\\Fonts\\calibrib.ttf\n",
      "Calibri C:\\Windows\\Fonts\\calibrii.ttf\n",
      "Corbel C:\\Windows\\Fonts\\corbelb.ttf\n",
      "Segoe UI Emoji C:\\Windows\\Fonts\\seguiemj.ttf\n",
      "Candara C:\\WINDOWS\\Fonts\\Candaraz.ttf\n",
      "Arial C:\\Windows\\Fonts\\arialbd.ttf\n",
      "Trebuchet MS C:\\WINDOWS\\Fonts\\trebucit.ttf\n",
      "Verdana C:\\WINDOWS\\Fonts\\verdanai.ttf\n",
      "Segoe UI C:\\Windows\\Fonts\\segoeuii.ttf\n",
      "SimSun C:\\Windows\\Fonts\\simsun.ttc\n",
      "Arial C:\\WINDOWS\\Fonts\\ariali.ttf\n",
      "Courier New C:\\WINDOWS\\Fonts\\courbd.ttf\n",
      "Trebuchet MS C:\\Windows\\Fonts\\trebuc.ttf\n",
      "Microsoft PhagsPa C:\\Windows\\Fonts\\phagspab.ttf\n",
      "Gadugi C:\\WINDOWS\\Fonts\\gadugi.ttf\n",
      "Malgun Gothic C:\\WINDOWS\\Fonts\\malgunbd.ttf\n",
      "Microsoft New Tai Lue C:\\WINDOWS\\Fonts\\ntailu.ttf\n",
      "Gadugi C:\\Windows\\Fonts\\gadugi.ttf\n",
      "Ebrima C:\\WINDOWS\\Fonts\\ebrimabd.ttf\n",
      "Candara C:\\Windows\\Fonts\\Candara.ttf\n",
      "Yu Gothic C:\\Windows\\Fonts\\YuGothM.ttc\n",
      "Cambria C:\\Windows\\Fonts\\cambriai.ttf\n",
      "MingLiU-ExtB C:\\WINDOWS\\Fonts\\mingliub.ttc\n",
      "Impact C:\\Windows\\Fonts\\impact.ttf\n",
      "Microsoft Sans Serif C:\\WINDOWS\\Fonts\\micross.ttf\n",
      "Microsoft New Tai Lue C:\\WINDOWS\\Fonts\\ntailub.ttf\n",
      "Segoe UI C:\\Windows\\Fonts\\segoeuil.ttf\n",
      "Nirmala UI C:\\WINDOWS\\Fonts\\NirmalaB.ttf\n",
      "Times New Roman C:\\Windows\\Fonts\\times.ttf\n",
      "Segoe UI Symbol C:\\WINDOWS\\Fonts\\seguisym.ttf\n",
      "Segoe Print C:\\WINDOWS\\Fonts\\segoeprb.ttf\n",
      "Microsoft Tai Le C:\\WINDOWS\\Fonts\\taile.ttf\n",
      "Courier New C:\\WINDOWS\\Fonts\\cour.ttf\n",
      "Constantia C:\\Windows\\Fonts\\constan.ttf\n",
      "Segoe UI C:\\Windows\\Fonts\\segoeuisl.ttf\n",
      "Candara C:\\WINDOWS\\Fonts\\Candarab.ttf\n",
      "Segoe UI C:\\Windows\\Fonts\\seguibli.ttf\n",
      "SimSun-ExtB C:\\Windows\\Fonts\\simsunb.ttf\n",
      "Malgun Gothic C:\\WINDOWS\\Fonts\\malgun.ttf\n",
      "Microsoft Sans Serif C:\\Windows\\Fonts\\micross.ttf\n",
      "Franklin Gothic Medium C:\\WINDOWS\\Fonts\\framd.ttf\n",
      "Segoe UI C:\\Windows\\Fonts\\seguisli.ttf\n",
      "Malgun Gothic C:\\Windows\\Fonts\\malgun.ttf\n",
      "Candara C:\\Windows\\Fonts\\Candarab.ttf\n",
      "Ebrima C:\\Windows\\Fonts\\ebrima.ttf\n",
      "Corbel C:\\WINDOWS\\Fonts\\corbelli.ttf\n",
      "Leelawadee UI C:\\WINDOWS\\Fonts\\LeelUIsl.ttf\n",
      "Segoe UI C:\\WINDOWS\\Fonts\\segoeui.ttf\n",
      "Candara C:\\Windows\\Fonts\\Candaraz.ttf\n",
      "Courier New C:\\Windows\\Fonts\\couri.ttf\n",
      "Times New Roman C:\\Windows\\Fonts\\timesbi.ttf\n",
      "Trebuchet MS C:\\WINDOWS\\Fonts\\trebuc.ttf\n",
      "Calibri C:\\WINDOWS\\Fonts\\calibrii.ttf\n",
      "Segoe UI Emoji C:\\WINDOWS\\Fonts\\seguiemj.ttf\n",
      "Comic Sans MS C:\\Windows\\Fonts\\comici.ttf\n",
      "Bahnschrift C:\\Windows\\Fonts\\bahnschrift.ttf\n",
      "Wingdings C:\\WINDOWS\\Fonts\\wingding.ttf\n",
      "Georgia C:\\Windows\\Fonts\\georgiab.ttf\n",
      "Candara C:\\Windows\\Fonts\\Candarali.ttf\n",
      "Sitka Small C:\\WINDOWS\\Fonts\\Sitka.ttc\n",
      "Sitka Small C:\\WINDOWS\\Fonts\\SitkaZ.ttc\n",
      "Consolas C:\\WINDOWS\\Fonts\\consolab.ttf\n",
      "Courier New C:\\WINDOWS\\Fonts\\couri.ttf\n",
      "Gulim C:\\Windows\\Fonts\\gulim.ttc\n",
      "Corbel C:\\Windows\\Fonts\\corbeli.ttf\n",
      "Consolas C:\\Windows\\Fonts\\consola.ttf\n",
      "Candara C:\\WINDOWS\\Fonts\\Candarali.ttf\n",
      "Comic Sans MS C:\\Windows\\Fonts\\comic.ttf\n",
      "Microsoft PhagsPa C:\\Windows\\Fonts\\phagspa.ttf\n",
      "Segoe UI C:\\Windows\\Fonts\\segoeuiz.ttf\n",
      "Arial C:\\Windows\\Fonts\\ariali.ttf\n",
      "Segoe UI C:\\WINDOWS\\Fonts\\segoeuib.ttf\n",
      "SimSun C:\\WINDOWS\\Fonts\\simsun.ttc\n",
      "HoloLens MDL2 Assets C:\\Windows\\Fonts\\holomdl2.ttf\n",
      "Segoe UI C:\\WINDOWS\\Fonts\\segoeuii.ttf\n",
      "Cambria C:\\Windows\\Fonts\\cambria.ttc\n",
      "Nirmala UI C:\\WINDOWS\\Fonts\\NirmalaS.ttf\n",
      "Yu Gothic C:\\WINDOWS\\Fonts\\YuGothL.ttc\n",
      "Corbel C:\\Windows\\Fonts\\corbell.ttf\n",
      "Microsoft Yi Baiti C:\\Windows\\Fonts\\msyi.ttf\n",
      "Candara C:\\Windows\\Fonts\\Candaral.ttf\n",
      "Nirmala UI C:\\Windows\\Fonts\\NirmalaS.ttf\n",
      "Consolas C:\\Windows\\Fonts\\consolab.ttf\n",
      "Lucida Console C:\\Windows\\Fonts\\lucon.ttf\n",
      "Segoe UI C:\\Windows\\Fonts\\seguili.ttf\n",
      "Arial C:\\Windows\\Fonts\\arial.ttf\n",
      "Calibri C:\\Windows\\Fonts\\calibrib.ttf\n",
      "Gadugi C:\\WINDOWS\\Fonts\\gadugib.ttf\n",
      "HoloLens MDL2 Assets C:\\WINDOWS\\Fonts\\holomdl2.ttf\n",
      "Georgia C:\\WINDOWS\\Fonts\\georgiai.ttf\n",
      "Calibri C:\\Windows\\Fonts\\calibriz.ttf\n",
      "Impact C:\\WINDOWS\\Fonts\\impact.ttf\n",
      "Trebuchet MS C:\\Windows\\Fonts\\trebucbi.ttf\n",
      "Yu Gothic C:\\WINDOWS\\Fonts\\YuGothB.ttc\n",
      "Yu Gothic C:\\WINDOWS\\Fonts\\YuGothR.ttc\n",
      "Segoe Print C:\\Windows\\Fonts\\segoepr.ttf\n",
      "Lucida Sans Unicode C:\\WINDOWS\\Fonts\\l_10646.ttf\n",
      "Times New Roman C:\\WINDOWS\\Fonts\\timesi.ttf\n",
      "Courier New C:\\WINDOWS\\Fonts\\courbi.ttf\n",
      "Consolas C:\\Windows\\Fonts\\consolai.ttf\n",
      "Constantia C:\\WINDOWS\\Fonts\\constanb.ttf\n",
      "Corbel C:\\WINDOWS\\Fonts\\corbelz.ttf\n",
      "Segoe Script C:\\WINDOWS\\Fonts\\segoescb.ttf\n",
      "Leelawadee UI C:\\WINDOWS\\Fonts\\LeelaUIb.ttf\n",
      "Comic Sans MS C:\\WINDOWS\\Fonts\\comicbd.ttf\n",
      "Malgun Gothic C:\\Windows\\Fonts\\malgunsl.ttf\n",
      "Franklin Gothic Medium C:\\Windows\\Fonts\\framd.ttf\n",
      "Segoe UI Historic C:\\Windows\\Fonts\\seguihis.ttf\n",
      "Microsoft JhengHei C:\\Windows\\Fonts\\msjhbd.ttc\n",
      "Microsoft YaHei C:\\Windows\\Fonts\\msyhbd.ttc\n",
      "Palatino Linotype C:\\WINDOWS\\Fonts\\palabi.ttf\n",
      "Corbel C:\\Windows\\Fonts\\corbelli.ttf\n",
      "Segoe UI C:\\Windows\\Fonts\\seguisbi.ttf\n",
      "Candara C:\\WINDOWS\\Fonts\\Candaral.ttf\n",
      "Courier New C:\\Windows\\Fonts\\cour.ttf\n",
      "Leelawadee UI C:\\Windows\\Fonts\\LeelaUIb.ttf\n",
      "Segoe UI C:\\WINDOWS\\Fonts\\segoeuil.ttf\n",
      "Leelawadee UI C:\\Windows\\Fonts\\LeelawUI.ttf\n",
      "Microsoft YaHei C:\\WINDOWS\\Fonts\\msyh.ttc\n",
      "Leelawadee UI C:\\WINDOWS\\Fonts\\LeelawUI.ttf\n",
      "Palatino Linotype C:\\WINDOWS\\Fonts\\palab.ttf\n",
      "Georgia C:\\Windows\\Fonts\\georgia.ttf\n",
      "Webdings C:\\WINDOWS\\Fonts\\webdings.ttf\n",
      "Palatino Linotype C:\\Windows\\Fonts\\pala.ttf\n",
      "Cambria C:\\WINDOWS\\Fonts\\cambria.ttc\n",
      "Consolas C:\\WINDOWS\\Fonts\\consola.ttf\n",
      "Cambria C:\\Windows\\Fonts\\cambriaz.ttf\n",
      "Segoe UI C:\\WINDOWS\\Fonts\\seguili.ttf\n",
      "Candara C:\\Windows\\Fonts\\Candarai.ttf\n",
      "Malgun Gothic C:\\WINDOWS\\Fonts\\malgunsl.ttf\n",
      "Segoe UI C:\\Windows\\Fonts\\seguisb.ttf\n",
      "Corbel C:\\WINDOWS\\Fonts\\corbeli.ttf\n",
      "Segoe UI C:\\WINDOWS\\Fonts\\segoeuiz.ttf\n",
      "Constantia C:\\Windows\\Fonts\\constanz.ttf\n",
      "MV Boli C:\\WINDOWS\\Fonts\\mvboli.ttf\n",
      "Candara C:\\WINDOWS\\Fonts\\Candarai.ttf\n",
      "Constantia C:\\WINDOWS\\Fonts\\constani.ttf\n",
      "Segoe UI C:\\Windows\\Fonts\\seguibl.ttf\n",
      "Verdana C:\\Windows\\Fonts\\verdanai.ttf\n",
      "Comic Sans MS C:\\Windows\\Fonts\\comicbd.ttf\n",
      "Georgia C:\\WINDOWS\\Fonts\\georgia.ttf\n",
      "Microsoft Yi Baiti C:\\WINDOWS\\Fonts\\msyi.ttf\n",
      "Segoe MDL2 Assets C:\\Windows\\Fonts\\segmdl2.ttf\n",
      "Microsoft JhengHei C:\\WINDOWS\\Fonts\\msjh.ttc\n",
      "Ink Free C:\\WINDOWS\\Fonts\\Inkfree.ttf\n",
      "MS Gothic C:\\WINDOWS\\Fonts\\msgothic.ttc\n",
      "Segoe Print C:\\WINDOWS\\Fonts\\segoepr.ttf\n",
      "Verdana C:\\WINDOWS\\Fonts\\verdanab.ttf\n",
      "Microsoft YaHei C:\\Windows\\Fonts\\msyhl.ttc\n",
      "Microsoft New Tai Lue C:\\Windows\\Fonts\\ntailub.ttf\n",
      "Javanese Text C:\\Windows\\Fonts\\javatext.ttf\n",
      "Microsoft Himalaya C:\\WINDOWS\\Fonts\\himalaya.ttf\n",
      "Segoe UI C:\\WINDOWS\\Fonts\\seguisli.ttf\n",
      "Symbol C:\\WINDOWS\\Fonts\\symbol.ttf\n",
      "Tahoma C:\\WINDOWS\\Fonts\\tahoma.ttf\n",
      "Trebuchet MS C:\\WINDOWS\\Fonts\\trebucbd.ttf\n",
      "Webdings C:\\Windows\\Fonts\\webdings.ttf\n",
      "Verdana C:\\Windows\\Fonts\\verdanab.ttf\n",
      "Ink Free C:\\Windows\\Fonts\\Inkfree.ttf\n",
      "Gadugi C:\\Windows\\Fonts\\gadugib.ttf\n",
      "Microsoft JhengHei C:\\Windows\\Fonts\\msjh.ttc\n",
      "Batang C:\\WINDOWS\\Fonts\\batang.ttc\n",
      "Comic Sans MS C:\\WINDOWS\\Fonts\\comici.ttf\n",
      "Arial C:\\WINDOWS\\Fonts\\arialbd.ttf\n",
      "Constantia C:\\Windows\\Fonts\\constani.ttf\n",
      "Corbel C:\\Windows\\Fonts\\corbel.ttf\n",
      "Cambria C:\\WINDOWS\\Fonts\\cambriab.ttf\n",
      "Calibri C:\\Windows\\Fonts\\calibri.ttf\n",
      "Marlett C:\\WINDOWS\\Fonts\\marlett.ttf\n",
      "Times New Roman C:\\WINDOWS\\Fonts\\times.ttf\n",
      "Yu Gothic C:\\Windows\\Fonts\\YuGothL.ttc\n",
      "Palatino Linotype C:\\Windows\\Fonts\\palai.ttf\n",
      "Segoe UI C:\\WINDOWS\\Fonts\\segoeuisl.ttf\n",
      "Verdana C:\\WINDOWS\\Fonts\\verdanaz.ttf\n",
      "Segoe Script C:\\Windows\\Fonts\\segoescb.ttf\n",
      "Segoe Script C:\\Windows\\Fonts\\segoesc.ttf\n",
      "Comic Sans MS C:\\Windows\\Fonts\\comicz.ttf\n",
      "Comic Sans MS C:\\WINDOWS\\Fonts\\comic.ttf\n",
      "Mongolian Baiti C:\\WINDOWS\\Fonts\\monbaiti.ttf\n",
      "Calibri C:\\WINDOWS\\Fonts\\calibri.ttf\n",
      "Microsoft JhengHei C:\\WINDOWS\\Fonts\\msjhl.ttc\n",
      "Sitka Small C:\\Windows\\Fonts\\SitkaZ.ttc\n",
      "Georgia C:\\WINDOWS\\Fonts\\georgiab.ttf\n",
      "Microsoft JhengHei C:\\WINDOWS\\Fonts\\msjhbd.ttc\n",
      "Microsoft Tai Le C:\\Windows\\Fonts\\taileb.ttf\n",
      "Arial C:\\Windows\\Fonts\\ariblk.ttf\n",
      "Verdana C:\\Windows\\Fonts\\verdana.ttf\n",
      "Nirmala UI C:\\WINDOWS\\Fonts\\Nirmala.ttf\n",
      "SimSun-ExtB C:\\WINDOWS\\Fonts\\simsunb.ttf\n",
      "MingLiU-ExtB C:\\Windows\\Fonts\\mingliub.ttc\n",
      "Constantia C:\\WINDOWS\\Fonts\\constan.ttf\n",
      "Sylfaen C:\\WINDOWS\\Fonts\\sylfaen.ttf\n",
      "Nirmala UI C:\\Windows\\Fonts\\NirmalaB.ttf\n",
      "Yu Gothic C:\\Windows\\Fonts\\YuGothB.ttc\n",
      "Calibri C:\\Windows\\Fonts\\calibril.ttf\n",
      "Consolas C:\\Windows\\Fonts\\consolaz.ttf\n",
      "Constantia C:\\Windows\\Fonts\\constanb.ttf\n",
      "Sitka Small C:\\Windows\\Fonts\\SitkaI.ttc\n",
      "Sitka Small C:\\Windows\\Fonts\\SitkaB.ttc\n",
      "Cambria C:\\WINDOWS\\Fonts\\cambriaz.ttf\n",
      "Times New Roman C:\\WINDOWS\\Fonts\\timesbd.ttf\n",
      "Tahoma C:\\Windows\\Fonts\\tahoma.ttf\n",
      "Microsoft PhagsPa C:\\WINDOWS\\Fonts\\phagspab.ttf\n",
      "Courier New C:\\Windows\\Fonts\\courbd.ttf\n",
      "Batang C:\\Windows\\Fonts\\batang.ttc\n",
      "Microsoft PhagsPa C:\\WINDOWS\\Fonts\\phagspa.ttf\n",
      "Myanmar Text C:\\WINDOWS\\Fonts\\mmrtext.ttf\n",
      "Georgia C:\\WINDOWS\\Fonts\\georgiaz.ttf\n",
      "Segoe UI C:\\Windows\\Fonts\\segoeuib.ttf\n",
      "Sylfaen C:\\Windows\\Fonts\\sylfaen.ttf\n",
      "Tahoma C:\\Windows\\Fonts\\tahomabd.ttf\n",
      "Candara C:\\WINDOWS\\Fonts\\Candara.ttf\n",
      "Tahoma C:\\WINDOWS\\Fonts\\tahomabd.ttf\n",
      "Calibri C:\\WINDOWS\\Fonts\\calibril.ttf\n",
      "Corbel C:\\WINDOWS\\Fonts\\corbell.ttf\n",
      "Microsoft Tai Le C:\\WINDOWS\\Fonts\\taileb.ttf\n",
      "Microsoft Himalaya C:\\Windows\\Fonts\\himalaya.ttf\n",
      "Ebrima C:\\WINDOWS\\Fonts\\ebrima.ttf\n",
      "Myanmar Text C:\\Windows\\Fonts\\mmrtext.ttf\n",
      "Mongolian Baiti C:\\Windows\\Fonts\\monbaiti.ttf\n",
      "Corbel C:\\Windows\\Fonts\\corbelz.ttf\n",
      "Yu Gothic C:\\WINDOWS\\Fonts\\YuGothM.ttc\n",
      "Calibri C:\\Windows\\Fonts\\calibrili.ttf\n",
      "Microsoft YaHei C:\\WINDOWS\\Fonts\\msyhl.ttc\n",
      "Calibri C:\\WINDOWS\\Fonts\\calibriz.ttf\n",
      "MV Boli C:\\Windows\\Fonts\\mvboli.ttf\n",
      "Cambria C:\\Windows\\Fonts\\cambriab.ttf\n",
      "Sitka Small C:\\Windows\\Fonts\\Sitka.ttc\n",
      "Gabriola C:\\Windows\\Fonts\\Gabriola.ttf\n",
      "Calibri C:\\WINDOWS\\Fonts\\calibrili.ttf\n",
      "Constantia C:\\WINDOWS\\Fonts\\constanz.ttf\n",
      "Myanmar Text C:\\WINDOWS\\Fonts\\mmrtextb.ttf\n",
      "Times New Roman C:\\WINDOWS\\Fonts\\timesbi.ttf\n",
      "Times New Roman C:\\Windows\\Fonts\\timesbd.ttf\n",
      "Consolas C:\\WINDOWS\\Fonts\\consolaz.ttf\n",
      "Wingdings C:\\Windows\\Fonts\\wingding.ttf\n",
      "Gabriola C:\\WINDOWS\\Fonts\\Gabriola.ttf\n",
      "Microsoft YaHei C:\\WINDOWS\\Fonts\\msyhbd.ttc\n",
      "Microsoft YaHei C:\\Windows\\Fonts\\msyh.ttc\n",
      "Leelawadee UI C:\\Windows\\Fonts\\LeelUIsl.ttf\n",
      "Segoe Script C:\\WINDOWS\\Fonts\\segoesc.ttf\n",
      "Palatino Linotype C:\\Windows\\Fonts\\palab.ttf\n",
      "Trebuchet MS C:\\Windows\\Fonts\\trebucit.ttf\n",
      "Consolas C:\\WINDOWS\\Fonts\\consolai.ttf\n",
      "Segoe MDL2 Assets C:\\WINDOWS\\Fonts\\segmdl2.ttf\n",
      "Franklin Gothic Medium C:\\Windows\\Fonts\\framdit.ttf\n",
      "Lucida Sans Unicode C:\\Windows\\Fonts\\l_10646.ttf\n",
      "Arial C:\\WINDOWS\\Fonts\\arial.ttf\n",
      "Courier New C:\\Windows\\Fonts\\courbi.ttf\n",
      "Segoe UI C:\\WINDOWS\\Fonts\\seguibl.ttf\n",
      "Segoe UI C:\\WINDOWS\\Fonts\\seguisbi.ttf\n",
      "Malgun Gothic C:\\Windows\\Fonts\\malgunbd.ttf\n",
      "Cambria C:\\WINDOWS\\Fonts\\cambriai.ttf\n",
      "Arial C:\\WINDOWS\\Fonts\\ariblk.ttf\n",
      "Gulim C:\\WINDOWS\\Fonts\\gulim.ttc\n",
      "Segoe UI C:\\Windows\\Fonts\\segoeui.ttf\n",
      "Trebuchet MS C:\\WINDOWS\\Fonts\\trebucbi.ttf\n",
      "Microsoft JhengHei C:\\Windows\\Fonts\\msjhl.ttc\n",
      "Ebrima C:\\Windows\\Fonts\\ebrimabd.ttf\n",
      "Segoe UI Symbol C:\\Windows\\Fonts\\seguisym.ttf\n",
      "Microsoft New Tai Lue C:\\Windows\\Fonts\\ntailu.ttf\n",
      "Segoe Print C:\\Windows\\Fonts\\segoeprb.ttf\n",
      "Bahnschrift C:\\WINDOWS\\Fonts\\bahnschrift.ttf\n",
      "Times New Roman C:\\Windows\\Fonts\\timesi.ttf\n"
     ]
    }
   ],
   "source": [
    "for f in fm.fontManager.ttflist:\n",
    "    print(f.name, f.fname)  # 폰트이름, 폰트파일경로"
   ]
  },
  {
   "cell_type": "markdown",
   "metadata": {},
   "source": [
    "원하는 폰트명 찾기"
   ]
  },
  {
   "cell_type": "code",
   "execution_count": 4,
   "metadata": {
    "ExecuteTime": {
     "end_time": "2020-08-15T13:55:35.115044Z",
     "start_time": "2020-08-15T13:55:35.104073Z"
    }
   },
   "outputs": [
    {
     "data": {
      "text/plain": [
       "[('Malgun Gothic', 'C:\\\\WINDOWS\\\\Fonts\\\\malgunbd.ttf'),\n",
       " ('Malgun Gothic', 'C:\\\\WINDOWS\\\\Fonts\\\\malgun.ttf'),\n",
       " ('Malgun Gothic', 'C:\\\\Windows\\\\Fonts\\\\malgun.ttf'),\n",
       " ('Malgun Gothic', 'C:\\\\Windows\\\\Fonts\\\\malgunsl.ttf'),\n",
       " ('Malgun Gothic', 'C:\\\\WINDOWS\\\\Fonts\\\\malgunsl.ttf'),\n",
       " ('Malgun Gothic', 'C:\\\\Windows\\\\Fonts\\\\malgunbd.ttf')]"
      ]
     },
     "execution_count": 4,
     "metadata": {},
     "output_type": "execute_result"
    }
   ],
   "source": [
    "[(f.name,f.fname) for f in fm.fontManager.ttflist if 'malg' in f.name.lower()]  \n",
    "#mac : AppleGothic\n",
    "# 설정시 폰트 이름을 사용"
   ]
  },
  {
   "cell_type": "markdown",
   "metadata": {},
   "source": [
    "## 폰트등 환경 설정하기 \n",
    "###  설정파일 변경\n",
    "- 한번만 하면 되므로 편리하다."
   ]
  },
  {
   "cell_type": "markdown",
   "metadata": {},
   "source": [
    "설정파일 경로찾기: `matplotlib.matplotlib_fname()`\n",
    "matplotlib 관련 전역 설정들을 찾아 바꿔준다.\n",
    "- 폰트 관련 설정\n",
    "```\n",
    "font.family:Malgun Gothic\n",
    "font.size:12\n",
    "xtick.labelsize:12\n",
    "ytick.labelsize:12 \n",
    "axes.labelsize:12  \n",
    "axes.unicode_minus:False\n",
    "```"
   ]
  },
  {
   "cell_type": "code",
   "execution_count": 12,
   "metadata": {
    "ExecuteTime": {
     "end_time": "2020-08-15T13:55:55.271132Z",
     "start_time": "2020-08-15T13:55:55.255175Z"
    }
   },
   "outputs": [
    {
     "data": {
      "text/plain": [
       "'C:\\\\Users\\\\Playdata\\\\Anaconda3\\\\lib\\\\site-packages\\\\matplotlib\\\\mpl-data\\\\matplotlibrc'"
      ]
     },
     "execution_count": 12,
     "metadata": {},
     "output_type": "execute_result"
    }
   ],
   "source": [
    "mpl.matplotlib_fname()"
   ]
  },
  {
   "cell_type": "code",
   "execution_count": 11,
   "metadata": {},
   "outputs": [
    {
     "ename": "SyntaxError",
     "evalue": "unexpected character after line continuation character (<ipython-input-11-3e2ffcf16179>, line 1)",
     "output_type": "error",
     "traceback": [
      "\u001b[1;36m  File \u001b[1;32m\"<ipython-input-11-3e2ffcf16179>\"\u001b[1;36m, line \u001b[1;32m1\u001b[0m\n\u001b[1;33m    C:\\\\Users\\\\Playdata\\\\Anaconda3\\\\lib\\\\site-packages\\\\matplotlib\\\\mpl-data\\\\matplotlibrc\u001b[0m\n\u001b[1;37m                                                                                          ^\u001b[0m\n\u001b[1;31mSyntaxError\u001b[0m\u001b[1;31m:\u001b[0m unexpected character after line continuation character\n"
     ]
    }
   ],
   "source": [
    "C:\\\\Users\\\\Playdata\\\\Anaconda3\\\\lib\\\\site-packages\\\\matplotlib\\\\mpl-data\\\\matplotlibrc"
   ]
  },
  {
   "cell_type": "markdown",
   "metadata": {},
   "source": [
    "### 함수를 이용해 설정\n",
    "- `matplotlib.rcParam['설정'] = 값` 으로 변경"
   ]
  },
  {
   "cell_type": "code",
   "execution_count": 8,
   "metadata": {
    "ExecuteTime": {
     "end_time": "2020-08-15T14:11:34.301675Z",
     "start_time": "2020-08-15T14:11:34.279765Z"
    }
   },
   "outputs": [],
   "source": [
    "import matplotlib as mpl\n",
    "from matplotlib import font_manager as fm\n",
    "\n",
    "# 한글 폰트 설정\n",
    "font_name = fm.FontProperties(fname=\"c:/Windows/Fonts/malgun.ttf\").get_name()\n",
    "\n",
    "mpl.rcParams[\"font.family\"] = \"Malgun Gothic\"\n",
    "mpl.rcParams[\"font.size\"] = 15\n",
    "mpl.rcParams['xtick.labelsize'] = 12\n",
    "mpl.rcParams['ytick.labelsize'] = 12\n",
    "mpl.rcParams['axes.labelsize'] = 15\n",
    "# tick의 음수기호 '-' 가 깨지는 것 처리\n",
    "mpl.rcParams['axes.unicode_minus'] = False"
   ]
  },
  {
   "cell_type": "code",
   "execution_count": 9,
   "metadata": {
    "ExecuteTime": {
     "end_time": "2020-08-15T14:15:52.038055Z",
     "start_time": "2020-08-15T14:15:51.909350Z"
    }
   },
   "outputs": [
    {
     "data": {
      "image/png": "[encoded data removed]",
      "text/plain": [
       "<Figure size 432x288 with 1 Axes>"
      ]
     },
     "metadata": {
      "needs_background": "light"
     },
     "output_type": "display_data"
    }
   ],
   "source": [
    "import matplotlib.pyplot as plt\n",
    "plt.plot(range(-5,6))\n",
    "plt.xlabel(\"X값\")\n",
    "plt.ylabel(\"Y값\")\n",
    "plt.title('matplotlib 예제')\n",
    "plt.show()"
   ]
  },
  {
   "cell_type": "code",
   "execution_count": null,
   "metadata": {},
   "outputs": [],
   "source": []
  }
 ],
 "metadata": {
  "kernelspec": {
   "display_name": "Python 3",
   "language": "python",
   "name": "python3"
  },
  "language_info": {
   "codemirror_mode": {
    "name": "ipython",
    "version": 3
   },
   "file_extension": ".py",
   "mimetype": "text/x-python",
   "name": "python",
   "nbconvert_exporter": "python",
   "pygments_lexer": "ipython3",
   "version": "3.8.5"
  },
  "toc": {
   "base_numbering": 1,
   "nav_menu": {},
   "number_sections": true,
   "sideBar": true,
   "skip_h1_title": false,
   "title_cell": "Table of Contents",
   "title_sidebar": "Contents",
   "toc_cell": false,
   "toc_position": {},
   "toc_section_display": true,
   "toc_window_display": false
  },
  "varInspector": {
   "cols": {
    "lenName": 16,
    "lenType": 16,
    "lenVar": 40
   },
   "kernels_config": {
    "python": {
     "delete_cmd_postfix": "",
     "delete_cmd_prefix": "del ",
     "library": "var_list.py",
     "varRefreshCmd": "print(var_dic_list())"
    },
    "r": {
     "delete_cmd_postfix": ") ",
     "delete_cmd_prefix": "rm(",
     "library": "var_list.r",
     "varRefreshCmd": "cat(var_dic_list()) "
    }
   },
   "types_to_exclude": [
    "module",
    "function",
    "builtin_function_or_method",
    "instance",
    "_Feature"
   ],
   "window_display": false
  }
 },
 "nbformat": 4,
 "nbformat_minor": 2
}
