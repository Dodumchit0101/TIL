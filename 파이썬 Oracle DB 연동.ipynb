{
 "cells": [
  {
   "cell_type": "markdown",
   "metadata": {
    "slideshow": {
     "slide_type": "slide"
    }
   },
   "source": [
    "# cx_Oracle 모듈\n",
    "- 파이썬에서 오라클 DBMS와 연동는 다양한 함수를 제공하는 모듈\n",
    "- Python DB API 2.0 표준을 따른다. \n",
    "\n",
    "## 참고\n",
    "- [cx_Oracle 모듈 홈페이지](https://oracle.github.io/python-cx_Oracle/)\n",
    "- [Python DB API](https://docs.python.org/ko/3/library/sqlite3.html)"
   ]
  },
  {
   "cell_type": "markdown",
   "metadata": {
    "slideshow": {
     "slide_type": "slide"
    }
   },
   "source": [
    "## cx_Oracle 모듈 설치\n",
    "- [설치 튜토리얼](https://cx-oracle.readthedocs.io/en/latest/user_guide/installation.html)\n",
    "- 패키지 설치\n",
    "```\n",
    "conda install cx_oracle\n",
    "pip install cx_Oracle --upgrade\n",
    "```"
   ]
  },
  {
   "cell_type": "code",
   "execution_count": null,
   "metadata": {},
   "outputs": [],
   "source": []
  },
  {
   "cell_type": "markdown",
   "metadata": {
    "slideshow": {
     "slide_type": "slide"
    }
   },
   "source": [
    "## 코딩 절차\n",
    "1. cx_Oracle 모듈 import"
   ]
  },
  {
   "cell_type": "markdown",
   "metadata": {
    "slideshow": {
     "slide_type": "fragment"
    }
   },
   "source": [
    "2. cx_Oracle모듈의 connect() 함수를 이용해 디비연결"
   ]
  },
  {
   "cell_type": "markdown",
   "metadata": {
    "slideshow": {
     "slide_type": "fragment"
    }
   },
   "source": [
    "3. Connection 객체의 cursor() 메소드를 이용해 Cursor객체 조회.\n",
    "    - Cursor객체: sql문을 전송하고 select결과 조회 기능을 제공하는 객체"
   ]
  },
  {
   "cell_type": "markdown",
   "metadata": {
    "slideshow": {
     "slide_type": "fragment"
    }
   },
   "source": [
    "4. Cursor 의 execute() 메소드를 이용해 SQL문 전송"
   ]
  },
  {
   "cell_type": "markdown",
   "metadata": {
    "slideshow": {
     "slide_type": "fragment"
    }
   },
   "source": [
    "5. SELECT 의 경우 결과 조회.\n",
    "    - 조회결과 한행씩 반환받아 사용\n",
    "    - 조회결과 한번에 반환받아 사용"
   ]
  },
  {
   "cell_type": "markdown",
   "metadata": {
    "slideshow": {
     "slide_type": "fragment"
    }
   },
   "source": [
    "6. INSERT/DELETE/UPDATE의 경우  SQL 문 실행 후 Connection의 commit() 메소드를 이용해 Transaction 처리"
   ]
  },
  {
   "cell_type": "markdown",
   "metadata": {
    "slideshow": {
     "slide_type": "fragment"
    }
   },
   "source": [
    "7. Cursor, Connection 연결 닫기"
   ]
  },
  {
   "cell_type": "markdown",
   "metadata": {
    "slideshow": {
     "slide_type": "slide"
    }
   },
   "source": [
    "### DB 연결\n",
    "- connect() 함수를 이용하며 연결 후 Connection 객체를 받는다.\n",
    "- 연결시 필요한 값\n",
    "    - **host**\n",
    "    - **port번호**\n",
    "    - **SID(DB이름)**\n",
    "    - **user name**\n",
    "    - **password**\n",
    "\n",
    "### Connection 주요 메소드\n",
    "- commit(): 커밋\n",
    "- rollback(): 롤백\n",
    "- close(): 연결 닫기"
   ]
  },
  {
   "cell_type": "code",
   "execution_count": 2,
   "metadata": {},
   "outputs": [
    {
     "name": "stdout",
     "output_type": "stream",
     "text": [
      "<class 'cx_Oracle.Connection'>\n"
     ]
    }
   ],
   "source": [
    "# connect() 함수를 이용해 연결. 연결(접속) 성공하면 Connection 객체를 반환\n",
    "# Connection 객체: 연결 정보를 가지고 있는 객체\n",
    "import cx_Oracle\n",
    "username = 'c##scott_join'\n",
    "password = 'tiger'\n",
    "url = \"localhost:1521/XE\"  #host:port/sid\n",
    "conn = cx_Oracle.connect(username, password, url) #연결\n",
    "print(type(conn))\n",
    "conn.close()"
   ]
  },
  {
   "cell_type": "code",
   "execution_count": 5,
   "metadata": {},
   "outputs": [
    {
     "name": "stdout",
     "output_type": "stream",
     "text": [
      "<class 'cx_Oracle.Connection'>\n"
     ]
    }
   ],
   "source": [
    "# username/pwd@url\n",
    "conn2 = cx_Oracle.connect(\"c##scott_join/tiger@localhost:1521/XE\")\n",
    "print(type(conn2))\n",
    "conn2.close()"
   ]
  },
  {
   "cell_type": "markdown",
   "metadata": {
    "slideshow": {
     "slide_type": "slide"
    }
   },
   "source": [
    "#### DSN (Data Source Name) 을 이용한 연결\n",
    "- DSN: DBMS를 연결하기 위한 정보를 모아 놓은 것. (서로 다른 DBMS의 연결정보를 통일하기 위해서 방식)\n",
    "- makedsn(host, port번호, SID) 함수 이용해 생성한다."
   ]
  },
  {
   "cell_type": "code",
   "execution_count": 7,
   "metadata": {},
   "outputs": [
    {
     "name": "stdout",
     "output_type": "stream",
     "text": [
      "(DESCRIPTION=(ADDRESS=(PROTOCOL=TCP)(HOST=localhost)(PORT=1521))(CONNECT_DATA=(SID=XE)))\n",
      "<class 'cx_Oracle.Connection'>\n"
     ]
    }
   ],
   "source": [
    "username = \"c##scott_join\"\n",
    "password = \"tiger\"\n",
    "host = \"localhost\"\n",
    "port = 1521\n",
    "sid = \"XE\"\n",
    "dsn = cx_Oracle.makedsn(host, port, sid)\n",
    "print(dsn)\n",
    "conn3 = cx_Oracle.connect(username, password, dsn)\n",
    "print(type(conn3))\n",
    "conn3.close()"
   ]
  },
  {
   "cell_type": "code",
   "execution_count": null,
   "metadata": {},
   "outputs": [],
   "source": [
    "with "
   ]
  },
  {
   "cell_type": "markdown",
   "metadata": {
    "slideshow": {
     "slide_type": "slide"
    }
   },
   "source": [
    "## Cursor 객체\n",
    "- SQL문을 전송하고 select결과를 조회하는 메소드들을 제공한다.\n",
    "- Connection객체의 cursor() 메소드로 받아온다."
   ]
  },
  {
   "cell_type": "markdown",
   "metadata": {
    "slideshow": {
     "slide_type": "subslide"
    }
   },
   "source": [
    "### Cursor의 주요 메소드\n",
    "#### SQL 실행 메소드\n",
    "- execute(sql) : 하나의 sql 문 실행. \n",
    "- executemany(sql): insert, update, delete 배치 처리\n",
    "    - insert, update, delete는 다 처리후 conn.commit()으로 커밋 처리해야한다.\n",
    "    "
   ]
  },
  {
   "cell_type": "markdown",
   "metadata": {
    "slideshow": {
     "slide_type": "fragment"
    }
   },
   "source": [
    "#### select 결과 조회 메소드\n",
    "- execute()로 실행한 SQL이 select인 경우 다음 메소드로 조회한다.\n",
    "- fetchall()  : 조회된 모든 행을 한번에 가져올 때 사용한다. 결과를 tuple들을 묶은 리스트로 반환\n",
    "- fetchone()  : 호출시 마다 한행씩 반환한다. PK로 조회한 경우 많이 사용한다.\n",
    "- fetchmany(n): n행만큼 조회한다. n기본값-100. 특정개수반큼 반복문을 이용해 가져올때 사용."
   ]
  },
  {
   "cell_type": "code",
   "execution_count": 8,
   "metadata": {},
   "outputs": [],
   "source": [
    "import cx_Oracle\n",
    "from pprint import pprint  #자료구조를 보기 좋게 출력해주는 print함수"
   ]
  },
  {
   "cell_type": "code",
   "execution_count": 16,
   "metadata": {},
   "outputs": [
    {
     "name": "stdout",
     "output_type": "stream",
     "text": [
      "연결 완료\n",
      "<class 'list'> <class 'tuple'>\n",
      "68\n",
      "[(100, 'Steven', 'AD_PRES'),\n",
      " (101, 'Neena', 'AD_VP'),\n",
      " (102, 'Lex', 'AD_VP'),\n",
      " (103, 'Alexander', 'IT_PROG'),\n",
      " (104, 'Bruce', 'IT_PROG'),\n",
      " (105, 'David', 'IT_PROG'),\n",
      " (106, 'Valli', 'IT_PROG'),\n",
      " (107, 'Diana', 'IT_PROG'),\n",
      " (108, 'Nancy', 'FI_MGR'),\n",
      " (109, 'Daniel', 'FI_ACCOUNT'),\n",
      " (110, 'John', 'FI_ACCOUNT'),\n",
      " (111, 'Ismael', 'FI_ACCOUNT'),\n",
      " (112, 'Jose Manuel', 'FI_ACCOUNT'),\n",
      " (113, 'Luis', 'FI_ACCOUNT'),\n",
      " (114, 'Den', 'PU_MAN'),\n",
      " (115, 'Alexander', 'PU_MAN'),\n",
      " (120, 'Matthew', 'ST_MAN'),\n",
      " (121, 'Adam', 'ST_MAN'),\n",
      " (122, 'Payam', 'ST_MAN'),\n",
      " (123, 'Shanta', 'ST_MAN'),\n",
      " (124, 'Kevin', 'ST_MAN'),\n",
      " (130, 'Mozhe', None),\n",
      " (131, 'James', None),\n",
      " (140, 'Joshua', None),\n",
      " (145, 'John', 'SA_MAN'),\n",
      " (146, 'Karen', 'SA_MAN'),\n",
      " (147, 'Alberto', 'SA_MAN'),\n",
      " (150, 'Peter', 'SA_REP'),\n",
      " (151, 'David', 'SA_REP'),\n",
      " (152, 'Peter', 'SA_REP'),\n",
      " (153, 'Christopher', 'SA_REP'),\n",
      " (154, 'Nanette', 'SA_REP'),\n",
      " (155, 'Oliver', 'SA_REP'),\n",
      " (156, 'Janette', 'SA_REP'),\n",
      " (157, 'Patrick', 'SA_REP'),\n",
      " (158, 'Allan', 'SA_REP'),\n",
      " (159, 'Lindsey', 'SA_REP'),\n",
      " (160, 'Louise', 'SA_REP'),\n",
      " (161, 'Sarath', 'SA_REP'),\n",
      " (162, 'Clara', 'SA_REP'),\n",
      " (163, 'Danielle', 'SA_REP'),\n",
      " (164, 'Mattea', 'SA_REP'),\n",
      " (165, 'David', 'SA_REP'),\n",
      " (166, 'Sundar', 'SA_REP'),\n",
      " (167, 'Amit', 'SA_REP'),\n",
      " (168, 'Lisa', 'SA_REP'),\n",
      " (169, 'Harrison', 'SA_REP'),\n",
      " (170, 'Tayler', 'SA_REP'),\n",
      " (171, 'William', 'SA_REP'),\n",
      " (172, 'Elizabeth', 'SA_REP'),\n",
      " (173, 'Sundita', 'SA_REP'),\n",
      " (174, 'Ellen', 'SA_REP'),\n",
      " (175, 'Alyssa', 'SA_REP'),\n",
      " (176, 'Jonathon', 'SA_REP'),\n",
      " (177, 'Jack', 'SA_REP'),\n",
      " (178, 'Kimberely', 'SA_REP'),\n",
      " (179, 'Charles', 'SA_REP'),\n",
      " (187, 'Anthony', None),\n",
      " (190, 'Timothy', None),\n",
      " (191, 'Randall', None),\n",
      " (200, 'Jennifer', 'AD_ASST'),\n",
      " (201, 'Michael', 'MK_MAN'),\n",
      " (202, 'Pat', 'MK_REP'),\n",
      " (203, 'Susan', 'HR_REP'),\n",
      " (204, 'Hermann', 'PR_REP'),\n",
      " (205, 'Shelley', 'AC_MGR'),\n",
      " (206, 'William', 'AC_ACCOUNT'),\n",
      " (1500, '홍길동', 'FI_ACCOUNT')]\n"
     ]
    }
   ],
   "source": [
    "# sql문: 문자열로 작성, 대소문자 구별 X (sql의 keyword들은 보통 대문자, 컬럼/테이블명은 소문자)\n",
    "#        세미콜론은 붙이지 않음\n",
    "select_sql = \"SELECT emp_id, emp_name, job_id FROM emp\"\n",
    "insert_sql = \"INSERT INTO emp VALUES (1500, '홍길동', 'FI_ACCOUNT', 101, to_date('2021/02/15', 'yyyy/mm/dd'), 30000, 0.2, 100)\"\n",
    "conn = None  #Connection을 대입할 변수\n",
    "cursor = None  #Cursor 객체를 대입할 변수\n",
    "\n",
    "try:\n",
    "    #1. 연결\n",
    "    conn = cx_Oracle.connect(\"c##scott_join/tiger@localhost:1521/XE\")\n",
    "    print(\"연결 완료\")\n",
    "    #2. Cursor 생성\n",
    "    cursor = conn.cursor()\n",
    "    #3. sql 실행\n",
    "    cursor.execute(insert_sql)\n",
    "    cursor.execute(select_sql)\n",
    "    #4. select 결과 조회\n",
    "    result = cursor.fetchall()  #조회 결과를 한 번에 반환. 한 행-Tuple, 리스트로 tuple들을 묶음\n",
    "    print(type(result), type(result[0]))\n",
    "    print(len(result))\n",
    "    pprint(result)\n",
    "    #5. insert/update/delete 후에 반드시 commit\n",
    "    conn.commit()\n",
    "except Exception as e:\n",
    "    print(e)\n",
    "finally:\n",
    "    #6. 연결 닫기 - cursor/connection\n",
    "    if conn != None:\n",
    "        conn.close()\n",
    "    if conn != None:\n",
    "        conn.close()"
   ]
  },
  {
   "cell_type": "code",
   "execution_count": null,
   "metadata": {},
   "outputs": [],
   "source": []
  },
  {
   "cell_type": "code",
   "execution_count": null,
   "metadata": {},
   "outputs": [],
   "source": []
  },
  {
   "cell_type": "code",
   "execution_count": null,
   "metadata": {},
   "outputs": [],
   "source": []
  },
  {
   "cell_type": "markdown",
   "metadata": {
    "slideshow": {
     "slide_type": "slide"
    }
   },
   "source": [
    "## placeholder(자리표시자)를 이용해 sql 실행\n",
    "- SQL에 값이 들어갈 자리에 값을 대신할 문자 **`:순번` 또는 `:이름`** 를 넣고 SQL 실행시 값을 전달\n",
    "> placehold 는 DBMS마다 다르다. \n",
    "- execute(SQL, placeholder에 들어갈 값)\n",
    "    - 딕셔너리: placeholder의 이름-값 형식\n",
    "    - 리스트나 튜플: placeholder 순서"
   ]
  },
  {
   "cell_type": "code",
   "execution_count": 17,
   "metadata": {},
   "outputs": [],
   "source": [
    "import cx_Oracle\n",
    "from pprint import pprint"
   ]
  },
  {
   "cell_type": "code",
   "execution_count": 20,
   "metadata": {},
   "outputs": [
    {
     "name": "stdout",
     "output_type": "stream",
     "text": [
      "15000 ~ 20000 사이 salary 조회\n",
      "[(100, 'Steven', 'AD_PRES'),\n",
      " (101, 'Neena', 'AD_VP'),\n",
      " (102, 'Lex', 'AD_VP'),\n",
      " (103, 'Alexander', 'IT_PROG'),\n",
      " (104, 'Bruce', 'IT_PROG'),\n",
      " (105, 'David', 'IT_PROG'),\n",
      " (106, 'Valli', 'IT_PROG'),\n",
      " (107, 'Diana', 'IT_PROG'),\n",
      " (108, 'Nancy', 'FI_MGR'),\n",
      " (109, 'Daniel', 'FI_ACCOUNT'),\n",
      " (110, 'John', 'FI_ACCOUNT'),\n",
      " (111, 'Ismael', 'FI_ACCOUNT'),\n",
      " (112, 'Jose Manuel', 'FI_ACCOUNT'),\n",
      " (113, 'Luis', 'FI_ACCOUNT'),\n",
      " (114, 'Den', 'PU_MAN'),\n",
      " (115, 'Alexander', 'PU_MAN'),\n",
      " (120, 'Matthew', 'ST_MAN'),\n",
      " (121, 'Adam', 'ST_MAN'),\n",
      " (122, 'Payam', 'ST_MAN'),\n",
      " (123, 'Shanta', 'ST_MAN'),\n",
      " (124, 'Kevin', 'ST_MAN'),\n",
      " (130, 'Mozhe', None),\n",
      " (131, 'James', None),\n",
      " (140, 'Joshua', None),\n",
      " (145, 'John', 'SA_MAN'),\n",
      " (146, 'Karen', 'SA_MAN'),\n",
      " (147, 'Alberto', 'SA_MAN'),\n",
      " (150, 'Peter', 'SA_REP'),\n",
      " (151, 'David', 'SA_REP'),\n",
      " (152, 'Peter', 'SA_REP'),\n",
      " (153, 'Christopher', 'SA_REP'),\n",
      " (154, 'Nanette', 'SA_REP'),\n",
      " (155, 'Oliver', 'SA_REP'),\n",
      " (156, 'Janette', 'SA_REP'),\n",
      " (157, 'Patrick', 'SA_REP'),\n",
      " (158, 'Allan', 'SA_REP'),\n",
      " (159, 'Lindsey', 'SA_REP'),\n",
      " (160, 'Louise', 'SA_REP'),\n",
      " (161, 'Sarath', 'SA_REP'),\n",
      " (162, 'Clara', 'SA_REP'),\n",
      " (163, 'Danielle', 'SA_REP'),\n",
      " (164, 'Mattea', 'SA_REP'),\n",
      " (165, 'David', 'SA_REP'),\n",
      " (166, 'Sundar', 'SA_REP'),\n",
      " (167, 'Amit', 'SA_REP'),\n",
      " (168, 'Lisa', 'SA_REP'),\n",
      " (169, 'Harrison', 'SA_REP'),\n",
      " (170, 'Tayler', 'SA_REP'),\n",
      " (171, 'William', 'SA_REP'),\n",
      " (172, 'Elizabeth', 'SA_REP'),\n",
      " (173, 'Sundita', 'SA_REP'),\n",
      " (174, 'Ellen', 'SA_REP'),\n",
      " (175, 'Alyssa', 'SA_REP'),\n",
      " (176, 'Jonathon', 'SA_REP'),\n",
      " (177, 'Jack', 'SA_REP'),\n",
      " (178, 'Kimberely', 'SA_REP'),\n",
      " (179, 'Charles', 'SA_REP'),\n",
      " (187, 'Anthony', None),\n",
      " (190, 'Timothy', None),\n",
      " (191, 'Randall', None),\n",
      " (200, 'Jennifer', 'AD_ASST'),\n",
      " (201, 'Michael', 'MK_MAN'),\n",
      " (202, 'Pat', 'MK_REP'),\n",
      " (203, 'Susan', 'HR_REP'),\n",
      " (204, 'Hermann', 'PR_REP'),\n",
      " (205, 'Shelley', 'AC_MGR'),\n",
      " (206, 'William', 'AC_ACCOUNT'),\n",
      " (1500, '홍길동', 'FI_ACCOUNT')]\n",
      "2000 ~ 3000 사이 salary 조회\n",
      "[]\n"
     ]
    }
   ],
   "source": [
    "select_sql = \"SELECT * FROM emp WHERE salary BETWEEN :1 and :2\"\n",
    "insert_sql = \"INSERT INTO emp VALUES(:id, :name, :job_id, :mgr_id, to_date(:hire_date, 'yyyymmdd'), :salary, :comm_pct, :dept_id)\"\n",
    "\n",
    "conn = None\n",
    "cursor = None\n",
    "\n",
    "try:\n",
    "    conn = cx_Oracle.connect('c##scott_join/tiger@localhost:1521/XE')\n",
    "    cursor = conn.cursor()\n",
    "# SQL문 실행\n",
    "# varchar2/char/nvarchar/nchar : str\n",
    "# number (정수/실수) : int/double\n",
    "    param_dict = {\n",
    "        'id':2000,\n",
    "        'name':'이순신',\n",
    "        'job_id':'FI_ACCOUNT',\n",
    "        'mgr_id':101,\n",
    "        'hire_date':'20210213',\n",
    "        'salary':19990,\n",
    "        'dept_id':110\n",
    "    }\n",
    "    \n",
    "    cursor.execute(select_sql, [10000, 20000])\n",
    "    result1 = cursor.fetchall()\n",
    "    print(\"15000 ~ 20000 사이 salary 조회\")\n",
    "    pprint(result)\n",
    "    \n",
    "    cursor.execute(select_sql, [2000, 3000])\n",
    "    result2 = cursor.fetchall()\n",
    "    print(\"2000 ~ 3000 사이 salary 조회\")\n",
    "    pprint(result2)\n",
    "    \n",
    "except Exception as e:\n",
    "    print(e)\n",
    "finally:\n",
    "    if cursor:\n",
    "        cursor.close()\n",
    "    if conn:\n",
    "        conn.close()\n",
    "        \n",
    "    "
   ]
  },
  {
   "cell_type": "markdown",
   "metadata": {
    "slideshow": {
     "slide_type": "slide"
    }
   },
   "source": [
    "## SELECT  결과 조회\n",
    "\n",
    "### fetchone()\n",
    "- 조회결과 한행씩 반환한다.\n",
    "- PK로 조회시 사용한다.\n",
    "- 반환 type: tuple"
   ]
  },
  {
   "cell_type": "markdown",
   "metadata": {
    "slideshow": {
     "slide_type": "fragment"
    }
   },
   "source": [
    "### fetchall()\n",
    "- 조회한 전체 결과셋을 반환한다.\n",
    "- 한 row를 Tuple로 묶고 그 Tuple들을 List로 묶어서 반환한다."
   ]
  },
  {
   "cell_type": "markdown",
   "metadata": {
    "slideshow": {
     "slide_type": "fragment"
    }
   },
   "source": [
    "### fetchmany(n)\n",
    "- n 행씩 조회할 때 사용\n",
    "- n 기본값 100"
   ]
  },
  {
   "cell_type": "code",
   "execution_count": 21,
   "metadata": {},
   "outputs": [],
   "source": [
    "# emp_id(PK)로 직원 정보를 조회하는 함수\n",
    "def select_emp_by_id(emp_id):\n",
    "    sql = \"SELECT * FROM emp WHERE emp_id = :1\"\n",
    "#     conn, cursor = None, None\n",
    "    with cx_Oracle.connect('c##scott_join/tiger@localhost:1521/XE') as conn:\n",
    "        with conn.cursor() as cursor:\n",
    "            #sql 실행\n",
    "            cursor.execute(sql, [emp_id])\n",
    "            result = cursor.fetchone()  #1행 조회. 조회결과 없으면 None 반환\n",
    "            return result\n",
    "    "
   ]
  },
  {
   "cell_type": "code",
   "execution_count": 22,
   "metadata": {},
   "outputs": [
    {
     "name": "stdout",
     "output_type": "stream",
     "text": [
      "(100, 'Steven', 'AD_PRES', None, datetime.datetime(2021, 2, 5, 12, 14, 31), 24000.0, None, 90) id: 100 이름: Steven\n"
     ]
    }
   ],
   "source": [
    "r = select_emp_by_id(100)\n",
    "print(r, \"id:\", r[0], '이름:', r[1])"
   ]
  },
  {
   "cell_type": "code",
   "execution_count": 23,
   "metadata": {},
   "outputs": [
    {
     "name": "stdout",
     "output_type": "stream",
     "text": [
      "None\n"
     ]
    }
   ],
   "source": [
    "r = select_emp_by_id(3000)\n",
    "print(r)"
   ]
  },
  {
   "cell_type": "code",
   "execution_count": 25,
   "metadata": {},
   "outputs": [
    {
     "name": "stdout",
     "output_type": "stream",
     "text": [
      "10\n",
      "[(100, 'Steven', 'AD_PRES', None, datetime.datetime(2021, 2, 5, 12, 14, 31), 24000.0, None, 90), (101, 'Neena', 'AD_VP', None, datetime.datetime(2021, 2, 5, 12, 14, 31), 17000.0, None, 90), (102, 'Lex', 'AD_VP', None, datetime.datetime(2021, 2, 5, 12, 14, 31), 17000.0, None, 90), (103, 'Alexander', 'IT_PROG', None, datetime.datetime(2021, 2, 5, 12, 14, 31), 27000.0, None, 60), (104, 'Bruce', 'IT_PROG', None, datetime.datetime(2021, 2, 5, 12, 14, 31), 18000.0, None, 60), (105, 'David', 'IT_PROG', None, datetime.datetime(2021, 2, 5, 12, 14, 31), 14400.0, None, 60), (106, 'Valli', 'IT_PROG', None, datetime.datetime(2021, 2, 5, 12, 14, 31), 14400.0, None, 60), (107, 'Diana', 'IT_PROG', None, datetime.datetime(2021, 2, 5, 12, 14, 31), 12600.0, None, 60), (108, 'Nancy', 'FI_MGR', None, datetime.datetime(2021, 2, 5, 12, 14, 31), 12008.0, None, 100), (109, 'Daniel', 'FI_ACCOUNT', None, datetime.datetime(2021, 2, 5, 12, 14, 31), 9000.0, None, 100)]\n",
      "10\n",
      "[(110, 'John', 'FI_ACCOUNT', None, datetime.datetime(2021, 2, 5, 12, 14, 31), 8200.0, None, 100), (111, 'Ismael', 'FI_ACCOUNT', None, datetime.datetime(2021, 2, 5, 12, 14, 31), 7700.0, None, 100), (112, 'Jose Manuel', 'FI_ACCOUNT', None, datetime.datetime(2021, 2, 5, 12, 14, 31), 7800.0, None, 100), (113, 'Luis', 'FI_ACCOUNT', None, datetime.datetime(2021, 2, 5, 12, 14, 31), 10350.0, None, 100), (114, 'Den', 'PU_MAN', None, datetime.datetime(2021, 2, 5, 12, 14, 31), 11000.0, None, 30), (115, 'Alexander', 'PU_MAN', None, datetime.datetime(2021, 2, 5, 12, 14, 31), 9100.0, None, 30), (120, 'Matthew', 'ST_MAN', None, datetime.datetime(2021, 2, 5, 12, 14, 31), 8000.0, None, 50), (121, 'Adam', 'ST_MAN', None, datetime.datetime(2021, 2, 5, 12, 14, 31), 8200.0, None, 50), (122, 'Payam', 'ST_MAN', None, datetime.datetime(2021, 2, 5, 12, 14, 31), 7900.0, None, 50), (123, 'Shanta', 'ST_MAN', None, datetime.datetime(2021, 2, 5, 12, 14, 31), 9750.0, None, 50)]\n"
     ]
    }
   ],
   "source": [
    "sql = 'SELECT * FROM emp'\n",
    "with cx_Oracle.connect('c##scott_join/tiger@localhost:1521/XE') as conn:\n",
    "    with conn.cursor() as cursor:\n",
    "        cursor.execute(sql)\n",
    "        result = cursor.fetchmany(10)  #10개만 조회\n",
    "        print(len(result))\n",
    "        print(result)\n",
    "        \n",
    "        result = cursor.fetchmany(10)\n",
    "        print(len(result))\n",
    "        print(result)"
   ]
  },
  {
   "cell_type": "code",
   "execution_count": null,
   "metadata": {},
   "outputs": [],
   "source": []
  },
  {
   "cell_type": "markdown",
   "metadata": {},
   "source": [
    "### cursor를 for in 문을 이용해 select결과 조회\n",
    "- select후 cursor는 Iterable 한 객체.\n",
    "- cursor는 반복시마다 조회한 한행을 반환."
   ]
  },
  {
   "cell_type": "code",
   "execution_count": 27,
   "metadata": {},
   "outputs": [],
   "source": [
    "sql = \"SELECT * FROM emp WHERE comm_pct IS NOT NULL ORDER BY emp_id\"\n",
    "with cx_Oracle.connect('c##scott_join/tiger@localhost:1521/XE') as conn:\n",
    "    with conn.cursor() as cursor:\n",
    "        cursor.execute(sql)\n",
    "        for row in cursor:  #한 번 반복할 떄마다 cursorfetchone() 실행\n",
    "            print(row)"
   ]
  },
  {
   "cell_type": "code",
   "execution_count": 28,
   "metadata": {},
   "outputs": [
    {
     "name": "stdout",
     "output_type": "stream",
     "text": [
      "[('AD_VP', 34000, 17000),\n",
      " ('FI_ACCOUNT', 43050, 8610),\n",
      " ('HR_REP', 9750, 9750),\n",
      " ('PU_MAN', 20100, 10050),\n",
      " ('AC_MGR', 12008, 12008),\n",
      " ('AD_ASST', 6600, 6600),\n",
      " ('IT_PROG', 86400, 17280),\n",
      " (None, 24300, 4050),\n",
      " ('SA_MAN', 39500, 13166.67),\n",
      " ('AC_ACCOUNT', 8300, 8300),\n",
      " ('FI_MGR', 12008, 12008),\n",
      " ('ST_MAN', 42550, 8510),\n",
      " ('AD_PRES', 24000, 24000),\n",
      " ('MK_MAN', 13000, 13000),\n",
      " ('SA_REP', 276850, 9228.33),\n",
      " ('MK_REP', 9000, 9000),\n",
      " ('PR_REP', 10000, 10000)]\n"
     ]
    }
   ],
   "source": [
    "sql = \"SELECT job_id, sum(salary), round(avg(salary), 2) FROM emp GROUP BY job_id\"\n",
    "with cx_Oracle.connect('c##scott_join/tiger@localhost:1521/XE') as conn:\n",
    "    with conn.cursor() as cursor:\n",
    "        cursor.execute(sql)\n",
    "        result = cursor.fetchall()\n",
    "        pprint(result)\n"
   ]
  },
  {
   "cell_type": "code",
   "execution_count": 29,
   "metadata": {},
   "outputs": [
    {
     "name": "stdout",
     "output_type": "stream",
     "text": [
      "[('Jennifer', 'Administration'),\n",
      " ('Michael', 'Marketing'),\n",
      " ('Pat', 'Marketing'),\n",
      " ('Den', 'Purchasing'),\n",
      " ('Alexander', 'Purchasing'),\n",
      " ('Susan', 'Human Resources'),\n",
      " ('Matthew', 'Shipping'),\n",
      " ('Adam', 'Shipping'),\n",
      " ('Payam', 'Shipping'),\n",
      " ('Shanta', 'Shipping'),\n",
      " ('Kevin', 'Shipping'),\n",
      " ('Mozhe', 'Shipping'),\n",
      " ('James', 'Shipping'),\n",
      " ('Joshua', 'Shipping'),\n",
      " ('Anthony', 'Shipping'),\n",
      " ('Timothy', 'Shipping'),\n",
      " ('Randall', 'Shipping'),\n",
      " ('Alexander', 'IT'),\n",
      " ('Bruce', 'IT'),\n",
      " ('David', 'IT'),\n",
      " ('Valli', 'IT'),\n",
      " ('Diana', 'IT'),\n",
      " ('Hermann', 'Public Relations'),\n",
      " ('John', 'Sales'),\n",
      " ('Karen', 'Sales'),\n",
      " ('Alberto', 'Sales'),\n",
      " ('Peter', 'Sales'),\n",
      " ('David', 'Sales'),\n",
      " ('Peter', 'Sales'),\n",
      " ('Christopher', 'Sales'),\n",
      " ('Nanette', 'Sales'),\n",
      " ('Oliver', 'Sales'),\n",
      " ('Janette', 'Sales'),\n",
      " ('Patrick', 'Sales'),\n",
      " ('Allan', 'Sales'),\n",
      " ('Lindsey', 'Sales'),\n",
      " ('Louise', 'Sales'),\n",
      " ('Sarath', 'Sales'),\n",
      " ('Clara', 'Sales'),\n",
      " ('Danielle', 'Sales'),\n",
      " ('Mattea', 'Sales'),\n",
      " ('David', 'Sales'),\n",
      " ('Sundar', 'Sales'),\n",
      " ('Amit', 'Sales'),\n",
      " ('Lisa', 'Sales'),\n",
      " ('Harrison', 'Sales'),\n",
      " ('Tayler', 'Sales'),\n",
      " ('William', 'Sales'),\n",
      " ('Elizabeth', 'Sales'),\n",
      " ('Sundita', 'Sales'),\n",
      " ('Ellen', 'Sales'),\n",
      " ('Jonathon', 'Sales'),\n",
      " ('Jack', 'Sales'),\n",
      " ('Charles', 'Sales'),\n",
      " ('Steven', 'Executive'),\n",
      " ('Neena', 'Executive'),\n",
      " ('Lex', 'Executive'),\n",
      " ('Nancy', 'Finance'),\n",
      " ('Daniel', 'Finance'),\n",
      " ('John', 'Finance'),\n",
      " ('Ismael', 'Finance'),\n",
      " ('Jose Manuel', 'Finance'),\n",
      " ('Luis', 'Finance'),\n",
      " ('Shelley', 'Accounting'),\n",
      " ('William', 'Accounting'),\n",
      " ('Alyssa', None),\n",
      " ('Kimberely', None)]\n"
     ]
    }
   ],
   "source": [
    "sql = \"SELECT e.emp_name, d.dept_name FROM emp e left join dept d ON e.dept_id = d.dept_id\"\n",
    "with cx_Oracle.connect('c##scott_join/tiger@localhost:1521/XE') as conn:\n",
    "    with conn.cursor() as cursor:\n",
    "        cursor.execute(sql)\n",
    "        result = cursor.fetchall()\n",
    "        pprint(result)\n"
   ]
  },
  {
   "cell_type": "markdown",
   "metadata": {
    "slideshow": {
     "slide_type": "slide"
    }
   },
   "source": [
    "\n",
    "## INSERT / UPDATE/ DELETE\n",
    "- SQL 실행 후 Connection객체의 commit()을 호출 해야 최종적으로 적용된다.\n",
    "- commit()\n",
    "    - 최종 적용\n",
    "- rollback()\n",
    "    - 변경전 상태로 되돌리기\n",
    "\n",
    "### 사용할 테이블\n",
    "```sql\n",
    "create table test(\n",
    "    id varchar2(10),\n",
    "    name varchar2(100),\n",
    "    age number(3));\n",
    "```"
   ]
  },
  {
   "cell_type": "code",
   "execution_count": 30,
   "metadata": {},
   "outputs": [],
   "source": [
    "create_sql = 'create table test(id varchar2(10), name varchar2(100), age number(3))'\n",
    "insert_sql = 'INSERT INTO test VALUES (:1, :2, :3)'\n",
    "\n",
    "with cx_Oracle.connect('c##scott_join/tiger@localhost:1521/XE') as conn:\n",
    "    with conn.cursor() as cursor:\n",
    "        try:\n",
    "            cursor.execute(create_sql)  #테이블 생성\n",
    "        except Exception as e:\n",
    "            print(e)\n",
    "        #insert\n",
    "        cursor.execute(insert_sql, [1, '이름1', 20])\n",
    "        cursor.execute(insert_sql, [2, '이름2', 30])\n",
    "        cursor.execute(insert_sql, [3, '이름3', 40])\n",
    "        conn.commit()  #commit\n",
    "        "
   ]
  },
  {
   "cell_type": "code",
   "execution_count": 38,
   "metadata": {},
   "outputs": [
    {
     "ename": "DatabaseError",
     "evalue": "ORA-01036: 잘못된 변수명/번호",
     "output_type": "error",
     "traceback": [
      "\u001b[1;31m---------------------------------------------------------------------------\u001b[0m",
      "\u001b[1;31mDatabaseError\u001b[0m                             Traceback (most recent call last)",
      "\u001b[1;32m<ipython-input-38-ed7db366c106>\u001b[0m in \u001b[0;36m<module>\u001b[1;34m\u001b[0m\n\u001b[0;32m      2\u001b[0m \u001b[1;32mwith\u001b[0m \u001b[0mcx_Oracle\u001b[0m\u001b[1;33m.\u001b[0m\u001b[0mconnect\u001b[0m\u001b[1;33m(\u001b[0m\u001b[1;34m'c##scott_join/tiger@localhost:1521/XE'\u001b[0m\u001b[1;33m)\u001b[0m \u001b[1;32mas\u001b[0m \u001b[0mconn\u001b[0m\u001b[1;33m:\u001b[0m\u001b[1;33m\u001b[0m\u001b[1;33m\u001b[0m\u001b[0m\n\u001b[0;32m      3\u001b[0m     \u001b[1;32mwith\u001b[0m \u001b[0mconn\u001b[0m\u001b[1;33m.\u001b[0m\u001b[0mcursor\u001b[0m\u001b[1;33m(\u001b[0m\u001b[1;33m)\u001b[0m \u001b[1;32mas\u001b[0m \u001b[0mcursor\u001b[0m\u001b[1;33m:\u001b[0m\u001b[1;33m\u001b[0m\u001b[1;33m\u001b[0m\u001b[0m\n\u001b[1;32m----> 4\u001b[1;33m         \u001b[0mcursor\u001b[0m\u001b[1;33m.\u001b[0m\u001b[0mexecute\u001b[0m\u001b[1;33m(\u001b[0m\u001b[0mupdate_sql\u001b[0m\u001b[1;33m,\u001b[0m \u001b[1;33m[\u001b[0m\u001b[1;34m'새이름'\u001b[0m\u001b[1;33m]\u001b[0m\u001b[1;33m)\u001b[0m\u001b[1;33m\u001b[0m\u001b[1;33m\u001b[0m\u001b[0m\n\u001b[0m\u001b[0;32m      5\u001b[0m         \u001b[0mconn\u001b[0m\u001b[1;33m.\u001b[0m\u001b[0mcommit\u001b[0m\u001b[1;33m(\u001b[0m\u001b[1;33m)\u001b[0m\u001b[1;33m\u001b[0m\u001b[1;33m\u001b[0m\u001b[0m\n",
      "\u001b[1;31mDatabaseError\u001b[0m: ORA-01036: 잘못된 변수명/번호"
     ]
    }
   ],
   "source": [
    "update_sql = 'UPDATE test SET name=:!'\n",
    "with cx_Oracle.connect('c##scott_join/tiger@localhost:1521/XE') as conn:\n",
    "    with conn.cursor() as cursor:\n",
    "        cursor.execute(update_sql, ['새이름'])\n",
    "        conn.commit()"
   ]
  },
  {
   "cell_type": "code",
   "execution_count": 35,
   "metadata": {},
   "outputs": [],
   "source": [
    "delete_sql = 'DELETE FROM test WHERE name = :1'\n",
    "with cx_Oracle.connect('c##scott_join/tiger@localhost:1521/XE') as conn:\n",
    "    with conn.cursor() as cursor:\n",
    "        cursor.execute(delete_sql, ['이름1'])\n",
    "        conn.commit()"
   ]
  },
  {
   "cell_type": "code",
   "execution_count": 39,
   "metadata": {},
   "outputs": [
    {
     "name": "stdout",
     "output_type": "stream",
     "text": [
      "[('2', '이름2', 30), ('3', '이름3', 40)]\n"
     ]
    }
   ],
   "source": [
    "select_sql = \"select * from test\"\n",
    "with cx_Oracle.connect('c##scott_join/tiger@localhost:1521/XE') as conn:\n",
    "    with conn.cursor() as cursor:\n",
    "        cursor.execute(select_sql)\n",
    "        pprint(cursor.fetchall())"
   ]
  },
  {
   "cell_type": "markdown",
   "metadata": {
    "slideshow": {
     "slide_type": "slide"
    }
   },
   "source": [
    "## batch(일괄작업) 처리\n",
    "- 한번에 메소드 호출로 다수 행을 처리한다.\n",
    "- executemany(sql, placeholder에 전달할값)\n",
    "    - placeholder에 전달할 값을 list로 묶어서 전달하면 sql문이 그 개수만큼 한번에 처리된다."
   ]
  },
  {
   "cell_type": "code",
   "execution_count": null,
   "metadata": {},
   "outputs": [],
   "source": [
    "insert_sql = 'INSERT INTO test VALUES (:1, :2, :3)'\n",
    "param = [\n",
    "    ['a-1', '이름1', 20],\n",
    "    ['a-2', '이름2', 30],\n",
    "    ['a-3', '이름3', 35],\n",
    "    ['a-4', '이름4', 40]\n",
    "]\n",
    "with cx_Oracle.connect('c##scott_join/tiger@localhost:1521/XE') as conn:\n",
    "    with conn.cursor() as cursor:\n",
    "        cursor.executemany(insert_sql, param)"
   ]
  },
  {
   "cell_type": "code",
   "execution_count": null,
   "metadata": {},
   "outputs": [],
   "source": []
  },
  {
   "cell_type": "code",
   "execution_count": null,
   "metadata": {},
   "outputs": [],
   "source": []
  },
  {
   "cell_type": "markdown",
   "metadata": {},
   "source": [
    "## TODO : 매개변수로 dept_id를 받아서 EMP 테이블에서 그 부서의 직원들의 salary를 두배 update하는 함수."
   ]
  },
  {
   "cell_type": "code",
   "execution_count": 1,
   "metadata": {},
   "outputs": [],
   "source": [
    "import cx_Oracle\n",
    "def update_salary_by_dept_id(dept_id):\n",
    "    sql = \"UPDATE emp SET salary = salary * 2 WHERE dept_id = :1\"\n",
    "    with cx_Oracle.connect(\"c##scott_join/tiger@localhost:1521/XE\") as conn:\n",
    "        with conn.cursor() as cursor:  #커서 생성\n",
    "            cursor.execute(sql, [dept_id])  #update문 실해\n",
    "            conn.commit()"
   ]
  },
  {
   "cell_type": "code",
   "execution_count": null,
   "metadata": {},
   "outputs": [],
   "source": [
    "update_salary_by_dept_id(80)"
   ]
  },
  {
   "cell_type": "code",
   "execution_count": null,
   "metadata": {},
   "outputs": [],
   "source": []
  },
  {
   "cell_type": "markdown",
   "metadata": {},
   "source": [
    "## TODO : 매개변수로 job_id를 받아서 그 업무를 하는 직원들을 EMP 테이블에서 삭제하는 함수."
   ]
  },
  {
   "cell_type": "code",
   "execution_count": 5,
   "metadata": {},
   "outputs": [],
   "source": [
    "def delete_emp_by_job_id(job_id):\n",
    "    sql = 'DELETE FROM emp WHERE job_id = :1'\n",
    "    with cx_Oracle.connect('c##scott_join', 'tiger', 'localhost:1521/XE') as conn:\n",
    "        with conn.cursor() as cursor:\n",
    "            cursor.execute(sql, [job_id])\n",
    "            conn.commit()"
   ]
  },
  {
   "cell_type": "code",
   "execution_count": null,
   "metadata": {},
   "outputs": [],
   "source": [
    "# job_id가 null인데 지우고 싶다면?\n",
    "def delete_emp_by_job_id(job_id):\n",
    "    if job_id != None:\n",
    "        sql = 'DELETE FROM emp WHERE job_id = :1'\n",
    "    else:\n",
    "        sql = 'DELETE FROM emp WHERE job_id is null'\n",
    "        \n",
    "    with cx_Oracle.connect('c##scott_join', 'tiger', 'localhost:1521/XE') as conn:\n",
    "        with conn.cursor() as cursor:\n",
    "            if job_id != None:\n",
    "                cursor.execute(sql, [job_id])\n",
    "            else:\n",
    "                cursor.execute(sql)\n",
    "            conn.commit()"
   ]
  },
  {
   "cell_type": "code",
   "execution_count": 6,
   "metadata": {},
   "outputs": [],
   "source": [
    "delete_emp_by_job_id('AD_VP')"
   ]
  },
  {
   "cell_type": "code",
   "execution_count": null,
   "metadata": {},
   "outputs": [],
   "source": []
  },
  {
   "cell_type": "markdown",
   "metadata": {
    "slideshow": {
     "slide_type": "slide"
    }
   },
   "source": [
    "# TODO : 매개변수로 직원 이름을 입력받아 EMP 테이블에서 그  직원들의 전체 정보를 조회결과를 출력하는 함수."
   ]
  },
  {
   "cell_type": "code",
   "execution_count": 14,
   "metadata": {},
   "outputs": [],
   "source": [
    "import cx_Oracle\n",
    "def select_emp_by_name(emp_name):\n",
    "#     sql = \"SELECT * FROM emp WHERE emp_name = :1\"\n",
    "    sql = \"SELECT * FROM emp WHERE emp_name LIKE '%'||:name||'%'\"  #Like 연산자에 placeholder 쓸 때 이렇게 써야함\n",
    "    with cx_Oracle.connect('c##scott_join', 'tiger', 'localhost:1521/XE') as conn:\n",
    "        with conn.cursor() as cursor:\n",
    "#             cursor.execute(sql, [emp_name])\n",
    "            \n",
    "            result = cursor.fetchall()\n",
    "            return result"
   ]
  },
  {
   "cell_type": "code",
   "execution_count": 13,
   "metadata": {},
   "outputs": [
    {
     "name": "stdout",
     "output_type": "stream",
     "text": [
      "[(110, 'John', 'FI_ACCOUNT', None, datetime.datetime(2021, 2, 5, 12, 14, 31), 8200.0, None, 100), (145, 'John', 'SA_MAN', None, datetime.datetime(2021, 2, 5, 12, 14, 31), 14000.0, None, 80)]\n"
     ]
    }
   ],
   "source": [
    "r = select_emp_by_name('John')\n",
    "print(r)"
   ]
  },
  {
   "cell_type": "markdown",
   "metadata": {
    "slideshow": {
     "slide_type": "slide"
    }
   },
   "source": [
    "# TODO: 사용자로 부터 직원정보를 입력받아 EMP 테이블에 입력한다.\n",
    "- emp_id, emp_name, job_id, mgr_id, hire_date, salary, comm_pct, dept_id 를 하나씩 입력받는다.\n",
    "- job_id, mgr_id, salary, comm_pct, dept_id 을 입력하지 않은 경우 NULL 을 넣는다. (placehold 사용시 None을 대입)\n",
    "- 입력된 값을 EMP 테이블에 insert 한다.\n",
    "- 주의 job_id, mgr_id, dept_id는 FK 컬럼이므로 부모테이블의 PK값을 넣어야 한다."
   ]
  },
  {
   "cell_type": "code",
   "execution_count": 20,
   "metadata": {},
   "outputs": [
    {
     "ename": "SyntaxError",
     "evalue": "invalid syntax (<ipython-input-20-a3af13168ce8>, line 38)",
     "output_type": "error",
     "traceback": [
      "\u001b[1;36m  File \u001b[1;32m\"<ipython-input-20-a3af13168ce8>\"\u001b[1;36m, line \u001b[1;32m38\u001b[0m\n\u001b[1;33m    sql = INSERT INTO emp VALUES (:emp_id, :emp_name, :job_id, :mgr_id, to_date(:hire_date, 'yyyymmdd'), :salary, :comm_pct, :dept_id)\u001b[0m\n\u001b[1;37m                 ^\u001b[0m\n\u001b[1;31mSyntaxError\u001b[0m\u001b[1;31m:\u001b[0m invalid syntax\n"
     ]
    }
   ],
   "source": [
    "def insert_emp():\n",
    "    emp_id = int(input(\"직원ID: \"))\n",
    "    emp_name = input(\"이름: \")\n",
    "    job_id = input(\"업무ID: \")\n",
    "    if len(job_id.strip()) == 0:\n",
    "        job_id = None\n",
    "        \n",
    "    try:\n",
    "        mgr_id = int(input(\"상사ID: \"))\n",
    "    except:\n",
    "        mgr_id = None\n",
    "        \n",
    "    hire_date = input(\"입사일(형식: yyyymmdd): \")\n",
    "    salary = int(input(\"급여: \"))\n",
    "    \n",
    "    try:\n",
    "        comm_pct = float(input(\"커미션율: \"))\n",
    "        if comm_pct >= 1:\n",
    "            raise Exception()\n",
    "    except:\n",
    "        comm_pct = None\n",
    "        \n",
    "    try:\n",
    "        dept_id = int(input(\"부서ID: \"))\n",
    "    except:\n",
    "        dept_id = None\n",
    "    \n",
    "    param = {\n",
    "        \"emp_id\":emp_id,\n",
    "        \"emp_name\":emp_name,\n",
    "        \"job_id\":job_id,\n",
    "        \"mgr_id\":mgr_id,\n",
    "        \"hire_date\":hire_date,\n",
    "        \"salary\":salary,\n",
    "        \"comm_pct\":comm_pct,\n",
    "        \"dept_id\":dept_id\n",
    "    }\n",
    "    sql = INSERT INTO emp VALUES (:emp_id, :emp_name, :job_id, :mgr_id, to_date(:hire_date, 'yyyymmdd'), :salary, :comm_pct, :dept_id)\n",
    "    with cx_Oracle.connect(\"c##scott_join\", \"tiger\", \"localhost:1521/XE\") as conn:\n",
    "        with conn.cursor() as cursor:\n",
    "            cursor.execute(sql, param)\n",
    "            conn.commit()\n",
    "            print(\"insert 완료\")"
   ]
  },
  {
   "cell_type": "code",
   "execution_count": null,
   "metadata": {},
   "outputs": [],
   "source": []
  }
 ],
 "metadata": {
  "kernelspec": {
   "display_name": "Python 3",
   "language": "python",
   "name": "python3"
  },
  "language_info": {
   "codemirror_mode": {
    "name": "ipython",
    "version": 3
   },
   "file_extension": ".py",
   "mimetype": "text/x-python",
   "name": "python",
   "nbconvert_exporter": "python",
   "pygments_lexer": "ipython3",
   "version": "3.8.5"
  },
  "toc": {
   "base_numbering": 1,
   "nav_menu": {},
   "number_sections": true,
   "sideBar": true,
   "skip_h1_title": false,
   "title_cell": "Table of Contents",
   "title_sidebar": "Contents",
   "toc_cell": false,
   "toc_position": {},
   "toc_section_display": true,
   "toc_window_display": false
  },
  "varInspector": {
   "cols": {
    "lenName": 16,
    "lenType": 16,
    "lenVar": 40
   },
   "kernels_config": {
    "python": {
     "delete_cmd_postfix": "",
     "delete_cmd_prefix": "del ",
     "library": "var_list.py",
     "varRefreshCmd": "print(var_dic_list())"
    },
    "r": {
     "delete_cmd_postfix": ") ",
     "delete_cmd_prefix": "rm(",
     "library": "var_list.r",
     "varRefreshCmd": "cat(var_dic_list()) "
    }
   },
   "types_to_exclude": [
    "module",
    "function",
    "builtin_function_or_method",
    "instance",
    "_Feature"
   ],
   "window_display": false
  }
 },
 "nbformat": 4,
 "nbformat_minor": 2
}
