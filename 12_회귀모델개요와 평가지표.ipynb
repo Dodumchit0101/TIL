{
 "cells": [
  {
   "cell_type": "markdown",
   "metadata": {},
   "source": [
    "# 회귀(Regression)\n",
    "\n",
    "지도 학습(Supervised Learning)으로 예측할 Target이 연속형(continuous) 데이터(float)인 경우"
   ]
  },
  {
   "cell_type": "markdown",
   "metadata": {},
   "source": [
    "## 회귀의 주요 평가 지표\n",
    "예측값과 실제 값간의 차이를 구한다\n",
    "\n",
    "- ### MSE (Mean Squared Error)\n",
    "    - 실제 값과 예측값의 차를 제곱해 평균 낸 것\n",
    "    - mean_squared_error() \n",
    "    - 'neg_mean_squared_error'\n",
    "    $$\n",
    "    MSE = \\frac{1}{n}\\sum_{i=1}^{n}(y_i - \\hat{y_i})^2\\\\\n",
    "    y_i: 실제값, \\hat{y_i}: 모델이 예측한 값\n",
    "    $$\n",
    "    \n",
    "- ### RMSE (Root Mean Squared Error)\n",
    "    - MSE는 오차의 제곱한 값이므로 실제 오차의 평균보다 큰 값이 나온다.  MSE의 제곱근이 RMSE이다.\n",
    "    - scikit-learn은 함수를 지원하지 않는다. (MSE를 구한 뒤 np.sqrt()로 제곱근을 구한다.)\n",
    "    $$\n",
    "    RMSE = \\sqrt{\\frac{1}{n}\\sum_{i=1}^{n}(y_i - \\hat{y_i})^2}\n",
    "    $$\n",
    "\n",
    "- ### $R^2$ (R square, 결정계수)\n",
    "    - 평균으로 예측했을 때 오차(총오차) 보다 모델을 사용했을 때 얼마 만큼 더 좋은 성능을 내는지를 비율로 나타낸 값. \n",
    "    - 1에 가까울 수록 좋은 모델.\n",
    "    - r2_score()\n",
    "    - 'r2'\n",
    "    - [참고](https://ko.khanacademy.org/math/statistics-probability/describing-relationships-quantitative-data/assessing-the-fit-in-least-squares-regression/a/r-squared-intuition)\n",
    "    $$\n",
    "    R^2 = \\cfrac{\\sum_{i=1}^{n}(\\hat{y_i}-\\bar{y})^2}{\\sum_{i=1}^{n}(y_i - \\bar{y})^2}\\\\\n",
    "    R^2 = 1 - \\cfrac{\\sum_{i=1}^{n}(y_i - \\hat{y_i})^2}{\\sum_{i=1}^{n}(y_i - \\bar{y})^2}\n",
    "    $$\n",
    "\n",
    "- $y_i$ : i번째 실제 값, \n",
    "- $\\hat{y_i}$ : i 번째 예측 값, \n",
    "- $\\bar{y}$ : y의 평균    \n",
    "\n"
   ]
  },
  {
   "cell_type": "markdown",
   "metadata": {
    "ExecuteTime": {
     "end_time": "2020-09-01T21:11:02.482106Z",
     "start_time": "2020-09-01T21:11:02.476120Z"
    }
   },
   "source": [
    "# Guide\n",
    "- 결정계수. 바이오에선 90%, 공학에선 70%, 사회과학에선 13% 정도가 기준이 된다고 한다."
   ]
  },
  {
   "cell_type": "code",
   "execution_count": 1,
   "metadata": {
    "ExecuteTime": {
     "end_time": "2020-09-01T21:08:46.728417Z",
     "start_time": "2020-09-01T21:08:46.710465Z"
    }
   },
   "outputs": [],
   "source": [
    "# import pandas as pd\n",
    "import numpy as np\n",
    "import matplotlib.pyplot as plt\n",
    "import seaborn as sns"
   ]
  },
  {
   "cell_type": "code",
   "execution_count": 2,
   "metadata": {
    "ExecuteTime": {
     "end_time": "2020-09-01T21:08:47.077027Z",
     "start_time": "2020-09-01T21:08:47.062072Z"
    }
   },
   "outputs": [],
   "source": [
    "from sklearn.datasets import make_regression\n",
    "from sklearn.model_selection import cross_val_score\n",
    "from sklearn.linear_model import LinearRegression"
   ]
  },
  {
   "cell_type": "code",
   "execution_count": 3,
   "metadata": {
    "ExecuteTime": {
     "end_time": "2020-09-01T21:08:57.130388Z",
     "start_time": "2020-09-01T21:08:57.118421Z"
    }
   },
   "outputs": [],
   "source": [
    "X, y = make_regression(n_samples=100, # 샘플(행)수\n",
    "                       n_features=1, # feature(컬럼)수 \n",
    "                       n_informative=1, # target을 만드는데 영향을 주는 feature의 개수.  feature에 영향을 주는 컬럼수\n",
    "                       noise = 50,   # 잡음\n",
    "                       coef = False, #Feature간 상관성 여부\n",
    "                       random_state = 1)"
   ]
  },
  {
   "cell_type": "code",
   "execution_count": 4,
   "metadata": {
    "ExecuteTime": {
     "end_time": "2020-09-01T21:08:57.519349Z",
     "start_time": "2020-09-01T21:08:57.510373Z"
    }
   },
   "outputs": [
    {
     "data": {
      "text/plain": [
       "((100, 1), (100,))"
      ]
     },
     "execution_count": 4,
     "metadata": {},
     "output_type": "execute_result"
    }
   ],
   "source": [
    "X.shape, y.shape"
   ]
  },
  {
   "cell_type": "code",
   "execution_count": 5,
   "metadata": {
    "ExecuteTime": {
     "end_time": "2020-09-01T21:08:58.199046Z",
     "start_time": "2020-09-01T21:08:58.054923Z"
    }
   },
   "outputs": [
    {
     "data": {
      "text/plain": [
       "<matplotlib.collections.PathCollection at 0x1f55c0ee460>"
      ]
     },
     "execution_count": 5,
     "metadata": {},
     "output_type": "execute_result"
    },
    {
     "data": {
      "image/png": "[encoded data removed]",
      "text/plain": [
       "<Figure size 432x288 with 1 Axes>"
      ]
     },
     "metadata": {
      "needs_background": "light"
     },
     "output_type": "display_data"
    }
   ],
   "source": [
    "plt.scatter(X, y)"
   ]
  },
  {
   "cell_type": "code",
   "execution_count": 6,
   "metadata": {
    "ExecuteTime": {
     "end_time": "2020-09-01T21:09:04.533165Z",
     "start_time": "2020-09-01T21:09:04.526185Z"
    }
   },
   "outputs": [
    {
     "data": {
      "text/plain": [
       "(15.293427290684107,\n",
       " -255.11169199137663,\n",
       " 247.19463389209255,\n",
       " 20.62597485010551)"
      ]
     },
     "execution_count": 6,
     "metadata": {},
     "output_type": "execute_result"
    }
   ],
   "source": [
    "np.mean(y), np.min(y), np.max(y), np.median(y)"
   ]
  },
  {
   "cell_type": "code",
   "execution_count": 7,
   "metadata": {
    "ExecuteTime": {
     "end_time": "2020-09-01T21:09:15.354011Z",
     "start_time": "2020-09-01T21:09:15.326085Z"
    }
   },
   "outputs": [
    {
     "data": {
      "text/plain": [
       "LinearRegression()"
      ]
     },
     "execution_count": 7,
     "metadata": {},
     "output_type": "execute_result"
    }
   ],
   "source": [
    "lr = LinearRegression()\n",
    "lr.fit(X, y)"
   ]
  },
  {
   "cell_type": "code",
   "execution_count": 8,
   "metadata": {
    "ExecuteTime": {
     "end_time": "2020-09-01T21:09:20.569099Z",
     "start_time": "2020-09-01T21:09:20.558129Z"
    }
   },
   "outputs": [],
   "source": [
    "# 예측\n",
    "pred = lr.predict(X)\n",
    "# np.mean(pred)"
   ]
  },
  {
   "cell_type": "code",
   "execution_count": 11,
   "metadata": {
    "ExecuteTime": {
     "end_time": "2020-09-01T21:09:25.220636Z",
     "start_time": "2020-09-01T21:09:25.214654Z"
    }
   },
   "outputs": [
    {
     "name": "stdout",
     "output_type": "stream",
     "text": [
      "MSE :  2078.5472792307764\n",
      "RMSE :  45.59108771712709\n",
      "MAE:  34.84147804463735\n",
      "R^2 :  0.7321024057172182\n"
     ]
    }
   ],
   "source": [
    "from sklearn.metrics import mean_squared_error, r2_score, mean_absolute_error\n",
    "# 평가\n",
    "mse = mean_squared_error(y, pred)\n",
    "r2 = r2_score(y, pred)\n",
    "print(\"MSE : \", mse)\n",
    "print(\"RMSE : \", np.sqrt(mse))\n",
    "print(\"MAE: \", mean_absolute_error(y, pred))\n",
    "print('R^2 : ', r2)"
   ]
  },
  {
   "cell_type": "code",
   "execution_count": 12,
   "metadata": {
    "ExecuteTime": {
     "end_time": "2020-09-01T21:11:56.047444Z",
     "start_time": "2020-09-01T21:11:56.030522Z"
    }
   },
   "outputs": [
    {
     "data": {
      "text/plain": [
       "(array([0.58124097, 0.82853824, 0.52826294, 0.76611492, 0.7184243 ]),\n",
       " 0.6845162761863837)"
      ]
     },
     "execution_count": 12,
     "metadata": {},
     "output_type": "execute_result"
    }
   ],
   "source": [
    "score = cross_val_score(lr, X, y, cv=5)#, scoring='r2') #R2  #scoring 생략: 분류=accuracy, 회귀=r2\n",
    "score, np.mean(score)"
   ]
  },
  {
   "cell_type": "code",
   "execution_count": 13,
   "metadata": {
    "ExecuteTime": {
     "end_time": "2020-09-01T21:13:17.135775Z",
     "start_time": "2020-09-01T21:13:17.109843Z"
    }
   },
   "outputs": [
    {
     "data": {
      "text/plain": [
       "array([1882.70290581, 2859.09589717,  420.87862081, 3244.99975507,\n",
       "       1404.5936989 , 2794.10631553, 1863.97405357, 1262.61248332,\n",
       "       3714.70549983, 2626.12950655])"
      ]
     },
     "execution_count": 13,
     "metadata": {},
     "output_type": "execute_result"
    }
   ],
   "source": [
    "# mse \n",
    "cross_val_score(lr, X, y, scoring='neg_mean_squared_error', cv=10) * -1  \n",
    "#작을 수록 좋은 것인데 양수로 하면 작은게 밑이고 큰게 위이니까 음수로 해서 나오게 함"
   ]
  },
  {
   "cell_type": "code",
   "execution_count": 14,
   "metadata": {
    "ExecuteTime": {
     "end_time": "2020-09-01T21:13:29.620778Z",
     "start_time": "2020-09-01T21:13:29.614794Z"
    }
   },
   "outputs": [
    {
     "data": {
      "text/plain": [
       "(array([85.14546889]), 10.135071944054275)"
      ]
     },
     "execution_count": 14,
     "metadata": {},
     "output_type": "execute_result"
    }
   ],
   "source": [
    "lr.fit(X, y)\n",
    "lr.coef_, lr.intercept_"
   ]
  },
  {
   "cell_type": "code",
   "execution_count": 15,
   "metadata": {
    "ExecuteTime": {
     "end_time": "2019-12-19T15:31:37.542329Z",
     "start_time": "2019-12-19T15:31:37.537309Z"
    }
   },
   "outputs": [
    {
     "data": {
      "text/plain": [
       "((100, 1), (100,))"
      ]
     },
     "execution_count": 15,
     "metadata": {},
     "output_type": "execute_result"
    }
   ],
   "source": [
    "X.shape, y.shape"
   ]
  },
  {
   "cell_type": "code",
   "execution_count": 17,
   "metadata": {
    "ExecuteTime": {
     "end_time": "2019-12-19T15:31:38.238822Z",
     "start_time": "2019-12-19T15:31:38.104181Z"
    }
   },
   "outputs": [
    {
     "data": {
      "image/png": "[encoded data removed]",
      "text/plain": [
       "<Figure size 432x288 with 1 Axes>"
      ]
     },
     "metadata": {
      "needs_background": "light"
     },
     "output_type": "display_data"
    }
   ],
   "source": [
    "plt.scatter(X, y)\n",
    "y_hat = X*lr.coef_ + lr.intercept_\n",
    "plt.plot(X, y_hat, color='red', label='prediction')\n",
    "plt.legend()\n",
    "plt.show()"
   ]
  },
  {
   "cell_type": "code",
   "execution_count": 18,
   "metadata": {
    "ExecuteTime": {
     "end_time": "2019-12-19T15:34:32.753634Z",
     "start_time": "2019-12-19T15:34:32.747651Z"
    }
   },
   "outputs": [
    {
     "data": {
      "text/plain": [
       "array([10.13507194, 95.28054083])"
      ]
     },
     "execution_count": 18,
     "metadata": {},
     "output_type": "execute_result"
    }
   ],
   "source": [
    "lr.predict([[0],[1]])"
   ]
  },
  {
   "cell_type": "markdown",
   "metadata": {},
   "source": [
    "## 기존 분류 모델의 회귀 모델"
   ]
  },
  {
   "cell_type": "code",
   "execution_count": 20,
   "metadata": {
    "ExecuteTime": {
     "end_time": "2020-09-01T21:14:15.084773Z",
     "start_time": "2020-09-01T21:14:15.013961Z"
    }
   },
   "outputs": [],
   "source": [
    "from sklearn.model_selection import train_test_split\n",
    "\n",
    "from sklearn.neighbors import KNeighborsRegressor\n",
    "from sklearn.tree import DecisionTreeRegressor\n",
    "from sklearn.ensemble import RandomForestRegressor, VotingRegressor\n",
    "from sklearn.linear_model import LinearRegression\n",
    "\n",
    "X_train, X_test, y_train, y_test = train_test_split(X, y, test_size=0.2, random_state=12)"
   ]
  },
  {
   "cell_type": "code",
   "execution_count": 21,
   "metadata": {
    "ExecuteTime": {
     "end_time": "2020-09-01T21:15:38.868177Z",
     "start_time": "2020-09-01T21:15:38.856177Z"
    }
   },
   "outputs": [],
   "source": [
    "knn_reg = KNeighborsRegressor(n_neighbors=3)\n",
    "tree_reg = DecisionTreeRegressor(max_depth=5)\n",
    "rf_reg = RandomForestRegressor(n_estimators=300, max_depth=2)\n",
    "lr_reg = LinearRegression()\n",
    "\n",
    "estimators = [(\"knn\",knn_reg), ('tree',tree_reg), ('random forest',rf_reg), ('linear reg',lr_reg)]"
   ]
  },
  {
   "cell_type": "code",
   "execution_count": 22,
   "metadata": {
    "ExecuteTime": {
     "end_time": "2020-09-01T21:15:39.401749Z",
     "start_time": "2020-09-01T21:15:39.382768Z"
    }
   },
   "outputs": [],
   "source": [
    "def print_metrics(y, y_pred, title=None):\n",
    "    mse = mean_squared_error(y, y_pred)\n",
    "    rmse = np.sqrt(mse)\n",
    "    r2 = r2_score(y, y_pred)\n",
    "    if title:\n",
    "        print(title)\n",
    "    print(f\"MSE:{mse}, RMSE:{rmse}, R2:{r2}\")"
   ]
  },
  {
   "cell_type": "code",
   "execution_count": 23,
   "metadata": {
    "ExecuteTime": {
     "end_time": "2020-09-01T21:15:48.289445Z",
     "start_time": "2020-09-01T21:15:47.879064Z"
    }
   },
   "outputs": [
    {
     "name": "stdout",
     "output_type": "stream",
     "text": [
      "knn - Train\n",
      "MSE:1427.767659021123, RMSE:37.785812933178015, R2:0.8019417941941395\n",
      "knn - Test\n",
      "MSE:2864.855454376287, RMSE:53.52434450207015, R2:0.6640766473771966\n",
      "-------------------------------------------\n",
      "tree - Train\n",
      "MSE:817.4625116301221, RMSE:28.59130132802846, R2:0.8866025873719422\n",
      "tree - Test\n",
      "MSE:3301.0727964279786, RMSE:57.45496320099751, R2:0.6129272632816158\n",
      "-------------------------------------------\n",
      "random forest - Train\n",
      "MSE:1743.0708299915295, RMSE:41.750099760258415, R2:0.7582033190068589\n",
      "random forest - Test\n",
      "MSE:3073.4915363775694, RMSE:55.43907950514303, R2:0.6396126793829666\n",
      "-------------------------------------------\n",
      "linear reg - Train\n",
      "MSE:2017.1792010802012, RMSE:44.9130181693482, R2:0.7201793367215267\n",
      "linear reg - Test\n",
      "MSE:2368.5811126977082, RMSE:48.6680707723011, R2:0.7222681140435795\n",
      "-------------------------------------------\n"
     ]
    }
   ],
   "source": [
    "for name, model in estimators:\n",
    "    model.fit(X_train, y_train)\n",
    "    pred_train = model.predict(X_train)\n",
    "    pred_test = model.predict(X_test)\n",
    "    \n",
    "    print_metrics(y_train, pred_train, name+\" - Train\")\n",
    "    print_metrics(y_test, pred_test, name+\" - Test\")\n",
    "    print(\"-------------------------------------------\")"
   ]
  },
  {
   "cell_type": "code",
   "execution_count": 24,
   "metadata": {
    "ExecuteTime": {
     "end_time": "2020-09-01T21:17:47.428952Z",
     "start_time": "2020-09-01T21:17:47.166654Z"
    }
   },
   "outputs": [],
   "source": [
    "# VotingRegressor: 각 모델이 예측한 값의 평균을 반환한다.\n",
    "knn_reg = KNeighborsRegressor(n_neighbors=3)\n",
    "tree_reg = DecisionTreeRegressor(max_depth=2)\n",
    "rf_reg = RandomForestRegressor(n_estimators=200, max_depth=2)\n",
    "lr_reg = LinearRegression()\n",
    "\n",
    "estimators = [(\"knn\",knn_reg), ('random forest',rf_reg), ('linear reg',lr_reg)]\n",
    "\n",
    "vote_reg = VotingRegressor(estimators)\n",
    "vote_reg.fit(X_train, y_train)\n",
    "pred_train = vote_reg.predict(X_train)\n",
    "pred_test = vote_reg.predict(X_test)"
   ]
  },
  {
   "cell_type": "code",
   "execution_count": 25,
   "metadata": {
    "ExecuteTime": {
     "end_time": "2020-09-01T21:16:15.524290Z",
     "start_time": "2020-09-01T21:16:15.518301Z"
    }
   },
   "outputs": [
    {
     "name": "stdout",
     "output_type": "stream",
     "text": [
      "MSE:1575.80318769838, RMSE:39.6963875900362, R2:0.7814064843906936\n",
      "MSE:2456.4785810712283, RMSE:49.56287502830347, R2:0.7119615513798384\n"
     ]
    }
   ],
   "source": [
    "print_metrics(y_train, pred_train)\n",
    "print_metrics(y_test, pred_test)"
   ]
  },
  {
   "cell_type": "code",
   "execution_count": null,
   "metadata": {},
   "outputs": [],
   "source": []
  },
  {
   "cell_type": "code",
   "execution_count": 26,
   "metadata": {
    "ExecuteTime": {
     "end_time": "2020-09-01T21:18:25.633244Z",
     "start_time": "2020-09-01T21:18:25.615294Z"
    }
   },
   "outputs": [],
   "source": [
    "tree_reg = DecisionTreeRegressor(max_depth=3)"
   ]
  },
  {
   "cell_type": "code",
   "execution_count": 27,
   "metadata": {
    "ExecuteTime": {
     "end_time": "2020-09-01T21:18:26.265586Z",
     "start_time": "2020-09-01T21:18:26.255583Z"
    }
   },
   "outputs": [
    {
     "data": {
      "text/plain": [
       "DecisionTreeRegressor(max_depth=3)"
      ]
     },
     "execution_count": 27,
     "metadata": {},
     "output_type": "execute_result"
    }
   ],
   "source": [
    "tree_reg.fit(X_train, y_train)"
   ]
  },
  {
   "cell_type": "code",
   "execution_count": 28,
   "metadata": {
    "ExecuteTime": {
     "end_time": "2020-09-01T21:18:28.332064Z",
     "start_time": "2020-09-01T21:18:27.959030Z"
    }
   },
   "outputs": [
    {
     "data": {
      "image/svg+xml": [
       "<svg xmlns=\"http://www.w3.org/2000/svg\" xmlns:xlink=\"http://www.w3.org/1999/xlink\" width=\"1078pt\" height=\"373pt\" viewBox=\"0.00 0.00 1077.50 373.00\">\n",
       "<g id=\"graph0\" class=\"graph\" transform=\"scale(1 1) rotate(0) translate(4 369)\">\n",
       "<title>Tree</title>\n",
       "<polygon fill=\"white\" stroke=\"transparent\" points=\"-4,4 -4,-369 1073.5,-369 1073.5,4 -4,4\"/>\n",
       "<!-- 0 -->\n",
       "<g id=\"node1\" class=\"node\">\n",
       "<title>0</title>\n",
       "<path fill=\"#efb287\" stroke=\"black\" d=\"M568.5,-365C568.5,-365 470.5,-365 470.5,-365 464.5,-365 458.5,-359 458.5,-353 458.5,-353 458.5,-309 458.5,-309 458.5,-303 464.5,-297 470.5,-297 470.5,-297 568.5,-297 568.5,-297 574.5,-297 580.5,-303 580.5,-309 580.5,-309 580.5,-353 580.5,-353 580.5,-359 574.5,-365 568.5,-365\"/>\n",
       "<text text-anchor=\"middle\" x=\"519.5\" y=\"-349.8\" font-family=\"Helvetica,sans-Serif\" font-size=\"14.00\">X[0] &lt;= 0.015</text>\n",
       "<text text-anchor=\"middle\" x=\"519.5\" y=\"-334.8\" font-family=\"Helvetica,sans-Serif\" font-size=\"14.00\">mse = 7208.829</text>\n",
       "<text text-anchor=\"middle\" x=\"519.5\" y=\"-319.8\" font-family=\"Helvetica,sans-Serif\" font-size=\"14.00\">samples = 80</text>\n",
       "<text text-anchor=\"middle\" x=\"519.5\" y=\"-304.8\" font-family=\"Helvetica,sans-Serif\" font-size=\"14.00\">value = 23.749</text>\n",
       "</g>\n",
       "<!-- 1 -->\n",
       "<g id=\"node2\" class=\"node\">\n",
       "<title>1</title>\n",
       "<path fill=\"#f4caab\" stroke=\"black\" d=\"M435.5,-261C435.5,-261 337.5,-261 337.5,-261 331.5,-261 325.5,-255 325.5,-249 325.5,-249 325.5,-205 325.5,-205 325.5,-199 331.5,-193 337.5,-193 337.5,-193 435.5,-193 435.5,-193 441.5,-193 447.5,-199 447.5,-205 447.5,-205 447.5,-249 447.5,-249 447.5,-255 441.5,-261 435.5,-261\"/>\n",
       "<text text-anchor=\"middle\" x=\"386.5\" y=\"-245.8\" font-family=\"Helvetica,sans-Serif\" font-size=\"14.00\">X[0] &lt;= -1.601</text>\n",
       "<text text-anchor=\"middle\" x=\"386.5\" y=\"-230.8\" font-family=\"Helvetica,sans-Serif\" font-size=\"14.00\">mse = 2661.791</text>\n",
       "<text text-anchor=\"middle\" x=\"386.5\" y=\"-215.8\" font-family=\"Helvetica,sans-Serif\" font-size=\"14.00\">samples = 34</text>\n",
       "<text text-anchor=\"middle\" x=\"386.5\" y=\"-200.8\" font-family=\"Helvetica,sans-Serif\" font-size=\"14.00\">value = -46.023</text>\n",
       "</g>\n",
       "<!-- 0&#45;&gt;1 -->\n",
       "<g id=\"edge1\" class=\"edge\">\n",
       "<title>0-&gt;1</title>\n",
       "<path fill=\"none\" stroke=\"black\" d=\"M476.32,-296.88C464.12,-287.53 450.73,-277.26 438.09,-267.57\"/>\n",
       "<polygon fill=\"black\" stroke=\"black\" points=\"439.98,-264.61 429.92,-261.3 435.72,-270.16 439.98,-264.61\"/>\n",
       "<text text-anchor=\"middle\" x=\"433.19\" y=\"-282.38\" font-family=\"Helvetica,sans-Serif\" font-size=\"14.00\">True</text>\n",
       "</g>\n",
       "<!-- 8 -->\n",
       "<g id=\"node9\" class=\"node\">\n",
       "<title>8</title>\n",
       "<path fill=\"#eca16b\" stroke=\"black\" d=\"M707.5,-261C707.5,-261 609.5,-261 609.5,-261 603.5,-261 597.5,-255 597.5,-249 597.5,-249 597.5,-205 597.5,-205 597.5,-199 603.5,-193 609.5,-193 609.5,-193 707.5,-193 707.5,-193 713.5,-193 719.5,-199 719.5,-205 719.5,-205 719.5,-249 719.5,-249 719.5,-255 713.5,-261 707.5,-261\"/>\n",
       "<text text-anchor=\"middle\" x=\"658.5\" y=\"-245.8\" font-family=\"Helvetica,sans-Serif\" font-size=\"14.00\">X[0] &lt;= 0.585</text>\n",
       "<text text-anchor=\"middle\" x=\"658.5\" y=\"-230.8\" font-family=\"Helvetica,sans-Serif\" font-size=\"14.00\">mse = 4311.951</text>\n",
       "<text text-anchor=\"middle\" x=\"658.5\" y=\"-215.8\" font-family=\"Helvetica,sans-Serif\" font-size=\"14.00\">samples = 46</text>\n",
       "<text text-anchor=\"middle\" x=\"658.5\" y=\"-200.8\" font-family=\"Helvetica,sans-Serif\" font-size=\"14.00\">value = 75.32</text>\n",
       "</g>\n",
       "<!-- 0&#45;&gt;8 -->\n",
       "<g id=\"edge8\" class=\"edge\">\n",
       "<title>0-&gt;8</title>\n",
       "<path fill=\"none\" stroke=\"black\" d=\"M564.63,-296.88C577.5,-287.44 591.64,-277.06 604.96,-267.29\"/>\n",
       "<polygon fill=\"black\" stroke=\"black\" points=\"607.13,-270.04 613.12,-261.3 602.99,-264.39 607.13,-270.04\"/>\n",
       "<text text-anchor=\"middle\" x=\"609.33\" y=\"-282.31\" font-family=\"Helvetica,sans-Serif\" font-size=\"14.00\">False</text>\n",
       "</g>\n",
       "<!-- 2 -->\n",
       "<g id=\"node3\" class=\"node\">\n",
       "<title>2</title>\n",
       "<path fill=\"#fffffe\" stroke=\"black\" d=\"M232,-157C232,-157 133,-157 133,-157 127,-157 121,-151 121,-145 121,-145 121,-101 121,-101 121,-95 127,-89 133,-89 133,-89 232,-89 232,-89 238,-89 244,-95 244,-101 244,-101 244,-145 244,-145 244,-151 238,-157 232,-157\"/>\n",
       "<text text-anchor=\"middle\" x=\"182.5\" y=\"-141.8\" font-family=\"Helvetica,sans-Serif\" font-size=\"14.00\">X[0] &lt;= -2.181</text>\n",
       "<text text-anchor=\"middle\" x=\"182.5\" y=\"-126.8\" font-family=\"Helvetica,sans-Serif\" font-size=\"14.00\">mse = 1.477</text>\n",
       "<text text-anchor=\"middle\" x=\"182.5\" y=\"-111.8\" font-family=\"Helvetica,sans-Serif\" font-size=\"14.00\">samples = 2</text>\n",
       "<text text-anchor=\"middle\" x=\"182.5\" y=\"-96.8\" font-family=\"Helvetica,sans-Serif\" font-size=\"14.00\">value = -204.015</text>\n",
       "</g>\n",
       "<!-- 1&#45;&gt;2 -->\n",
       "<g id=\"edge2\" class=\"edge\">\n",
       "<title>1-&gt;2</title>\n",
       "<path fill=\"none\" stroke=\"black\" d=\"M325.29,-195.4C302.6,-184.05 276.69,-171.09 253.22,-159.36\"/>\n",
       "<polygon fill=\"black\" stroke=\"black\" points=\"254.53,-156.1 244.02,-154.76 251.39,-162.36 254.53,-156.1\"/>\n",
       "</g>\n",
       "<!-- 5 -->\n",
       "<g id=\"node6\" class=\"node\">\n",
       "<title>5</title>\n",
       "<path fill=\"#f3c6a6\" stroke=\"black\" d=\"M435.5,-157C435.5,-157 337.5,-157 337.5,-157 331.5,-157 325.5,-151 325.5,-145 325.5,-145 325.5,-101 325.5,-101 325.5,-95 331.5,-89 337.5,-89 337.5,-89 435.5,-89 435.5,-89 441.5,-89 447.5,-95 447.5,-101 447.5,-101 447.5,-145 447.5,-145 447.5,-151 441.5,-157 435.5,-157\"/>\n",
       "<text text-anchor=\"middle\" x=\"386.5\" y=\"-141.8\" font-family=\"Helvetica,sans-Serif\" font-size=\"14.00\">X[0] &lt;= -0.558</text>\n",
       "<text text-anchor=\"middle\" x=\"386.5\" y=\"-126.8\" font-family=\"Helvetica,sans-Serif\" font-size=\"14.00\">mse = 1170.454</text>\n",
       "<text text-anchor=\"middle\" x=\"386.5\" y=\"-111.8\" font-family=\"Helvetica,sans-Serif\" font-size=\"14.00\">samples = 32</text>\n",
       "<text text-anchor=\"middle\" x=\"386.5\" y=\"-96.8\" font-family=\"Helvetica,sans-Serif\" font-size=\"14.00\">value = -36.148</text>\n",
       "</g>\n",
       "<!-- 1&#45;&gt;5 -->\n",
       "<g id=\"edge5\" class=\"edge\">\n",
       "<title>1-&gt;5</title>\n",
       "<path fill=\"none\" stroke=\"black\" d=\"M386.5,-192.88C386.5,-184.78 386.5,-175.98 386.5,-167.47\"/>\n",
       "<polygon fill=\"black\" stroke=\"black\" points=\"390,-167.3 386.5,-157.3 383,-167.3 390,-167.3\"/>\n",
       "</g>\n",
       "<!-- 3 -->\n",
       "<g id=\"node4\" class=\"node\">\n",
       "<title>3</title>\n",
       "<path fill=\"#fffefe\" stroke=\"black\" d=\"M95,-53C95,-53 12,-53 12,-53 6,-53 0,-47 0,-41 0,-41 0,-12 0,-12 0,-6 6,0 12,0 12,0 95,0 95,0 101,0 107,-6 107,-12 107,-12 107,-41 107,-41 107,-47 101,-53 95,-53\"/>\n",
       "<text text-anchor=\"middle\" x=\"53.5\" y=\"-37.8\" font-family=\"Helvetica,sans-Serif\" font-size=\"14.00\">mse = 0.0</text>\n",
       "<text text-anchor=\"middle\" x=\"53.5\" y=\"-22.8\" font-family=\"Helvetica,sans-Serif\" font-size=\"14.00\">samples = 1</text>\n",
       "<text text-anchor=\"middle\" x=\"53.5\" y=\"-7.8\" font-family=\"Helvetica,sans-Serif\" font-size=\"14.00\">value = -202.8</text>\n",
       "</g>\n",
       "<!-- 2&#45;&gt;3 -->\n",
       "<g id=\"edge3\" class=\"edge\">\n",
       "<title>2-&gt;3</title>\n",
       "<path fill=\"none\" stroke=\"black\" d=\"M137.38,-88.95C124.27,-79.34 109.98,-68.87 96.97,-59.34\"/>\n",
       "<polygon fill=\"black\" stroke=\"black\" points=\"98.77,-56.32 88.63,-53.24 94.63,-61.97 98.77,-56.32\"/>\n",
       "</g>\n",
       "<!-- 4 -->\n",
       "<g id=\"node5\" class=\"node\">\n",
       "<title>4</title>\n",
       "<path fill=\"#ffffff\" stroke=\"black\" d=\"M228,-53C228,-53 137,-53 137,-53 131,-53 125,-47 125,-41 125,-41 125,-12 125,-12 125,-6 131,0 137,0 137,0 228,0 228,0 234,0 240,-6 240,-12 240,-12 240,-41 240,-41 240,-47 234,-53 228,-53\"/>\n",
       "<text text-anchor=\"middle\" x=\"182.5\" y=\"-37.8\" font-family=\"Helvetica,sans-Serif\" font-size=\"14.00\">mse = -0.0</text>\n",
       "<text text-anchor=\"middle\" x=\"182.5\" y=\"-22.8\" font-family=\"Helvetica,sans-Serif\" font-size=\"14.00\">samples = 1</text>\n",
       "<text text-anchor=\"middle\" x=\"182.5\" y=\"-7.8\" font-family=\"Helvetica,sans-Serif\" font-size=\"14.00\">value = -205.23</text>\n",
       "</g>\n",
       "<!-- 2&#45;&gt;4 -->\n",
       "<g id=\"edge4\" class=\"edge\">\n",
       "<title>2-&gt;4</title>\n",
       "<path fill=\"none\" stroke=\"black\" d=\"M182.5,-88.95C182.5,-80.72 182.5,-71.85 182.5,-63.48\"/>\n",
       "<polygon fill=\"black\" stroke=\"black\" points=\"186,-63.24 182.5,-53.24 179,-63.24 186,-63.24\"/>\n",
       "</g>\n",
       "<!-- 6 -->\n",
       "<g id=\"node7\" class=\"node\">\n",
       "<title>6</title>\n",
       "<path fill=\"#f4c9aa\" stroke=\"black\" d=\"M359,-53C359,-53 270,-53 270,-53 264,-53 258,-47 258,-41 258,-41 258,-12 258,-12 258,-6 264,0 270,0 270,0 359,0 359,0 365,0 371,-6 371,-12 371,-12 371,-41 371,-41 371,-47 365,-53 359,-53\"/>\n",
       "<text text-anchor=\"middle\" x=\"314.5\" y=\"-37.8\" font-family=\"Helvetica,sans-Serif\" font-size=\"14.00\">mse = 774.659</text>\n",
       "<text text-anchor=\"middle\" x=\"314.5\" y=\"-22.8\" font-family=\"Helvetica,sans-Serif\" font-size=\"14.00\">samples = 16</text>\n",
       "<text text-anchor=\"middle\" x=\"314.5\" y=\"-7.8\" font-family=\"Helvetica,sans-Serif\" font-size=\"14.00\">value = -43.69</text>\n",
       "</g>\n",
       "<!-- 5&#45;&gt;6 -->\n",
       "<g id=\"edge6\" class=\"edge\">\n",
       "<title>5-&gt;6</title>\n",
       "<path fill=\"none\" stroke=\"black\" d=\"M361.32,-88.95C354.49,-79.98 347.08,-70.27 340.22,-61.26\"/>\n",
       "<polygon fill=\"black\" stroke=\"black\" points=\"342.95,-59.07 334.11,-53.24 337.39,-63.31 342.95,-59.07\"/>\n",
       "</g>\n",
       "<!-- 7 -->\n",
       "<g id=\"node8\" class=\"node\">\n",
       "<title>7</title>\n",
       "<path fill=\"#f3c4a2\" stroke=\"black\" d=\"M499.5,-53C499.5,-53 401.5,-53 401.5,-53 395.5,-53 389.5,-47 389.5,-41 389.5,-41 389.5,-12 389.5,-12 389.5,-6 395.5,0 401.5,0 401.5,0 499.5,0 499.5,0 505.5,0 511.5,-6 511.5,-12 511.5,-12 511.5,-41 511.5,-41 511.5,-47 505.5,-53 499.5,-53\"/>\n",
       "<text text-anchor=\"middle\" x=\"450.5\" y=\"-37.8\" font-family=\"Helvetica,sans-Serif\" font-size=\"14.00\">mse = 1452.491</text>\n",
       "<text text-anchor=\"middle\" x=\"450.5\" y=\"-22.8\" font-family=\"Helvetica,sans-Serif\" font-size=\"14.00\">samples = 16</text>\n",
       "<text text-anchor=\"middle\" x=\"450.5\" y=\"-7.8\" font-family=\"Helvetica,sans-Serif\" font-size=\"14.00\">value = -28.606</text>\n",
       "</g>\n",
       "<!-- 5&#45;&gt;7 -->\n",
       "<g id=\"edge7\" class=\"edge\">\n",
       "<title>5-&gt;7</title>\n",
       "<path fill=\"none\" stroke=\"black\" d=\"M408.88,-88.95C414.89,-80.07 421.4,-70.46 427.45,-61.54\"/>\n",
       "<polygon fill=\"black\" stroke=\"black\" points=\"430.36,-63.48 433.07,-53.24 424.56,-59.55 430.36,-63.48\"/>\n",
       "</g>\n",
       "<!-- 9 -->\n",
       "<g id=\"node10\" class=\"node\">\n",
       "<title>9</title>\n",
       "<path fill=\"#eeaf81\" stroke=\"black\" d=\"M707.5,-157C707.5,-157 609.5,-157 609.5,-157 603.5,-157 597.5,-151 597.5,-145 597.5,-145 597.5,-101 597.5,-101 597.5,-95 603.5,-89 609.5,-89 609.5,-89 707.5,-89 707.5,-89 713.5,-89 719.5,-95 719.5,-101 719.5,-101 719.5,-145 719.5,-145 719.5,-151 713.5,-157 707.5,-157\"/>\n",
       "<text text-anchor=\"middle\" x=\"658.5\" y=\"-141.8\" font-family=\"Helvetica,sans-Serif\" font-size=\"14.00\">X[0] &lt;= 0.043</text>\n",
       "<text text-anchor=\"middle\" x=\"658.5\" y=\"-126.8\" font-family=\"Helvetica,sans-Serif\" font-size=\"14.00\">mse = 1469.287</text>\n",
       "<text text-anchor=\"middle\" x=\"658.5\" y=\"-111.8\" font-family=\"Helvetica,sans-Serif\" font-size=\"14.00\">samples = 23</text>\n",
       "<text text-anchor=\"middle\" x=\"658.5\" y=\"-96.8\" font-family=\"Helvetica,sans-Serif\" font-size=\"14.00\">value = 33.604</text>\n",
       "</g>\n",
       "<!-- 8&#45;&gt;9 -->\n",
       "<g id=\"edge9\" class=\"edge\">\n",
       "<title>8-&gt;9</title>\n",
       "<path fill=\"none\" stroke=\"black\" d=\"M658.5,-192.88C658.5,-184.78 658.5,-175.98 658.5,-167.47\"/>\n",
       "<polygon fill=\"black\" stroke=\"black\" points=\"662,-167.3 658.5,-157.3 655,-167.3 662,-167.3\"/>\n",
       "</g>\n",
       "<!-- 12 -->\n",
       "<g id=\"node13\" class=\"node\">\n",
       "<title>12</title>\n",
       "<path fill=\"#e99355\" stroke=\"black\" d=\"M917.5,-157C917.5,-157 819.5,-157 819.5,-157 813.5,-157 807.5,-151 807.5,-145 807.5,-145 807.5,-101 807.5,-101 807.5,-95 813.5,-89 819.5,-89 819.5,-89 917.5,-89 917.5,-89 923.5,-89 929.5,-95 929.5,-101 929.5,-101 929.5,-145 929.5,-145 929.5,-151 923.5,-157 917.5,-157\"/>\n",
       "<text text-anchor=\"middle\" x=\"868.5\" y=\"-141.8\" font-family=\"Helvetica,sans-Serif\" font-size=\"14.00\">X[0] &lt;= 1.226</text>\n",
       "<text text-anchor=\"middle\" x=\"868.5\" y=\"-126.8\" font-family=\"Helvetica,sans-Serif\" font-size=\"14.00\">mse = 3674.072</text>\n",
       "<text text-anchor=\"middle\" x=\"868.5\" y=\"-111.8\" font-family=\"Helvetica,sans-Serif\" font-size=\"14.00\">samples = 23</text>\n",
       "<text text-anchor=\"middle\" x=\"868.5\" y=\"-96.8\" font-family=\"Helvetica,sans-Serif\" font-size=\"14.00\">value = 117.037</text>\n",
       "</g>\n",
       "<!-- 8&#45;&gt;12 -->\n",
       "<g id=\"edge12\" class=\"edge\">\n",
       "<title>8-&gt;12</title>\n",
       "<path fill=\"none\" stroke=\"black\" d=\"M719.52,-196.36C744.11,-184.42 772.63,-170.56 798.1,-158.2\"/>\n",
       "<polygon fill=\"black\" stroke=\"black\" points=\"799.86,-161.23 807.33,-153.71 796.8,-154.93 799.86,-161.23\"/>\n",
       "</g>\n",
       "<!-- 10 -->\n",
       "<g id=\"node11\" class=\"node\">\n",
       "<title>10</title>\n",
       "<path fill=\"#e89152\" stroke=\"black\" d=\"M637,-53C637,-53 542,-53 542,-53 536,-53 530,-47 530,-41 530,-41 530,-12 530,-12 530,-6 536,0 542,0 542,0 637,0 637,0 643,0 649,-6 649,-12 649,-12 649,-41 649,-41 649,-47 643,-53 637,-53\"/>\n",
       "<text text-anchor=\"middle\" x=\"589.5\" y=\"-37.8\" font-family=\"Helvetica,sans-Serif\" font-size=\"14.00\">mse = 0.0</text>\n",
       "<text text-anchor=\"middle\" x=\"589.5\" y=\"-22.8\" font-family=\"Helvetica,sans-Serif\" font-size=\"14.00\">samples = 1</text>\n",
       "<text text-anchor=\"middle\" x=\"589.5\" y=\"-7.8\" font-family=\"Helvetica,sans-Serif\" font-size=\"14.00\">value = 122.667</text>\n",
       "</g>\n",
       "<!-- 9&#45;&gt;10 -->\n",
       "<g id=\"edge10\" class=\"edge\">\n",
       "<title>9-&gt;10</title>\n",
       "<path fill=\"none\" stroke=\"black\" d=\"M634.37,-88.95C627.89,-80.07 620.87,-70.46 614.35,-61.54\"/>\n",
       "<polygon fill=\"black\" stroke=\"black\" points=\"617.02,-59.25 608.29,-53.24 611.36,-63.38 617.02,-59.25\"/>\n",
       "</g>\n",
       "<!-- 11 -->\n",
       "<g id=\"node12\" class=\"node\">\n",
       "<title>11</title>\n",
       "<path fill=\"#efb083\" stroke=\"black\" d=\"M777.5,-53C777.5,-53 679.5,-53 679.5,-53 673.5,-53 667.5,-47 667.5,-41 667.5,-41 667.5,-12 667.5,-12 667.5,-6 673.5,0 679.5,0 679.5,0 777.5,0 777.5,0 783.5,0 789.5,-6 789.5,-12 789.5,-12 789.5,-41 789.5,-41 789.5,-47 783.5,-53 777.5,-53\"/>\n",
       "<text text-anchor=\"middle\" x=\"728.5\" y=\"-37.8\" font-family=\"Helvetica,sans-Serif\" font-size=\"14.00\">mse = 1159.121</text>\n",
       "<text text-anchor=\"middle\" x=\"728.5\" y=\"-22.8\" font-family=\"Helvetica,sans-Serif\" font-size=\"14.00\">samples = 22</text>\n",
       "<text text-anchor=\"middle\" x=\"728.5\" y=\"-7.8\" font-family=\"Helvetica,sans-Serif\" font-size=\"14.00\">value = 29.555</text>\n",
       "</g>\n",
       "<!-- 9&#45;&gt;11 -->\n",
       "<g id=\"edge11\" class=\"edge\">\n",
       "<title>9-&gt;11</title>\n",
       "<path fill=\"none\" stroke=\"black\" d=\"M682.98,-88.95C689.56,-80.07 696.67,-70.46 703.29,-61.54\"/>\n",
       "<polygon fill=\"black\" stroke=\"black\" points=\"706.3,-63.36 709.44,-53.24 700.67,-59.19 706.3,-63.36\"/>\n",
       "</g>\n",
       "<!-- 13 -->\n",
       "<g id=\"node14\" class=\"node\">\n",
       "<title>13</title>\n",
       "<path fill=\"#ea9b62\" stroke=\"black\" d=\"M917.5,-53C917.5,-53 819.5,-53 819.5,-53 813.5,-53 807.5,-47 807.5,-41 807.5,-41 807.5,-12 807.5,-12 807.5,-6 813.5,0 819.5,0 819.5,0 917.5,0 917.5,0 923.5,0 929.5,-6 929.5,-12 929.5,-12 929.5,-41 929.5,-41 929.5,-47 923.5,-53 917.5,-53\"/>\n",
       "<text text-anchor=\"middle\" x=\"868.5\" y=\"-37.8\" font-family=\"Helvetica,sans-Serif\" font-size=\"14.00\">mse = 2888.959</text>\n",
       "<text text-anchor=\"middle\" x=\"868.5\" y=\"-22.8\" font-family=\"Helvetica,sans-Serif\" font-size=\"14.00\">samples = 16</text>\n",
       "<text text-anchor=\"middle\" x=\"868.5\" y=\"-7.8\" font-family=\"Helvetica,sans-Serif\" font-size=\"14.00\">value = 93.403</text>\n",
       "</g>\n",
       "<!-- 12&#45;&gt;13 -->\n",
       "<g id=\"edge13\" class=\"edge\">\n",
       "<title>12-&gt;13</title>\n",
       "<path fill=\"none\" stroke=\"black\" d=\"M868.5,-88.95C868.5,-80.72 868.5,-71.85 868.5,-63.48\"/>\n",
       "<polygon fill=\"black\" stroke=\"black\" points=\"872,-63.24 868.5,-53.24 865,-63.24 872,-63.24\"/>\n",
       "</g>\n",
       "<!-- 14 -->\n",
       "<g id=\"node15\" class=\"node\">\n",
       "<title>14</title>\n",
       "<path fill=\"#e58139\" stroke=\"black\" d=\"M1057.5,-53C1057.5,-53 959.5,-53 959.5,-53 953.5,-53 947.5,-47 947.5,-41 947.5,-41 947.5,-12 947.5,-12 947.5,-6 953.5,0 959.5,0 959.5,0 1057.5,0 1057.5,0 1063.5,0 1069.5,-6 1069.5,-12 1069.5,-12 1069.5,-41 1069.5,-41 1069.5,-47 1063.5,-53 1057.5,-53\"/>\n",
       "<text text-anchor=\"middle\" x=\"1008.5\" y=\"-37.8\" font-family=\"Helvetica,sans-Serif\" font-size=\"14.00\">mse = 1273.962</text>\n",
       "<text text-anchor=\"middle\" x=\"1008.5\" y=\"-22.8\" font-family=\"Helvetica,sans-Serif\" font-size=\"14.00\">samples = 7</text>\n",
       "<text text-anchor=\"middle\" x=\"1008.5\" y=\"-7.8\" font-family=\"Helvetica,sans-Serif\" font-size=\"14.00\">value = 171.055</text>\n",
       "</g>\n",
       "<!-- 12&#45;&gt;14 -->\n",
       "<g id=\"edge14\" class=\"edge\">\n",
       "<title>12-&gt;14</title>\n",
       "<path fill=\"none\" stroke=\"black\" d=\"M917.47,-88.95C931.83,-79.25 947.5,-68.68 961.73,-59.07\"/>\n",
       "<polygon fill=\"black\" stroke=\"black\" points=\"964.04,-61.73 970.37,-53.24 960.12,-55.93 964.04,-61.73\"/>\n",
       "</g>\n",
       "</g>\n",
       "</svg>"
      ],
      "text/plain": [
       "<IPython.core.display.SVG object>"
      ]
     },
     "metadata": {},
     "output_type": "display_data"
    }
   ],
   "source": [
    "from sklearn.tree import export_graphviz\n",
    "from graphviz import Source\n",
    "from IPython.display import SVG\n",
    "graph = Source(export_graphviz(tree_reg, \n",
    "                               out_file=None,\n",
    "                               rounded=True, filled=True))\n",
    "display(SVG(graph.pipe(format='svg')))"
   ]
  },
  {
   "cell_type": "code",
   "execution_count": 32,
   "metadata": {},
   "outputs": [
    {
     "data": {
      "text/plain": [
       "array([ -36.57520038,  -14.98193982,   -6.22450275,   33.20753395,\n",
       "        -99.27753949,   23.75117194, -205.23037479,  -50.68500389,\n",
       "        -70.21772349, -202.79979818,  -34.63702482,  -35.01700553,\n",
       "        -36.8533417 ,  -23.81120475,  -47.64519088,  -73.7592095 ,\n",
       "         27.18638221,  -64.90559549,  -40.64472696,    3.53525698,\n",
       "        -56.50302588,  -20.97155575,  -78.99724787,  -82.1563475 ,\n",
       "        -22.53473061,   25.51624693,    4.3278804 ,  -40.73940135,\n",
       "        -64.78371502,  -65.68609386,  -42.54037864,  -26.55082081,\n",
       "        -71.85441644,  -65.71292685])"
      ]
     },
     "execution_count": 32,
     "metadata": {},
     "output_type": "execute_result"
    }
   ],
   "source": [
    "y_train[np.where(X_train<=0.015)[0]]"
   ]
  },
  {
   "cell_type": "code",
   "execution_count": 31,
   "metadata": {
    "ExecuteTime": {
     "end_time": "2019-12-19T15:43:53.359937Z",
     "start_time": "2019-12-19T15:43:53.353953Z"
    }
   },
   "outputs": [
    {
     "data": {
      "text/plain": [
       "-46.0226932531074"
      ]
     },
     "execution_count": 31,
     "metadata": {},
     "output_type": "execute_result"
    }
   ],
   "source": [
    "#위 그림에서 value 는 sample값들의 평균\n",
    "\n",
    "np.mean(y_train[np.where(X_train<=0.015)[0]])"
   ]
  },
  {
   "cell_type": "code",
   "execution_count": 26,
   "metadata": {
    "ExecuteTime": {
     "end_time": "2019-12-19T15:43:25.917292Z",
     "start_time": "2019-12-19T15:43:25.912307Z"
    }
   },
   "outputs": [
    {
     "data": {
      "text/plain": [
       "(80,)"
      ]
     },
     "execution_count": 26,
     "metadata": {},
     "output_type": "execute_result"
    }
   ],
   "source": [
    "y_train.shape"
   ]
  },
  {
   "cell_type": "code",
   "execution_count": null,
   "metadata": {},
   "outputs": [],
   "source": []
  }
 ],
 "metadata": {
  "kernelspec": {
   "display_name": "Python 3",
   "language": "python",
   "name": "python3"
  },
  "language_info": {
   "codemirror_mode": {
    "name": "ipython",
    "version": 3
   },
   "file_extension": ".py",
   "mimetype": "text/x-python",
   "name": "python",
   "nbconvert_exporter": "python",
   "pygments_lexer": "ipython3",
   "version": "3.8.5"
  },
  "toc": {
   "base_numbering": 1,
   "nav_menu": {},
   "number_sections": false,
   "sideBar": true,
   "skip_h1_title": false,
   "title_cell": "Table of Contents",
   "title_sidebar": "Contents",
   "toc_cell": false,
   "toc_position": {},
   "toc_section_display": true,
   "toc_window_display": false
  },
  "varInspector": {
   "cols": {
    "lenName": 16,
    "lenType": 16,
    "lenVar": 40
   },
   "kernels_config": {
    "python": {
     "delete_cmd_postfix": "",
     "delete_cmd_prefix": "del ",
     "library": "var_list.py",
     "varRefreshCmd": "print(var_dic_list())"
    },
    "r": {
     "delete_cmd_postfix": ") ",
     "delete_cmd_prefix": "rm(",
     "library": "var_list.r",
     "varRefreshCmd": "cat(var_dic_list()) "
    }
   },
   "types_to_exclude": [
    "module",
    "function",
    "builtin_function_or_method",
    "instance",
    "_Feature"
   ],
   "window_display": false
  }
 },
 "nbformat": 4,
 "nbformat_minor": 2
}
