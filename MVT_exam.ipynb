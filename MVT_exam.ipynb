{
 "cells": [
  {
   "cell_type": "code",
   "execution_count": 8,
   "id": "b62bec19",
   "metadata": {},
   "outputs": [],
   "source": [
    "# 나눗셈 함수\n",
    "# 두 개의 값을 받아서 나눈 다음에 결과를 올림(ceil)해서 출력\n",
    "import math\n",
    "def divide(num1, num2):\n",
    "    \n",
    "    # 파라미터 값 변환, 검증\n",
    "    # 변환 (num1, num2를 int(정수)로 변환)\n",
    "    num1, num2 = int(num1), int(num2)\n",
    "    # num2가 0인지 확인 => 0이면 예외 발생 => 파라미터 검증\n",
    "    if num2 == 0:\n",
    "        raise Exception(\"0으로는 나눌 수 없습니다.\")\n",
    "    \n",
    "    # Business Logic(DB=>Model)\n",
    "    # 나누고 올림 작업\n",
    "    result = num1/num2\n",
    "    result = math.ceil(result)\n",
    "    \n",
    "    # 결과 출력(Template)\n",
    "    print(\"=\"*50)\n",
    "    print(\"나누기 결과는 올림해서 정수로 출력합니다.\")\n",
    "    print(\"결과: {}\".format(result))\n",
    "    print(\"=\"*50)"
   ]
  },
  {
   "cell_type": "code",
   "execution_count": 9,
   "id": "a3ac1b66",
   "metadata": {},
   "outputs": [
    {
     "name": "stdout",
     "output_type": "stream",
     "text": [
      "==================================================\n",
      "나누기 결과는 올림해서 정수로 출력합니다.\n",
      "결과: 5\n",
      "==================================================\n"
     ]
    }
   ],
   "source": [
    "divide(10,2)"
   ]
  },
  {
   "cell_type": "code",
   "execution_count": 11,
   "id": "61a6331f",
   "metadata": {},
   "outputs": [
    {
     "ename": "Exception",
     "evalue": "0으로는 나눌 수 없습니다.",
     "output_type": "error",
     "traceback": [
      "\u001b[1;31m---------------------------------------------------------------------------\u001b[0m",
      "\u001b[1;31mException\u001b[0m                                 Traceback (most recent call last)",
      "\u001b[1;32m<ipython-input-11-9dcff4fb9fc7>\u001b[0m in \u001b[0;36m<module>\u001b[1;34m\u001b[0m\n\u001b[1;32m----> 1\u001b[1;33m \u001b[0mdivide\u001b[0m\u001b[1;33m(\u001b[0m\u001b[1;36m20\u001b[0m\u001b[1;33m,\u001b[0m\u001b[1;36m0\u001b[0m\u001b[1;33m)\u001b[0m\u001b[1;33m\u001b[0m\u001b[1;33m\u001b[0m\u001b[0m\n\u001b[0m",
      "\u001b[1;32m<ipython-input-8-63091ff4cc5e>\u001b[0m in \u001b[0;36mdivide\u001b[1;34m(num1, num2)\u001b[0m\n\u001b[0;32m      7\u001b[0m     \u001b[1;31m# num2가 0인지 확인 => 0이면 예외 발생 => 파라미터 검증\u001b[0m\u001b[1;33m\u001b[0m\u001b[1;33m\u001b[0m\u001b[1;33m\u001b[0m\u001b[0m\n\u001b[0;32m      8\u001b[0m     \u001b[1;32mif\u001b[0m \u001b[0mnum2\u001b[0m \u001b[1;33m==\u001b[0m \u001b[1;36m0\u001b[0m\u001b[1;33m:\u001b[0m\u001b[1;33m\u001b[0m\u001b[1;33m\u001b[0m\u001b[0m\n\u001b[1;32m----> 9\u001b[1;33m         \u001b[1;32mraise\u001b[0m \u001b[0mException\u001b[0m\u001b[1;33m(\u001b[0m\u001b[1;34m\"0으로는 나눌 수 없습니다.\"\u001b[0m\u001b[1;33m)\u001b[0m\u001b[1;33m\u001b[0m\u001b[1;33m\u001b[0m\u001b[0m\n\u001b[0m\u001b[0;32m     10\u001b[0m \u001b[1;33m\u001b[0m\u001b[0m\n\u001b[0;32m     11\u001b[0m     \u001b[1;31m# 나누고 올림 작업\u001b[0m\u001b[1;33m\u001b[0m\u001b[1;33m\u001b[0m\u001b[1;33m\u001b[0m\u001b[0m\n",
      "\u001b[1;31mException\u001b[0m: 0으로는 나눌 수 없습니다."
     ]
    }
   ],
   "source": [
    "divide(20,0)"
   ]
  },
  {
   "cell_type": "code",
   "execution_count": 15,
   "id": "aca87de1",
   "metadata": {},
   "outputs": [],
   "source": [
    "def validator(num1, num2):\n",
    "    \n",
    "    # 파라미터 값 변환, 검증\n",
    "    # 변환 (num1, num2를 int(정수)로 변환)\n",
    "    num1, num2 = int(num1), int(num2)\n",
    "    # num2가 0인지 확인 => 0이면 예외 발생 => 파라미터 검증\n",
    "    if num2 == 0:\n",
    "        raise Exception(\"0으로는 나눌 수 없습니다.\")\n",
    "    \n",
    "    return num1, num2"
   ]
  },
  {
   "cell_type": "code",
   "execution_count": 13,
   "id": "4d2a683c",
   "metadata": {},
   "outputs": [],
   "source": [
    "def Model(num1, num2):\n",
    "    # Business Logic(DB=>Model)\n",
    "    # 나누고 올림 작업\n",
    "    result = num1/num2\n",
    "    result = math.ceil(result)\n",
    "    \n",
    "    return result"
   ]
  },
  {
   "cell_type": "code",
   "execution_count": 14,
   "id": "aff963f6",
   "metadata": {},
   "outputs": [],
   "source": [
    "def Template(result):\n",
    "    # 결과 출력(Template)\n",
    "    print(\"=\"*50)\n",
    "    print(\"나누기 결과는 올림해서 정수로 출력합니다.\")\n",
    "    print(\"결과: {}\".format(result))\n",
    "    print(\"=\"*50)"
   ]
  },
  {
   "cell_type": "code",
   "execution_count": 16,
   "id": "714dfdd8",
   "metadata": {},
   "outputs": [],
   "source": [
    "def divideView(num1, num2):\n",
    "    num1, num2 = validator(num1, num2)\n",
    "    result = Model(num1, num2)\n",
    "    Template(result)"
   ]
  },
  {
   "cell_type": "code",
   "execution_count": 17,
   "id": "16b5f4d4",
   "metadata": {},
   "outputs": [
    {
     "name": "stdout",
     "output_type": "stream",
     "text": [
      "==================================================\n",
      "나누기 결과는 올림해서 정수로 출력합니다.\n",
      "결과: 5\n",
      "==================================================\n"
     ]
    }
   ],
   "source": [
    "divideView(10,2)"
   ]
  },
  {
   "cell_type": "code",
   "execution_count": 18,
   "id": "ab70d69e",
   "metadata": {},
   "outputs": [
    {
     "ename": "Exception",
     "evalue": "0으로는 나눌 수 없습니다.",
     "output_type": "error",
     "traceback": [
      "\u001b[1;31m---------------------------------------------------------------------------\u001b[0m",
      "\u001b[1;31mException\u001b[0m                                 Traceback (most recent call last)",
      "\u001b[1;32m<ipython-input-18-10b8fae6a2ed>\u001b[0m in \u001b[0;36m<module>\u001b[1;34m\u001b[0m\n\u001b[1;32m----> 1\u001b[1;33m \u001b[0mdivideView\u001b[0m\u001b[1;33m(\u001b[0m\u001b[1;36m5\u001b[0m\u001b[1;33m,\u001b[0m\u001b[1;36m0\u001b[0m\u001b[1;33m)\u001b[0m\u001b[1;33m\u001b[0m\u001b[1;33m\u001b[0m\u001b[0m\n\u001b[0m",
      "\u001b[1;32m<ipython-input-16-4bbafca0bb4d>\u001b[0m in \u001b[0;36mdivideView\u001b[1;34m(num1, num2)\u001b[0m\n\u001b[0;32m      1\u001b[0m \u001b[1;32mdef\u001b[0m \u001b[0mdivideView\u001b[0m\u001b[1;33m(\u001b[0m\u001b[0mnum1\u001b[0m\u001b[1;33m,\u001b[0m \u001b[0mnum2\u001b[0m\u001b[1;33m)\u001b[0m\u001b[1;33m:\u001b[0m\u001b[1;33m\u001b[0m\u001b[1;33m\u001b[0m\u001b[0m\n\u001b[1;32m----> 2\u001b[1;33m     \u001b[0mnum1\u001b[0m\u001b[1;33m,\u001b[0m \u001b[0mnum2\u001b[0m \u001b[1;33m=\u001b[0m \u001b[0mvalidator\u001b[0m\u001b[1;33m(\u001b[0m\u001b[0mnum1\u001b[0m\u001b[1;33m,\u001b[0m \u001b[0mnum2\u001b[0m\u001b[1;33m)\u001b[0m\u001b[1;33m\u001b[0m\u001b[1;33m\u001b[0m\u001b[0m\n\u001b[0m\u001b[0;32m      3\u001b[0m     \u001b[0mresult\u001b[0m \u001b[1;33m=\u001b[0m \u001b[0mModel\u001b[0m\u001b[1;33m(\u001b[0m\u001b[0mnum1\u001b[0m\u001b[1;33m,\u001b[0m \u001b[0mnum2\u001b[0m\u001b[1;33m)\u001b[0m\u001b[1;33m\u001b[0m\u001b[1;33m\u001b[0m\u001b[0m\n\u001b[0;32m      4\u001b[0m     \u001b[0mTemplate\u001b[0m\u001b[1;33m(\u001b[0m\u001b[0mresult\u001b[0m\u001b[1;33m)\u001b[0m\u001b[1;33m\u001b[0m\u001b[1;33m\u001b[0m\u001b[0m\n",
      "\u001b[1;32m<ipython-input-15-1b7fd8c8247a>\u001b[0m in \u001b[0;36mvalidator\u001b[1;34m(num1, num2)\u001b[0m\n\u001b[0;32m      6\u001b[0m     \u001b[1;31m# num2가 0인지 확인 => 0이면 예외 발생 => 파라미터 검증\u001b[0m\u001b[1;33m\u001b[0m\u001b[1;33m\u001b[0m\u001b[1;33m\u001b[0m\u001b[0m\n\u001b[0;32m      7\u001b[0m     \u001b[1;32mif\u001b[0m \u001b[0mnum2\u001b[0m \u001b[1;33m==\u001b[0m \u001b[1;36m0\u001b[0m\u001b[1;33m:\u001b[0m\u001b[1;33m\u001b[0m\u001b[1;33m\u001b[0m\u001b[0m\n\u001b[1;32m----> 8\u001b[1;33m         \u001b[1;32mraise\u001b[0m \u001b[0mException\u001b[0m\u001b[1;33m(\u001b[0m\u001b[1;34m\"0으로는 나눌 수 없습니다.\"\u001b[0m\u001b[1;33m)\u001b[0m\u001b[1;33m\u001b[0m\u001b[1;33m\u001b[0m\u001b[0m\n\u001b[0m\u001b[0;32m      9\u001b[0m \u001b[1;33m\u001b[0m\u001b[0m\n\u001b[0;32m     10\u001b[0m     \u001b[1;32mreturn\u001b[0m \u001b[0mnum1\u001b[0m\u001b[1;33m,\u001b[0m \u001b[0mnum2\u001b[0m\u001b[1;33m\u001b[0m\u001b[1;33m\u001b[0m\u001b[0m\n",
      "\u001b[1;31mException\u001b[0m: 0으로는 나눌 수 없습니다."
     ]
    }
   ],
   "source": [
    "divideView(5,0)"
   ]
  },
  {
   "cell_type": "code",
   "execution_count": null,
   "id": "ccbcd679",
   "metadata": {},
   "outputs": [],
   "source": [
    "def plusView(num1, num2):\n",
    "    num1, num2 = validator(num1, num2)\n",
    "    result "
   ]
  },
  {
   "cell_type": "code",
   "execution_count": null,
   "id": "144334da",
   "metadata": {},
   "outputs": [],
   "source": []
  },
  {
   "cell_type": "code",
   "execution_count": null,
   "id": "9cd903e0",
   "metadata": {},
   "outputs": [],
   "source": []
  },
  {
   "cell_type": "code",
   "execution_count": null,
   "id": "6116ba47",
   "metadata": {},
   "outputs": [],
   "source": []
  },
  {
   "cell_type": "code",
   "execution_count": null,
   "id": "0e79b368",
   "metadata": {},
   "outputs": [],
   "source": []
  }
 ],
 "metadata": {
  "kernelspec": {
   "display_name": "Python 3",
   "language": "python",
   "name": "python3"
  },
  "language_info": {
   "codemirror_mode": {
    "name": "ipython",
    "version": 3
   },
   "file_extension": ".py",
   "mimetype": "text/x-python",
   "name": "python",
   "nbconvert_exporter": "python",
   "pygments_lexer": "ipython3",
   "version": "3.8.10"
  }
 },
 "nbformat": 4,
 "nbformat_minor": 5
}
