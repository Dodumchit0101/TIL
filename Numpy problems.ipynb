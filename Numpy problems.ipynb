{
 "cells": [
  {
   "cell_type": "code",
   "execution_count": 2,
   "metadata": {},
   "outputs": [],
   "source": [
    "import numpy as np"
   ]
  },
  {
   "cell_type": "markdown",
   "metadata": {},
   "source": [
    "1. 10, 7, 5, 90, 100 을 가지는 1차원 배열을 생성."
   ]
  },
  {
   "cell_type": "code",
   "execution_count": 4,
   "metadata": {},
   "outputs": [
    {
     "data": {
      "text/plain": [
       "array([ 10,   7,   5,  90, 100])"
      ]
     },
     "execution_count": 4,
     "metadata": {},
     "output_type": "execute_result"
    }
   ],
   "source": [
    "a = np.array([10,7,5,90,100])\n",
    "a"
   ]
  },
  {
   "cell_type": "markdown",
   "metadata": {},
   "source": [
    "2. 100 ~ 200 범위의 숫자중 짝수를 가지는 배열을 생성."
   ]
  },
  {
   "cell_type": "code",
   "execution_count": 7,
   "metadata": {},
   "outputs": [
    {
     "data": {
      "text/plain": [
       "array([100, 102, 104, 106, 108, 110, 112, 114, 116, 118, 120, 122, 124,\n",
       "       126, 128, 130, 132, 134, 136, 138, 140, 142, 144, 146, 148, 150,\n",
       "       152, 154, 156, 158, 160, 162, 164, 166, 168, 170, 172, 174, 176,\n",
       "       178, 180, 182, 184, 186, 188, 190, 192, 194, 196, 198, 200])"
      ]
     },
     "execution_count": 7,
     "metadata": {},
     "output_type": "execute_result"
    }
   ],
   "source": [
    "a = np.arange(100,201)\n",
    "a_1 = a[::2]\n",
    "a_1"
   ]
  },
  {
   "cell_type": "markdown",
   "metadata": {},
   "source": [
    "3. 2번에서 생성한 배열과 동일한 shape에 0을 원소로 가지는 배열 생성."
   ]
  },
  {
   "cell_type": "code",
   "execution_count": 8,
   "metadata": {},
   "outputs": [
    {
     "data": {
      "text/plain": [
       "array([0, 0, 0, 0, 0, 0, 0, 0, 0, 0, 0, 0, 0, 0, 0, 0, 0, 0, 0, 0, 0, 0,\n",
       "       0, 0, 0, 0, 0, 0, 0, 0, 0, 0, 0, 0, 0, 0, 0, 0, 0, 0, 0, 0, 0, 0,\n",
       "       0, 0, 0, 0, 0, 0, 0])"
      ]
     },
     "execution_count": 8,
     "metadata": {},
     "output_type": "execute_result"
    }
   ],
   "source": [
    "b = np.zeros_like(a_1)\n",
    "b"
   ]
  },
  {
   "cell_type": "markdown",
   "metadata": {},
   "source": [
    "4. 1001 ~ 10000 범위의 정수 중 100의 배수만 가지는 3차원 배열을 생성. (shape은 상관없음.)"
   ]
  },
  {
   "cell_type": "code",
   "execution_count": 16,
   "metadata": {},
   "outputs": [
    {
     "data": {
      "text/plain": [
       "array([[[ 1100,  1200,  1300,  1400,  1500,  1600,  1700,  1800,  1900,\n",
       "          2000],\n",
       "        [ 2100,  2200,  2300,  2400,  2500,  2600,  2700,  2800,  2900,\n",
       "          3000],\n",
       "        [ 3100,  3200,  3300,  3400,  3500,  3600,  3700,  3800,  3900,\n",
       "          4000]],\n",
       "\n",
       "       [[ 4100,  4200,  4300,  4400,  4500,  4600,  4700,  4800,  4900,\n",
       "          5000],\n",
       "        [ 5100,  5200,  5300,  5400,  5500,  5600,  5700,  5800,  5900,\n",
       "          6000],\n",
       "        [ 6100,  6200,  6300,  6400,  6500,  6600,  6700,  6800,  6900,\n",
       "          7000]],\n",
       "\n",
       "       [[ 7100,  7200,  7300,  7400,  7500,  7600,  7700,  7800,  7900,\n",
       "          8000],\n",
       "        [ 8100,  8200,  8300,  8400,  8500,  8600,  8700,  8800,  8900,\n",
       "          9000],\n",
       "        [ 9100,  9200,  9300,  9400,  9500,  9600,  9700,  9800,  9900,\n",
       "         10000]]])"
      ]
     },
     "execution_count": 16,
     "metadata": {},
     "output_type": "execute_result"
    }
   ],
   "source": [
    "c = np.arange(1001, 10001)\n",
    "c[c % 100 == 0].reshape(3,3,10)"
   ]
  },
  {
   "cell_type": "markdown",
   "metadata": {},
   "source": [
    "5. (4,4) 형태의 단위행렬(항등행렬)을 생성."
   ]
  },
  {
   "cell_type": "code",
   "execution_count": 20,
   "metadata": {},
   "outputs": [
    {
     "data": {
      "text/plain": [
       "array([[1., 1., 1., 1.],\n",
       "       [1., 1., 1., 1.],\n",
       "       [1., 1., 1., 1.],\n",
       "       [1., 1., 1., 1.]])"
      ]
     },
     "execution_count": 20,
     "metadata": {},
     "output_type": "execute_result"
    }
   ],
   "source": [
    "d = np.ones((4,4))\n",
    "d"
   ]
  },
  {
   "cell_type": "markdown",
   "metadata": {},
   "source": [
    "6. 다음 값을 가지는 배열을 생성하고 배열의 차원수(rank)와 형태, 총 원소(element)의 개수를 조회.\n",
    "20, 90, 80, 100, -20, 30\n",
    "50, -10, 25, 120, -40, 90"
   ]
  },
  {
   "cell_type": "code",
   "execution_count": 34,
   "metadata": {},
   "outputs": [
    {
     "name": "stdout",
     "output_type": "stream",
     "text": [
      "1 1\n",
      "(6,) (6,)\n",
      "6 6\n"
     ]
    }
   ],
   "source": [
    "a = np.array([20,90,80,100,-20,30])\n",
    "b = np.array([50,-10,25,120,-40,90])\n",
    "print(np.ndim(a), np.ndim(b))\n",
    "print(np.shape(a), np.shape(b))\n",
    "print(a.size, b.size)"
   ]
  },
  {
   "cell_type": "markdown",
   "metadata": {},
   "source": [
    "7. 정규분포를 따르는 난수를 가지는 (3,2,7) 형태의 배열을 생성."
   ]
  },
  {
   "cell_type": "code",
   "execution_count": 39,
   "metadata": {},
   "outputs": [
    {
     "data": {
      "text/plain": [
       "array([[[-0.51314324,  1.68651147,  0.19187113,  0.21851338,\n",
       "          0.02042964, -1.35968106,  1.07474278],\n",
       "        [ 0.43983493,  0.17439709, -0.91601585,  0.99570194,\n",
       "         -0.27892281, -1.25276837,  1.14308649]],\n",
       "\n",
       "       [[ 0.71650335, -0.97346501,  0.23860854,  2.24339728,\n",
       "         -1.14507645, -0.49673428,  1.77522918],\n",
       "        [ 0.31354509, -0.48476618,  0.70588377,  0.86940295,\n",
       "         -1.75679076,  0.73512007,  1.96809704]],\n",
       "\n",
       "       [[-0.08518937,  0.17076112, -0.27276042,  0.32643172,\n",
       "          0.35442499,  0.69021368,  0.59722694],\n",
       "        [-0.37120276,  1.70795266, -1.42358808, -1.79251748,\n",
       "          0.96392672,  0.92799931,  0.01029203]]])"
      ]
     },
     "execution_count": 39,
     "metadata": {},
     "output_type": "execute_result"
    }
   ],
   "source": [
    "a = np.random.randn(42).reshape(3,2,7)"
   ]
  },
  {
   "cell_type": "markdown",
   "metadata": {},
   "source": [
    "8. 1 ~ 100 사이의 정수 난수를 가지는 (4, 5) 형태의 배열을 생성한 뒤 arr.npy 파일로 저장."
   ]
  },
  {
   "cell_type": "code",
   "execution_count": 42,
   "metadata": {},
   "outputs": [],
   "source": [
    "a = np.random.randint(1, 100, size=(4,5))\n",
    "np.save('arr.npy', a)"
   ]
  },
  {
   "cell_type": "markdown",
   "metadata": {},
   "source": [
    "9. 8번에서 저장한 arr.npy 의 배열을 불러와서 출력."
   ]
  },
  {
   "cell_type": "code",
   "execution_count": 50,
   "metadata": {},
   "outputs": [
    {
     "data": {
      "text/plain": [
       "array([[ 9, 90, 84, 60, 66],\n",
       "       [67,  7, 29, 84, 52],\n",
       "       [80, 79, 48, 16, 23],\n",
       "       [51, 33, 89, 92, 75]])"
      ]
     },
     "execution_count": 50,
     "metadata": {},
     "output_type": "execute_result"
    }
   ],
   "source": [
    "a__ = np.load('arr.npy')\n",
    "a__"
   ]
  },
  {
   "cell_type": "markdown",
   "metadata": {},
   "source": [
    "10. 9번에서 불러온 배열에서 전체 값의 총합, 0번축 기준의 총합, 1번축 기준의 총합을 구하기."
   ]
  },
  {
   "cell_type": "code",
   "execution_count": 56,
   "metadata": {},
   "outputs": [
    {
     "name": "stdout",
     "output_type": "stream",
     "text": [
      "1134\n",
      "[207 209 250 252 216]\n",
      "[309 239 246 340]\n"
     ]
    }
   ],
   "source": [
    "print(np.sum(a__))\n",
    "print(np.sum(a__, axis=0))\n",
    "print(np.sum(a__, axis=1))"
   ]
  },
  {
   "cell_type": "markdown",
   "metadata": {},
   "source": [
    "11. 임의의 Boolean 값을 가지는 (5, 10) 배열을 생성하고 True의 개수를 출력하시오."
   ]
  },
  {
   "cell_type": "code",
   "execution_count": 61,
   "metadata": {},
   "outputs": [
    {
     "data": {
      "text/plain": [
       "array([[False, False, False, False, False, False, False, False, False,\n",
       "        False],\n",
       "       [False, False, False, False, False, False, False, False, False,\n",
       "        False],\n",
       "       [False, False, False, False, False,  True,  True,  True,  True,\n",
       "         True],\n",
       "       [ True,  True,  True,  True,  True,  True,  True,  True,  True,\n",
       "         True],\n",
       "       [ True,  True,  True,  True,  True,  True,  True,  True,  True,\n",
       "         True]])"
      ]
     },
     "execution_count": 61,
     "metadata": {},
     "output_type": "execute_result"
    }
   ],
   "source": [
    "a = np.arange(1, 51).reshape(5,10)\n",
    "a>25"
   ]
  },
  {
   "cell_type": "code",
   "execution_count": 62,
   "metadata": {},
   "outputs": [
    {
     "data": {
      "text/plain": [
       "25"
      ]
     },
     "execution_count": 62,
     "metadata": {},
     "output_type": "execute_result"
    }
   ],
   "source": [
    "np.sum(a>25)"
   ]
  },
  {
   "cell_type": "markdown",
   "metadata": {},
   "source": [
    "12-17. 아래 배열을 생성하고 12번 ~ 17번 문제는 아래 조건으로 생성한 배열을 가지고 푸세요.\n",
    " 0 ~ 29 범위의 정수를 원소로 가지는 (5,6) 의 배열을 생성하고 변수에 저장."
   ]
  },
  {
   "cell_type": "code",
   "execution_count": 65,
   "metadata": {},
   "outputs": [
    {
     "data": {
      "text/plain": [
       "array([[ 0,  1,  2,  3,  4,  5],\n",
       "       [ 6,  7,  8,  9, 10, 11],\n",
       "       [12, 13, 14, 15, 16, 17],\n",
       "       [18, 19, 20, 21, 22, 23],\n",
       "       [24, 25, 26, 27, 28, 29]])"
      ]
     },
     "execution_count": 65,
     "metadata": {},
     "output_type": "execute_result"
    }
   ],
   "source": [
    "z = np.arange(0,30).reshape(5,6)\n",
    "z"
   ]
  },
  {
   "cell_type": "markdown",
   "metadata": {},
   "source": [
    "12. index (1,1), (2,3), (1,5)의 값들 조회"
   ]
  },
  {
   "cell_type": "code",
   "execution_count": 64,
   "metadata": {},
   "outputs": [
    {
     "data": {
      "text/plain": [
       "(7, 15, 11)"
      ]
     },
     "execution_count": 64,
     "metadata": {},
     "output_type": "execute_result"
    }
   ],
   "source": [
    "z[1,1], z[2,3], z[1,5]"
   ]
  },
  {
   "cell_type": "markdown",
   "metadata": {},
   "source": [
    "13. index (1,1), (1,2), (1,3), (2,1), (2,2), (2,3), (3,1), (3,2), (3,3)의 값들을 조회."
   ]
  },
  {
   "cell_type": "code",
   "execution_count": 71,
   "metadata": {},
   "outputs": [
    {
     "data": {
      "text/plain": [
       "array([[ 7,  8,  9],\n",
       "       [13, 14, 15],\n",
       "       [19, 20, 21]])"
      ]
     },
     "execution_count": 71,
     "metadata": {},
     "output_type": "execute_result"
    }
   ],
   "source": [
    "z1 = z[1:4, 1:4]\n",
    "z1"
   ]
  },
  {
   "cell_type": "markdown",
   "metadata": {},
   "source": [
    "14. 13와 같은 index의 값들을 뒤집어서(reversing) 조회."
   ]
  },
  {
   "cell_type": "code",
   "execution_count": 72,
   "metadata": {},
   "outputs": [
    {
     "data": {
      "text/plain": [
       "array([[19, 20, 21],\n",
       "       [13, 14, 15],\n",
       "       [ 7,  8,  9]])"
      ]
     },
     "execution_count": 72,
     "metadata": {},
     "output_type": "execute_result"
    }
   ],
   "source": [
    "z1[::-1]"
   ]
  },
  {
   "cell_type": "markdown",
   "metadata": {},
   "source": [
    "15. 배열에서 15 이상의 원소만 조회해서 그 평균을 출력."
   ]
  },
  {
   "cell_type": "code",
   "execution_count": 80,
   "metadata": {},
   "outputs": [
    {
     "data": {
      "text/plain": [
       "array([15, 16, 17, 18, 19, 20, 21, 22, 23, 24, 25, 26, 27, 28, 29])"
      ]
     },
     "execution_count": 80,
     "metadata": {},
     "output_type": "execute_result"
    }
   ],
   "source": [
    "z2 = z[z>=15]\n",
    "z2"
   ]
  },
  {
   "cell_type": "code",
   "execution_count": 81,
   "metadata": {},
   "outputs": [
    {
     "data": {
      "text/plain": [
       "22.0"
      ]
     },
     "execution_count": 81,
     "metadata": {},
     "output_type": "execute_result"
    }
   ],
   "source": [
    "np.sum(z2)/np.sum(z>=15)"
   ]
  },
  {
   "cell_type": "markdown",
   "metadata": {},
   "source": [
    "16. 배열에서 15이상의 원소들의 index를 조회. (0축 index, 1축 index) 형식으로 출력. \n",
    "    ex: (0,0), (0,1) 식으로 출력"
   ]
  },
  {
   "cell_type": "code",
   "execution_count": 87,
   "metadata": {},
   "outputs": [
    {
     "data": {
      "text/plain": [
       "array([[2, 3],\n",
       "       [2, 4],\n",
       "       [2, 5],\n",
       "       [3, 0],\n",
       "       [3, 1],\n",
       "       [3, 2],\n",
       "       [3, 3],\n",
       "       [3, 4],\n",
       "       [3, 5],\n",
       "       [4, 0],\n",
       "       [4, 1],\n",
       "       [4, 2],\n",
       "       [4, 3],\n",
       "       [4, 4],\n",
       "       [4, 5]], dtype=int64)"
      ]
     },
     "execution_count": 87,
     "metadata": {},
     "output_type": "execute_result"
    }
   ],
   "source": [
    "np.argwhere(z>=15)"
   ]
  },
  {
   "cell_type": "markdown",
   "metadata": {},
   "source": [
    "17. 배열을 axis 1을 기준으로 내림차순으로 정렬. \n",
    "결과\n",
    "[[ 5,  4,  3,  2,  1,  0],\n",
    " [11, 10,  9,  8,  7,  6],\n",
    " [17, 16, 15, 14, 13, 12],\n",
    " [23, 22, 21, 20, 19, 18],\n",
    " [29, 28, 27, 26, 25, 24]]   "
   ]
  },
  {
   "cell_type": "code",
   "execution_count": 109,
   "metadata": {},
   "outputs": [
    {
     "data": {
      "text/plain": [
       "array([[ 5,  4,  3,  2,  1,  0],\n",
       "       [11, 10,  9,  8,  7,  6],\n",
       "       [17, 16, 15, 14, 13, 12],\n",
       "       [23, 22, 21, 20, 19, 18],\n",
       "       [29, 28, 27, 26, 25, 24]])"
      ]
     },
     "execution_count": 109,
     "metadata": {},
     "output_type": "execute_result"
    }
   ],
   "source": [
    "np.fliplr(z)"
   ]
  },
  {
   "cell_type": "markdown",
   "metadata": {},
   "source": [
    "18-21. 아래 배열을 생성하고 18번 ~ 21번 문제는 아래 조건으로 생성한 배열을 가지고 푸세요.\n",
    "(3, 2) shape의 배열을 생성 하시오. "
   ]
  },
  {
   "cell_type": "code",
   "execution_count": 121,
   "metadata": {},
   "outputs": [
    {
     "data": {
      "text/plain": [
       "array([[1, 2],\n",
       "       [3, 4],\n",
       "       [5, 6]])"
      ]
     },
     "execution_count": 121,
     "metadata": {},
     "output_type": "execute_result"
    }
   ],
   "source": [
    "x = np.arange(1, 7).reshape(3,2)\n",
    "x"
   ]
  },
  {
   "cell_type": "markdown",
   "metadata": {},
   "source": [
    "18. 배열의 shape을 (1, 3, 2) 로 변환한 배열을 생성."
   ]
  },
  {
   "cell_type": "code",
   "execution_count": 114,
   "metadata": {},
   "outputs": [
    {
     "data": {
      "text/plain": [
       "array([[[1, 2],\n",
       "        [3, 4],\n",
       "        [5, 6]]])"
      ]
     },
     "execution_count": 114,
     "metadata": {},
     "output_type": "execute_result"
    }
   ],
   "source": [
    "x1 = x.reshape(1,3,2)\n",
    "x1"
   ]
  },
  {
   "cell_type": "markdown",
   "metadata": {},
   "source": [
    "19. 배열의 shape을 (1, 3, 2, 1) 로 변환한 배열을 생성."
   ]
  },
  {
   "cell_type": "code",
   "execution_count": 115,
   "metadata": {},
   "outputs": [
    {
     "data": {
      "text/plain": [
       "array([[[[1],\n",
       "         [2]],\n",
       "\n",
       "        [[3],\n",
       "         [4]],\n",
       "\n",
       "        [[5],\n",
       "         [6]]]])"
      ]
     },
     "execution_count": 115,
     "metadata": {},
     "output_type": "execute_result"
    }
   ],
   "source": [
    "x2 = x.reshape(1,3,2,1)\n",
    "x2"
   ]
  },
  {
   "cell_type": "markdown",
   "metadata": {},
   "source": [
    "20. 배열을 1차원 배열로 변환한 배열을 생성."
   ]
  },
  {
   "cell_type": "code",
   "execution_count": 116,
   "metadata": {},
   "outputs": [
    {
     "data": {
      "text/plain": [
       "array([1, 2, 3, 4, 5, 6])"
      ]
     },
     "execution_count": 116,
     "metadata": {},
     "output_type": "execute_result"
    }
   ],
   "source": [
    "x3 = x.flatten()\n",
    "x3"
   ]
  },
  {
   "cell_type": "markdown",
   "metadata": {},
   "source": [
    "21. 배열의 0번 축에 2개의 값을 추가. (추가된 배열의 shape: (5,2))"
   ]
  },
  {
   "cell_type": "code",
   "execution_count": 128,
   "metadata": {},
   "outputs": [
    {
     "data": {
      "text/plain": [
       "array([[1, 2],\n",
       "       [3, 4],\n",
       "       [5, 6],\n",
       "       [1, 1],\n",
       "       [2, 2]])"
      ]
     },
     "execution_count": 128,
     "metadata": {},
     "output_type": "execute_result"
    }
   ],
   "source": [
    "x4 = np.append(x, [[1,1], [2,2]], axis=0)\n",
    "x4.reshape(5,2)"
   ]
  },
  {
   "cell_type": "markdown",
   "metadata": {},
   "source": [
    "22-28. 다음 배열은 5명 학생의 국어, 영어, 수학, 과학 시험 점수이다. 행(axis=0)은 각 학생의 시험점수이고 컬럼(axis=1)은 과목을 가리킨다."
   ]
  },
  {
   "cell_type": "code",
   "execution_count": 151,
   "metadata": {},
   "outputs": [],
   "source": [
    "scores = [\n",
    " [ 60,  80,  60, 100],\n",
    " [ 80,  80,  90,  90],\n",
    " [ 90,  60,  70,  50],\n",
    " [ 40,  80,  60,  50],\n",
    " [ 60,  50,  70, 100]\n",
    "]"
   ]
  },
  {
   "cell_type": "code",
   "execution_count": 144,
   "metadata": {},
   "outputs": [
    {
     "data": {
      "text/plain": [
       "(5, 4)"
      ]
     },
     "execution_count": 144,
     "metadata": {},
     "output_type": "execute_result"
    }
   ],
   "source": [
    "np.shape(scores)"
   ]
  },
  {
   "cell_type": "markdown",
   "metadata": {},
   "source": [
    "22. 각 과목별 평균점수를 조회."
   ]
  },
  {
   "cell_type": "code",
   "execution_count": 159,
   "metadata": {},
   "outputs": [
    {
     "name": "stdout",
     "output_type": "stream",
     "text": [
      "[66. 70. 70. 78.]\n"
     ]
    }
   ],
   "source": [
    "과목 = np.mean(scores, axis=0)\n",
    "print(과목)"
   ]
  },
  {
   "cell_type": "markdown",
   "metadata": {},
   "source": [
    "23. 각 과목별 평균 점수를 성적 배열에 추가. "
   ]
  },
  {
   "cell_type": "code",
   "execution_count": 162,
   "metadata": {},
   "outputs": [
    {
     "data": {
      "text/plain": [
       "array([[ 60.,  80.,  60., 100.],\n",
       "       [ 80.,  80.,  90.,  90.],\n",
       "       [ 90.,  60.,  70.,  50.],\n",
       "       [ 40.,  80.,  60.,  50.],\n",
       "       [ 60.,  50.,  70., 100.],\n",
       "       [ 66.,  70.,  70.,  78.]])"
      ]
     },
     "execution_count": 162,
     "metadata": {},
     "output_type": "execute_result"
    }
   ],
   "source": [
    "scores_1 = np.append(scores, 과목)\n",
    "scores_1.reshape(6,4)"
   ]
  },
  {
   "cell_type": "markdown",
   "metadata": {},
   "source": [
    "24. 각 학생들의 평균 점수 조회"
   ]
  },
  {
   "cell_type": "code",
   "execution_count": 163,
   "metadata": {},
   "outputs": [
    {
     "data": {
      "text/plain": [
       "array([75. , 85. , 67.5, 57.5, 70. ])"
      ]
     },
     "execution_count": 163,
     "metadata": {},
     "output_type": "execute_result"
    }
   ],
   "source": [
    "학생평균 = np.mean(scores, axis=1)\n",
    "학생평균"
   ]
  },
  {
   "cell_type": "markdown",
   "metadata": {},
   "source": [
    "25. 과목별로 몇번째 학생의 성적이 가장 높은지 조회"
   ]
  },
  {
   "cell_type": "code",
   "execution_count": 169,
   "metadata": {},
   "outputs": [
    {
     "data": {
      "text/plain": [
       "array([4, 3, 1, 2, 4], dtype=int64)"
      ]
     },
     "execution_count": 169,
     "metadata": {},
     "output_type": "execute_result"
    }
   ],
   "source": [
    "max_score = np.argmax(scores, axis=1)\n",
    "max_score+1"
   ]
  },
  {
   "cell_type": "markdown",
   "metadata": {},
   "source": [
    "26. 학생별로 어떤 과목의 점수가 가장 낮은지 조회."
   ]
  },
  {
   "cell_type": "code",
   "execution_count": 171,
   "metadata": {},
   "outputs": [
    {
     "data": {
      "text/plain": [
       "array([4, 5, 1, 3], dtype=int64)"
      ]
     },
     "execution_count": 171,
     "metadata": {},
     "output_type": "execute_result"
    }
   ],
   "source": [
    "min_score = np.argmin(scores, axis=0)\n",
    "min_score+1"
   ]
  },
  {
   "cell_type": "markdown",
   "metadata": {},
   "source": [
    "27. 각 과목별로 편차가 가장 적은 과목과 가장 큰 과목을 조회"
   ]
  },
  {
   "cell_type": "code",
   "execution_count": 176,
   "metadata": {},
   "outputs": [
    {
     "data": {
      "text/plain": [
       "(4, 1)"
      ]
     },
     "execution_count": 176,
     "metadata": {},
     "output_type": "execute_result"
    }
   ],
   "source": [
    "편차 = np.std(scores, axis=1)\n",
    "np.argmax(편차), np.argmin(편차)"
   ]
  },
  {
   "cell_type": "markdown",
   "metadata": {},
   "source": [
    "28. 학생들 중 과목간의 점수의 편차가 가장 적은 학생을 조회"
   ]
  },
  {
   "cell_type": "code",
   "execution_count": 177,
   "metadata": {},
   "outputs": [
    {
     "data": {
      "text/plain": [
       "(3, 2)"
      ]
     },
     "execution_count": 177,
     "metadata": {},
     "output_type": "execute_result"
    }
   ],
   "source": [
    "학생편차 = np.std(scores, axis=0)\n",
    "np.argmax(학생편차), np.argmin(학생편차)"
   ]
  },
  {
   "cell_type": "markdown",
   "metadata": {},
   "source": [
    "29-30 다음 두 배열을 가지고 29,30번 문제를 푸세요."
   ]
  },
  {
   "cell_type": "code",
   "execution_count": 179,
   "metadata": {},
   "outputs": [],
   "source": [
    "A = [\n",
    "  [1,2,3],\n",
    "  [4,5,6],\n",
    "  [7,8,9]\n",
    "]\n",
    "\n",
    "B = [\n",
    "  [10,20,30],\n",
    "  [40,50,60],\n",
    "  [70,80,90]\n",
    "]"
   ]
  },
  {
   "cell_type": "markdown",
   "metadata": {},
   "source": [
    "29. 두 배열을 수직방향으로 합치기. "
   ]
  },
  {
   "cell_type": "code",
   "execution_count": 181,
   "metadata": {},
   "outputs": [
    {
     "data": {
      "text/plain": [
       "array([[ 1,  2,  3],\n",
       "       [ 4,  5,  6],\n",
       "       [ 7,  8,  9],\n",
       "       [10, 20, 30],\n",
       "       [40, 50, 60],\n",
       "       [70, 80, 90]])"
      ]
     },
     "execution_count": 181,
     "metadata": {},
     "output_type": "execute_result"
    }
   ],
   "source": [
    "AB = np.concatenate([A, B], axis=0)\n",
    "AB"
   ]
  },
  {
   "cell_type": "markdown",
   "metadata": {},
   "source": [
    "30. 29에서 합친 배열을 수평방향으로 index 2를 기준으로 나누기."
   ]
  },
  {
   "cell_type": "code",
   "execution_count": 183,
   "metadata": {},
   "outputs": [
    {
     "data": {
      "text/plain": [
       "[array([[1, 2, 3],\n",
       "        [4, 5, 6]]),\n",
       " array([[ 7,  8,  9],\n",
       "        [10, 20, 30],\n",
       "        [40, 50, 60],\n",
       "        [70, 80, 90]])]"
      ]
     },
     "execution_count": 183,
     "metadata": {},
     "output_type": "execute_result"
    }
   ],
   "source": [
    "C = np.split(AB, [2])\n",
    "C"
   ]
  },
  {
   "cell_type": "markdown",
   "metadata": {},
   "source": [
    "31-32 다움은 7명의 학생의 점수이다. 배열을 생성한뒤 33번 ~ 35번 문제를 푸세요."
   ]
  },
  {
   "cell_type": "code",
   "execution_count": 184,
   "metadata": {},
   "outputs": [],
   "source": [
    "s = [10, 50, 75, 20, 70, 50, 80]"
   ]
  },
  {
   "cell_type": "markdown",
   "metadata": {},
   "source": [
    "31. 다음 배열에서 평균 이상의 점수를 받은 학생이 몇명인지 조회"
   ]
  },
  {
   "cell_type": "code",
   "execution_count": 187,
   "metadata": {},
   "outputs": [
    {
     "data": {
      "text/plain": [
       "3"
      ]
     },
     "execution_count": 187,
     "metadata": {},
     "output_type": "execute_result"
    }
   ],
   "source": [
    "avg = np.mean(s)\n",
    "avg\n",
    "np.sum(s>=avg)"
   ]
  },
  {
   "cell_type": "markdown",
   "metadata": {},
   "source": [
    "32. 다음 배열에서 평균 이상의 점수를 받은 학생이 전체 학생 중 몇명인지 비율을 조회."
   ]
  },
  {
   "cell_type": "code",
   "execution_count": 188,
   "metadata": {},
   "outputs": [
    {
     "data": {
      "text/plain": [
       "0.42857142857142855"
      ]
     },
     "execution_count": 188,
     "metadata": {},
     "output_type": "execute_result"
    }
   ],
   "source": [
    "np.sum(s>=avg)/7"
   ]
  },
  {
   "cell_type": "markdown",
   "metadata": {},
   "source": [
    "33-35 다음 배열은 스무명의 사람들의 연봉의 표본이다. (단위 만원) 배열을 생성한뒤 33번 ~ 35번 문제를 푸세요."
   ]
  },
  {
   "cell_type": "code",
   "execution_count": 207,
   "metadata": {},
   "outputs": [
    {
     "ename": "TypeError",
     "evalue": "'list' object is not callable",
     "output_type": "error",
     "traceback": [
      "\u001b[1;31m---------------------------------------------------------------------------\u001b[0m",
      "\u001b[1;31mTypeError\u001b[0m                                 Traceback (most recent call last)",
      "\u001b[1;32m<ipython-input-207-a6be58e0a93e>\u001b[0m in \u001b[0;36m<module>\u001b[1;34m\u001b[0m\n\u001b[0;32m      1\u001b[0m \u001b[0msalary\u001b[0m \u001b[1;33m=\u001b[0m \u001b[1;33m[\u001b[0m\u001b[1;36m7650\u001b[0m\u001b[1;33m,\u001b[0m \u001b[1;36m4210\u001b[0m\u001b[1;33m,\u001b[0m \u001b[1;36m7260\u001b[0m\u001b[1;33m,\u001b[0m \u001b[1;36m8020\u001b[0m\u001b[1;33m,\u001b[0m \u001b[1;36m8200\u001b[0m\u001b[1;33m,\u001b[0m \u001b[1;36m8740\u001b[0m\u001b[1;33m,\u001b[0m \u001b[1;36m4960\u001b[0m\u001b[1;33m,\u001b[0m \u001b[1;36m1420\u001b[0m\u001b[1;33m,\u001b[0m \u001b[1;36m5410\u001b[0m\u001b[1;33m,\u001b[0m \u001b[1;36m9770\u001b[0m\u001b[1;33m,\u001b[0m \u001b[1;36m2370\u001b[0m\u001b[1;33m,\u001b[0m \u001b[1;36m7960\u001b[0m\u001b[1;33m,\u001b[0m \u001b[1;36m8960\u001b[0m\u001b[1;33m,\u001b[0m \u001b[1;36m2660\u001b[0m\u001b[1;33m,\u001b[0m \u001b[1;36m7940\u001b[0m\u001b[1;33m,\u001b[0m \u001b[1;36m5120\u001b[0m\u001b[1;33m,\u001b[0m \u001b[1;36m7100\u001b[0m\u001b[1;33m,\u001b[0m \u001b[1;36m5220\u001b[0m\u001b[1;33m,\u001b[0m \u001b[1;36m8810\u001b[0m\u001b[1;33m,\u001b[0m \u001b[1;36m253000\u001b[0m\u001b[1;33m]\u001b[0m\u001b[1;33m\u001b[0m\u001b[1;33m\u001b[0m\u001b[0m\n\u001b[1;32m----> 2\u001b[1;33m \u001b[0msalary\u001b[0m \u001b[1;33m=\u001b[0m \u001b[0mnp\u001b[0m\u001b[1;33m.\u001b[0m\u001b[0marray\u001b[0m\u001b[1;33m(\u001b[0m\u001b[0msalary\u001b[0m\u001b[1;33m)\u001b[0m\u001b[1;33m\u001b[0m\u001b[1;33m\u001b[0m\u001b[0m\n\u001b[0m",
      "\u001b[1;31mTypeError\u001b[0m: 'list' object is not callable"
     ]
    }
   ],
   "source": [
    "salary = [7650, 4210, 7260, 8020, 8200, 8740, 4960, 1420, 5410, 9770, 2370, 7960, 8960, 2660, 7940, 5120, 7100, 5220, 8810, 253000]\n",
    "salary = np.array(salary)\n",
    "\n",
    "# 왜 리스트에서 array로 변환이 안되는지 모르겠습니다ㅠㅜㅠ덕분에 아래 문제들도 실행이 안되네요.....ㅠ"
   ]
  },
  {
   "cell_type": "markdown",
   "metadata": {},
   "source": [
    " 33. 위 배열에서 상위 75% 는 얼마 이상을 받는지 조회."
   ]
  },
  {
   "cell_type": "code",
   "execution_count": 205,
   "metadata": {},
   "outputs": [
    {
     "ename": "TypeError",
     "evalue": "'list' object is not callable",
     "output_type": "error",
     "traceback": [
      "\u001b[1;31m---------------------------------------------------------------------------\u001b[0m",
      "\u001b[1;31mTypeError\u001b[0m                                 Traceback (most recent call last)",
      "\u001b[1;32m<ipython-input-205-39da4f1bc0ee>\u001b[0m in \u001b[0;36m<module>\u001b[1;34m\u001b[0m\n\u001b[1;32m----> 1\u001b[1;33m \u001b[0mnp\u001b[0m\u001b[1;33m.\u001b[0m\u001b[0mquantile\u001b[0m\u001b[1;33m(\u001b[0m\u001b[0msalary\u001b[0m\u001b[1;33m,\u001b[0m \u001b[0mq\u001b[0m\u001b[1;33m=\u001b[0m\u001b[1;36m0.75\u001b[0m\u001b[1;33m)\u001b[0m\u001b[1;33m\u001b[0m\u001b[1;33m\u001b[0m\u001b[0m\n\u001b[0m",
      "\u001b[1;32m<__array_function__ internals>\u001b[0m in \u001b[0;36mquantile\u001b[1;34m(*args, **kwargs)\u001b[0m\n",
      "\u001b[1;32m~\\Anaconda3\\lib\\site-packages\\numpy\\lib\\function_base.py\u001b[0m in \u001b[0;36mquantile\u001b[1;34m(a, q, axis, out, overwrite_input, interpolation, keepdims)\u001b[0m\n\u001b[0;32m   3842\u001b[0m     \u001b[1;32mif\u001b[0m \u001b[1;32mnot\u001b[0m \u001b[0m_quantile_is_valid\u001b[0m\u001b[1;33m(\u001b[0m\u001b[0mq\u001b[0m\u001b[1;33m)\u001b[0m\u001b[1;33m:\u001b[0m\u001b[1;33m\u001b[0m\u001b[1;33m\u001b[0m\u001b[0m\n\u001b[0;32m   3843\u001b[0m         \u001b[1;32mraise\u001b[0m \u001b[0mValueError\u001b[0m\u001b[1;33m(\u001b[0m\u001b[1;34m\"Quantiles must be in the range [0, 1]\"\u001b[0m\u001b[1;33m)\u001b[0m\u001b[1;33m\u001b[0m\u001b[1;33m\u001b[0m\u001b[0m\n\u001b[1;32m-> 3844\u001b[1;33m     return _quantile_unchecked(\n\u001b[0m\u001b[0;32m   3845\u001b[0m         a, q, axis, out, overwrite_input, interpolation, keepdims)\n\u001b[0;32m   3846\u001b[0m \u001b[1;33m\u001b[0m\u001b[0m\n",
      "\u001b[1;32m~\\Anaconda3\\lib\\site-packages\\numpy\\lib\\function_base.py\u001b[0m in \u001b[0;36m_quantile_unchecked\u001b[1;34m(a, q, axis, out, overwrite_input, interpolation, keepdims)\u001b[0m\n\u001b[0;32m   3849\u001b[0m                         interpolation='linear', keepdims=False):\n\u001b[0;32m   3850\u001b[0m     \u001b[1;34m\"\"\"Assumes that q is in [0, 1], and is an ndarray\"\"\"\u001b[0m\u001b[1;33m\u001b[0m\u001b[1;33m\u001b[0m\u001b[0m\n\u001b[1;32m-> 3851\u001b[1;33m     r, k = _ureduce(a, func=_quantile_ureduce_func, q=q, axis=axis, out=out,\n\u001b[0m\u001b[0;32m   3852\u001b[0m                     \u001b[0moverwrite_input\u001b[0m\u001b[1;33m=\u001b[0m\u001b[0moverwrite_input\u001b[0m\u001b[1;33m,\u001b[0m\u001b[1;33m\u001b[0m\u001b[1;33m\u001b[0m\u001b[0m\n\u001b[0;32m   3853\u001b[0m                     interpolation=interpolation)\n",
      "\u001b[1;32m~\\Anaconda3\\lib\\site-packages\\numpy\\lib\\function_base.py\u001b[0m in \u001b[0;36m_ureduce\u001b[1;34m(a, func, **kwargs)\u001b[0m\n\u001b[0;32m   3427\u001b[0m         \u001b[0mkeepdim\u001b[0m \u001b[1;33m=\u001b[0m \u001b[1;33m(\u001b[0m\u001b[1;36m1\u001b[0m\u001b[1;33m,\u001b[0m\u001b[1;33m)\u001b[0m \u001b[1;33m*\u001b[0m \u001b[0ma\u001b[0m\u001b[1;33m.\u001b[0m\u001b[0mndim\u001b[0m\u001b[1;33m\u001b[0m\u001b[1;33m\u001b[0m\u001b[0m\n\u001b[0;32m   3428\u001b[0m \u001b[1;33m\u001b[0m\u001b[0m\n\u001b[1;32m-> 3429\u001b[1;33m     \u001b[0mr\u001b[0m \u001b[1;33m=\u001b[0m \u001b[0mfunc\u001b[0m\u001b[1;33m(\u001b[0m\u001b[0ma\u001b[0m\u001b[1;33m,\u001b[0m \u001b[1;33m**\u001b[0m\u001b[0mkwargs\u001b[0m\u001b[1;33m)\u001b[0m\u001b[1;33m\u001b[0m\u001b[1;33m\u001b[0m\u001b[0m\n\u001b[0m\u001b[0;32m   3430\u001b[0m     \u001b[1;32mreturn\u001b[0m \u001b[0mr\u001b[0m\u001b[1;33m,\u001b[0m \u001b[0mkeepdim\u001b[0m\u001b[1;33m\u001b[0m\u001b[1;33m\u001b[0m\u001b[0m\n\u001b[0;32m   3431\u001b[0m \u001b[1;33m\u001b[0m\u001b[0m\n",
      "\u001b[1;32m~\\Anaconda3\\lib\\site-packages\\numpy\\lib\\function_base.py\u001b[0m in \u001b[0;36m_quantile_ureduce_func\u001b[1;34m(a, q, axis, out, overwrite_input, interpolation, keepdims)\u001b[0m\n\u001b[0;32m   3915\u001b[0m             \"'midpoint', or 'nearest'\")\n\u001b[0;32m   3916\u001b[0m \u001b[1;33m\u001b[0m\u001b[0m\n\u001b[1;32m-> 3917\u001b[1;33m     \u001b[0mn\u001b[0m \u001b[1;33m=\u001b[0m \u001b[0mnp\u001b[0m\u001b[1;33m.\u001b[0m\u001b[0marray\u001b[0m\u001b[1;33m(\u001b[0m\u001b[1;32mFalse\u001b[0m\u001b[1;33m,\u001b[0m \u001b[0mdtype\u001b[0m\u001b[1;33m=\u001b[0m\u001b[0mbool\u001b[0m\u001b[1;33m)\u001b[0m  \u001b[1;31m# check for nan's flag\u001b[0m\u001b[1;33m\u001b[0m\u001b[1;33m\u001b[0m\u001b[0m\n\u001b[0m\u001b[0;32m   3918\u001b[0m     \u001b[1;32mif\u001b[0m \u001b[0mnp\u001b[0m\u001b[1;33m.\u001b[0m\u001b[0missubdtype\u001b[0m\u001b[1;33m(\u001b[0m\u001b[0mindices\u001b[0m\u001b[1;33m.\u001b[0m\u001b[0mdtype\u001b[0m\u001b[1;33m,\u001b[0m \u001b[0mnp\u001b[0m\u001b[1;33m.\u001b[0m\u001b[0minteger\u001b[0m\u001b[1;33m)\u001b[0m\u001b[1;33m:\u001b[0m  \u001b[1;31m# take the points along axis\u001b[0m\u001b[1;33m\u001b[0m\u001b[1;33m\u001b[0m\u001b[0m\n\u001b[0;32m   3919\u001b[0m         \u001b[1;31m# Check if the array contains any nan's\u001b[0m\u001b[1;33m\u001b[0m\u001b[1;33m\u001b[0m\u001b[1;33m\u001b[0m\u001b[0m\n",
      "\u001b[1;31mTypeError\u001b[0m: 'list' object is not callable"
     ]
    }
   ],
   "source": [
    "np.quantile(salary, q=0.75)"
   ]
  },
  {
   "cell_type": "markdown",
   "metadata": {},
   "source": [
    "34. 위 배열에서 하위 25%는 얼마 이하를 받는지 조회."
   ]
  },
  {
   "cell_type": "code",
   "execution_count": null,
   "metadata": {},
   "outputs": [],
   "source": [
    "np.quantile(salary, q=0.25)"
   ]
  },
  {
   "cell_type": "markdown",
   "metadata": {},
   "source": [
    "35. 위 배열의 평균과 중앙값을 구하고 배열의 대푯값으로 어떤 것을 사용하는 것이 맞는지 적으세요."
   ]
  },
  {
   "cell_type": "code",
   "execution_count": null,
   "metadata": {},
   "outputs": [],
   "source": [
    "avg = np.mean(salary)\n",
    "median = np.median(salary)\n",
    "\n",
    "중앙값"
   ]
  }
 ],
 "metadata": {
  "kernelspec": {
   "display_name": "Python 3",
   "language": "python",
   "name": "python3"
  },
  "language_info": {
   "codemirror_mode": {
    "name": "ipython",
    "version": 3
   },
   "file_extension": ".py",
   "mimetype": "text/x-python",
   "name": "python",
   "nbconvert_exporter": "python",
   "pygments_lexer": "ipython3",
   "version": "3.8.5"
  }
 },
 "nbformat": 4,
 "nbformat_minor": 4
}
